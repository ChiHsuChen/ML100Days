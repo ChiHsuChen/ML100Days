{
  "nbformat": 4,
  "nbformat_minor": 0,
  "metadata": {
    "kernelspec": {
      "display_name": "Python 3",
      "language": "python",
      "name": "python3"
    },
    "language_info": {
      "codemirror_mode": {
        "name": "ipython",
        "version": 3
      },
      "file_extension": ".py",
      "mimetype": "text/x-python",
      "name": "python",
      "nbconvert_exporter": "python",
      "pygments_lexer": "ipython3",
      "version": "3.6.3"
    },
    "colab": {
      "name": "Day_040_HW.ipynb",
      "provenance": [],
      "collapsed_sections": []
    }
  },
  "cells": [
    {
      "cell_type": "code",
      "metadata": {
        "id": "4UzrMMQIopEE",
        "colab_type": "code",
        "colab": {}
      },
      "source": [
        "import numpy as np\n",
        "import matplotlib.pyplot as plt\n",
        "from sklearn import datasets, linear_model\n",
        "from sklearn.model_selection import train_test_split\n",
        "from sklearn.metrics import mean_squared_error, r2_score"
      ],
      "execution_count": 11,
      "outputs": []
    },
    {
      "cell_type": "code",
      "metadata": {
        "id": "2-uxAFUEopEJ",
        "colab_type": "code",
        "colab": {}
      },
      "source": [
        "# 讀取糖尿病資料集\n",
        "diabetes = datasets.load_diabetes()\n",
        "\n",
        "# 切分訓練集/測試集\n",
        "x_train, x_test, y_train, y_test = train_test_split(diabetes.data, diabetes.target, test_size=0.2, random_state=4)\n",
        "\n",
        "# 建立一個線性回歸模型\n",
        "regr = linear_model.LinearRegression()\n",
        "\n",
        "# 將訓練資料丟進去模型訓練\n",
        "regr.fit(x_train, y_train)\n",
        "\n",
        "# 將測試資料丟進模型得到預測結果\n",
        "y_pred = regr.predict(x_test)"
      ],
      "execution_count": 12,
      "outputs": []
    },
    {
      "cell_type": "code",
      "metadata": {
        "id": "4UlrpML8opEP",
        "colab_type": "code",
        "colab": {
          "base_uri": "https://localhost:8080/",
          "height": 52
        },
        "outputId": "bc236abb-81a1-4ab6-bac3-7426bd391832"
      },
      "source": [
        "print(regr.coef_)"
      ],
      "execution_count": 13,
      "outputs": [
        {
          "output_type": "stream",
          "text": [
            "[  33.40877011 -292.24672884  481.07153405  369.06269614 -966.37849405\n",
            "  589.81383056  232.61924401  288.3263166   802.72704593   37.81285219]\n"
          ],
          "name": "stdout"
        }
      ]
    },
    {
      "cell_type": "code",
      "metadata": {
        "id": "0i3B5YSJopEV",
        "colab_type": "code",
        "colab": {
          "base_uri": "https://localhost:8080/",
          "height": 35
        },
        "outputId": "06583b72-b8e1-4715-9ef0-498dd1bcf967"
      },
      "source": [
        "# 預測值與實際值的差距，使用 MSE\n",
        "print(\"Mean squared error: %.2f\"\n",
        "      % mean_squared_error(y_test, y_pred))"
      ],
      "execution_count": 14,
      "outputs": [
        {
          "output_type": "stream",
          "text": [
            "Mean squared error: 2939.42\n"
          ],
          "name": "stdout"
        }
      ]
    },
    {
      "cell_type": "markdown",
      "metadata": {
        "id": "euNPLvVDopEY",
        "colab_type": "text"
      },
      "source": [
        "### LASSO"
      ]
    },
    {
      "cell_type": "code",
      "metadata": {
        "id": "DAd5nFO4opEY",
        "colab_type": "code",
        "colab": {}
      },
      "source": [
        "# 讀取糖尿病資料集\n",
        "diabetes = datasets.load_diabetes()\n",
        "\n",
        "# 切分訓練集/測試集\n",
        "x_train, x_test, y_train, y_test = train_test_split(diabetes.data, diabetes.target, test_size=0.2, random_state=4)\n",
        "\n",
        "# 建立一個線性回歸模型\n",
        "lasso = linear_model.Lasso(alpha=1.0)\n",
        "\n",
        "# 將訓練資料丟進去模型訓練\n",
        "lasso.fit(x_train, y_train)\n",
        "\n",
        "# 將測試資料丟進模型得到預測結果\n",
        "y_pred = lasso.predict(x_test)"
      ],
      "execution_count": 15,
      "outputs": []
    },
    {
      "cell_type": "code",
      "metadata": {
        "id": "UTnfP5bMopEc",
        "colab_type": "code",
        "colab": {
          "base_uri": "https://localhost:8080/",
          "height": 69
        },
        "outputId": "13b90638-a448-44fb-dc04-145fca5655af"
      },
      "source": [
        "# 印出各特徵對應的係數，可以看到許多係數都變成 0，Lasso Regression 的確可以做特徵選取\n",
        "lasso.coef_"
      ],
      "execution_count": 16,
      "outputs": [
        {
          "output_type": "execute_result",
          "data": {
            "text/plain": [
              "array([  0.        ,  -0.        , 321.203877  ,  57.74744332,\n",
              "         0.        ,   0.        ,  -0.        ,   0.        ,\n",
              "       332.41817196,   0.        ])"
            ]
          },
          "metadata": {
            "tags": []
          },
          "execution_count": 16
        }
      ]
    },
    {
      "cell_type": "code",
      "metadata": {
        "id": "rlP3zsLSopEj",
        "colab_type": "code",
        "colab": {
          "base_uri": "https://localhost:8080/",
          "height": 35
        },
        "outputId": "bf32c2e3-f28e-4eee-a53a-38306a2ec1e9"
      },
      "source": [
        "# 預測值與實際值的差距，使用 MSE\n",
        "print(\"Mean squared error: %.2f\"\n",
        "      % mean_squared_error(y_test, y_pred))"
      ],
      "execution_count": 17,
      "outputs": [
        {
          "output_type": "stream",
          "text": [
            "Mean squared error: 3505.84\n"
          ],
          "name": "stdout"
        }
      ]
    },
    {
      "cell_type": "markdown",
      "metadata": {
        "id": "0CSLHmiYopEv",
        "colab_type": "text"
      },
      "source": [
        "### Ridge"
      ]
    },
    {
      "cell_type": "code",
      "metadata": {
        "id": "plh9qlATopEw",
        "colab_type": "code",
        "colab": {}
      },
      "source": [
        "# 讀取糖尿病資料集\n",
        "diabetes = datasets.load_diabetes()\n",
        "\n",
        "# 切分訓練集/測試集\n",
        "x_train, x_test, y_train, y_test = train_test_split(diabetes.data, diabetes.target, test_size=0.2, random_state=4)\n",
        "\n",
        "# 建立一個線性回歸模型\n",
        "ridge = linear_model.Ridge(alpha=1.0)\n",
        "\n",
        "# 將訓練資料丟進去模型訓練\n",
        "ridge.fit(x_train, y_train)\n",
        "\n",
        "# 將測試資料丟進模型得到預測結果\n",
        "y_pred = regr.predict(x_test)"
      ],
      "execution_count": 18,
      "outputs": []
    },
    {
      "cell_type": "code",
      "metadata": {
        "id": "ssgHB_NiopE0",
        "colab_type": "code",
        "colab": {
          "base_uri": "https://localhost:8080/",
          "height": 52
        },
        "outputId": "c2c5a9e9-e8ee-4bcc-f39e-f727ee12d971"
      },
      "source": [
        "# 印出 Ridge 的參數，可以很明顯看到比起 Linear Regression，參數的數值都明顯小了許多\n",
        "print(ridge.coef_)"
      ],
      "execution_count": 19,
      "outputs": [
        {
          "output_type": "stream",
          "text": [
            "[  48.8125786   -85.49511577  270.22532535  201.91767903   17.41308665\n",
            "  -19.04346706 -136.47737574  122.26503311  247.60074795   95.59855598]\n"
          ],
          "name": "stdout"
        }
      ]
    },
    {
      "cell_type": "code",
      "metadata": {
        "id": "UYndscbOopE3",
        "colab_type": "code",
        "colab": {
          "base_uri": "https://localhost:8080/",
          "height": 35
        },
        "outputId": "fa5c9c8f-3b45-43e5-a5b1-04bcf45fe8ee"
      },
      "source": [
        "# 預測值與實際值的差距，使用 MSE\n",
        "print(\"Mean squared error: %.2f\"\n",
        "      % mean_squared_error(y_test, y_pred))"
      ],
      "execution_count": 20,
      "outputs": [
        {
          "output_type": "stream",
          "text": [
            "Mean squared error: 2939.42\n"
          ],
          "name": "stdout"
        }
      ]
    },
    {
      "cell_type": "markdown",
      "metadata": {
        "id": "1TvaGdukopE5",
        "colab_type": "text"
      },
      "source": [
        "可以看見 LASSO 與 Ridge 的結果並沒有比原本的線性回歸來得好，\n",
        "這是因為目標函數被加上了正規化函數，讓模型不能過於複雜，相當於限制模型擬和資料的能力。因此若沒有發現 Over-fitting 的情況，是可以不需要一開始就加上太強的正規化的。"
      ]
    },
    {
      "cell_type": "markdown",
      "metadata": {
        "id": "Lk5yB-1qopE5",
        "colab_type": "text"
      },
      "source": [
        "## 練習時間"
      ]
    },
    {
      "cell_type": "markdown",
      "metadata": {
        "id": "DjM_TUYYopE6",
        "colab_type": "text"
      },
      "source": [
        "請使用其他資料集 (boston, wine)，並調整不同的 alpha 來觀察模型訓練的情形。"
      ]
    },
    {
      "cell_type": "code",
      "metadata": {
        "id": "WvC8mwQzopE6",
        "colab_type": "code",
        "colab": {}
      },
      "source": [
        "# 讀取wine資料集\n",
        "wine = datasets.load_wine()\n",
        "\n",
        "# 切分訓練集/測試集\n",
        "x_train, x_test, y_train, y_test = train_test_split(wine.data, wine.target, test_size=0.2, random_state=4)\n",
        "\n",
        "# 建立一個線性回歸模型\n",
        "ridge = linear_model.Ridge(alpha=2.0)\n",
        "\n",
        "# 將訓練資料丟進去模型訓練\n",
        "ridge.fit(x_train, y_train)\n",
        "\n",
        "# 將測試資料丟進模型得到預測結果\n",
        "y_pred = ridge.predict(x_test)"
      ],
      "execution_count": 23,
      "outputs": []
    },
    {
      "cell_type": "code",
      "metadata": {
        "id": "9Fksia1zEARV",
        "colab_type": "code",
        "colab": {
          "base_uri": "https://localhost:8080/",
          "height": 35
        },
        "outputId": "b7a79515-d6b5-474f-f863-25955fd9f87e"
      },
      "source": [
        "# 預測值與實際值的差距，使用 MSE\n",
        "print(\"Mean squared error: %.2f\"\n",
        "      % mean_squared_error(y_test, y_pred))"
      ],
      "execution_count": 24,
      "outputs": [
        {
          "output_type": "stream",
          "text": [
            "Mean squared error: 0.07\n"
          ],
          "name": "stdout"
        }
      ]
    }
  ]
}