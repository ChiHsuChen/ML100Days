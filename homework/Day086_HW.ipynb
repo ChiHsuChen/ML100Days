{
  "nbformat": 4,
  "nbformat_minor": 0,
  "metadata": {
    "kernelspec": {
      "display_name": "Python 3",
      "language": "python",
      "name": "python3"
    },
    "language_info": {
      "codemirror_mode": {
        "name": "ipython",
        "version": 3
      },
      "file_extension": ".py",
      "mimetype": "text/x-python",
      "name": "python",
      "nbconvert_exporter": "python",
      "pygments_lexer": "ipython3",
      "version": "3.6.5"
    },
    "colab": {
      "name": "Day086_HW.ipynb",
      "provenance": [],
      "collapsed_sections": []
    }
  },
  "cells": [
    {
      "cell_type": "markdown",
      "metadata": {
        "id": "hi4FmWT5zXFh",
        "colab_type": "text"
      },
      "source": [
        "## Work\n",
        "1. 試比較 save_best_only 與否的差異\n",
        "2. 請僅存入將 save_weights_only 設定為 True, 並嘗試 reset ipynb 並將模型與權重重新建回並預測 x_test"
      ]
    },
    {
      "cell_type": "code",
      "metadata": {
        "id": "LN38no8RzXFj",
        "colab_type": "code",
        "colab": {}
      },
      "source": [
        "import os\n",
        "import keras\n",
        "\n",
        "# Disable GPU\n",
        "os.environ[\"CUDA_VISIBLE_DEVICES\"] = \"\""
      ],
      "execution_count": 1,
      "outputs": []
    },
    {
      "cell_type": "code",
      "metadata": {
        "id": "9Tt_PykTzXFn",
        "colab_type": "code",
        "colab": {
          "base_uri": "https://localhost:8080/",
          "height": 52
        },
        "outputId": "ad607d9f-3125-4119-9837-a66a7aa7f4a0"
      },
      "source": [
        "train, test = keras.datasets.cifar10.load_data()"
      ],
      "execution_count": 2,
      "outputs": [
        {
          "output_type": "stream",
          "text": [
            "Downloading data from https://www.cs.toronto.edu/~kriz/cifar-10-python.tar.gz\n",
            "170500096/170498071 [==============================] - 11s 0us/step\n"
          ],
          "name": "stdout"
        }
      ]
    },
    {
      "cell_type": "code",
      "metadata": {
        "id": "dhtwLXWGzXFq",
        "colab_type": "code",
        "colab": {}
      },
      "source": [
        "## 資料前處理\n",
        "def preproc_x(x, flatten=True):\n",
        "    x = x / 255.\n",
        "    if flatten:\n",
        "        x = x.reshape((len(x), -1))\n",
        "    return x\n",
        "\n",
        "def preproc_y(y, num_classes=10):\n",
        "    if y.shape[-1] == 1:\n",
        "        y = keras.utils.to_categorical(y, num_classes)\n",
        "    return y    "
      ],
      "execution_count": 3,
      "outputs": []
    },
    {
      "cell_type": "code",
      "metadata": {
        "id": "JYZroIBczXFt",
        "colab_type": "code",
        "colab": {}
      },
      "source": [
        "x_train, y_train = train\n",
        "x_test, y_test = test\n",
        "\n",
        "# Preproc the inputs\n",
        "x_train = preproc_x(x_train)\n",
        "x_test = preproc_x(x_test)\n",
        "\n",
        "# Preprc the outputs\n",
        "y_train = preproc_y(y_train)\n",
        "y_test = preproc_y(y_test)"
      ],
      "execution_count": 4,
      "outputs": []
    },
    {
      "cell_type": "code",
      "metadata": {
        "id": "wt_inNE9zXFw",
        "colab_type": "code",
        "colab": {}
      },
      "source": [
        "\n",
        "from keras.layers import BatchNormalization\n",
        "\n",
        "\"\"\"\n",
        "建立神經網路，並加入 BN layer\n",
        "\"\"\"\n",
        "def build_mlp(input_shape, output_units=10, num_neurons=[512, 256, 128]):\n",
        "    input_layer = keras.layers.Input(input_shape)\n",
        "    \n",
        "    for i, n_units in enumerate(num_neurons):\n",
        "        if i == 0:\n",
        "            x = keras.layers.Dense(units=n_units, \n",
        "                                   activation=\"relu\", \n",
        "                                   name=\"hidden_layer\"+str(i+1))(input_layer)\n",
        "            x = BatchNormalization()(x)\n",
        "        else:\n",
        "            x = keras.layers.Dense(units=n_units, \n",
        "                                   activation=\"relu\", \n",
        "                                   name=\"hidden_layer\"+str(i+1))(x)\n",
        "            x = BatchNormalization()(x)\n",
        "    \n",
        "    out = keras.layers.Dense(units=output_units, activation=\"softmax\", name=\"output\")(x)\n",
        "    \n",
        "    model = keras.models.Model(inputs=[input_layer], outputs=[out])\n",
        "    return model"
      ],
      "execution_count": 5,
      "outputs": []
    },
    {
      "cell_type": "code",
      "metadata": {
        "id": "xHSSFreIzXFy",
        "colab_type": "code",
        "colab": {}
      },
      "source": [
        "\"\"\"Code Here\n",
        "設定超參數\n",
        "\"\"\"\n",
        "## 超參數設定\n",
        "LEARNING_RATE = 1e-3\n",
        "EPOCHS = 50\n",
        "BATCH_SIZE = 1024\n",
        "MOMENTUM = 0.95"
      ],
      "execution_count": 6,
      "outputs": []
    },
    {
      "cell_type": "code",
      "metadata": {
        "id": "fJuXCED-zXF0",
        "colab_type": "code",
        "colab": {}
      },
      "source": [
        "# 載入 Callbacks\n",
        "\"\"\"Code Here\n",
        "設定 callbacks: model checkpoint\n",
        "\"\"\"\n",
        "\n",
        "from keras.callbacks import ModelCheckpoint\n",
        "\n",
        "model_ckpt = ModelCheckpoint(filepath=\"./tmp.h5\", \n",
        "                monitor=\"val_loss\", \n",
        "                save_best_only=True)\n"
      ],
      "execution_count": 7,
      "outputs": []
    },
    {
      "cell_type": "code",
      "metadata": {
        "id": "ZuX-2DjBzlid",
        "colab_type": "code",
        "colab": {
          "base_uri": "https://localhost:8080/",
          "height": 1000
        },
        "outputId": "f75d53a9-0d2f-4752-af2f-c014c8311157"
      },
      "source": [
        "results = {}\n",
        "\"\"\"Code Here\n",
        "撰寫你的訓練流程並將結果用 dictionary 紀錄\n",
        "\"\"\"\n",
        "\n",
        "model = build_mlp(input_shape=x_train.shape[1:])\n",
        "model.summary()\n",
        "optimizer = keras.optimizers.SGD(lr=LEARNING_RATE, nesterov=True, momentum=MOMENTUM)\n",
        "model.compile(loss=\"categorical_crossentropy\", metrics=[\"accuracy\"], optimizer=optimizer)\n",
        "\n",
        "model.fit(x_train, y_train, \n",
        "          epochs=EPOCHS, \n",
        "          batch_size=BATCH_SIZE, \n",
        "          validation_data=(x_test, y_test), \n",
        "          shuffle=True,\n",
        "          callbacks=[model_ckpt]\n",
        "         )\n",
        "\n",
        "# Collect results\n",
        "train_loss = model.history.history[\"loss\"]\n",
        "valid_loss = model.history.history[\"val_loss\"]\n",
        "train_acc = model.history.history[\"accuracy\"]\n",
        "valid_acc = model.history.history[\"val_accuracy\"]\n",
        "\n",
        "# Load back\n",
        "model = keras.models.load_model(\"./tmp.h5\")\n",
        "loss_loadback, acc_loadback = model.evaluate(x_test, y_test)"
      ],
      "execution_count": 8,
      "outputs": [
        {
          "output_type": "stream",
          "text": [
            "Model: \"functional_1\"\n",
            "_________________________________________________________________\n",
            "Layer (type)                 Output Shape              Param #   \n",
            "=================================================================\n",
            "input_1 (InputLayer)         [(None, 3072)]            0         \n",
            "_________________________________________________________________\n",
            "hidden_layer1 (Dense)        (None, 512)               1573376   \n",
            "_________________________________________________________________\n",
            "batch_normalization (BatchNo (None, 512)               2048      \n",
            "_________________________________________________________________\n",
            "hidden_layer2 (Dense)        (None, 256)               131328    \n",
            "_________________________________________________________________\n",
            "batch_normalization_1 (Batch (None, 256)               1024      \n",
            "_________________________________________________________________\n",
            "hidden_layer3 (Dense)        (None, 128)               32896     \n",
            "_________________________________________________________________\n",
            "batch_normalization_2 (Batch (None, 128)               512       \n",
            "_________________________________________________________________\n",
            "output (Dense)               (None, 10)                1290      \n",
            "=================================================================\n",
            "Total params: 1,742,474\n",
            "Trainable params: 1,740,682\n",
            "Non-trainable params: 1,792\n",
            "_________________________________________________________________\n",
            "Epoch 1/50\n",
            "49/49 [==============================] - 8s 164ms/step - loss: 2.2027 - accuracy: 0.2652 - val_loss: 2.1254 - val_accuracy: 0.2084\n",
            "Epoch 2/50\n",
            "49/49 [==============================] - 8s 160ms/step - loss: 1.7382 - accuracy: 0.3941 - val_loss: 1.9405 - val_accuracy: 0.3208\n",
            "Epoch 3/50\n",
            "49/49 [==============================] - 8s 159ms/step - loss: 1.6105 - accuracy: 0.4376 - val_loss: 1.8197 - val_accuracy: 0.3786\n",
            "Epoch 4/50\n",
            "49/49 [==============================] - 8s 159ms/step - loss: 1.5346 - accuracy: 0.4659 - val_loss: 1.7092 - val_accuracy: 0.4087\n",
            "Epoch 5/50\n",
            "49/49 [==============================] - 8s 159ms/step - loss: 1.4788 - accuracy: 0.4852 - val_loss: 1.6394 - val_accuracy: 0.4249\n",
            "Epoch 6/50\n",
            "49/49 [==============================] - 8s 158ms/step - loss: 1.4336 - accuracy: 0.5013 - val_loss: 1.5909 - val_accuracy: 0.4321\n",
            "Epoch 7/50\n",
            "49/49 [==============================] - 8s 159ms/step - loss: 1.3931 - accuracy: 0.5142 - val_loss: 1.5406 - val_accuracy: 0.4540\n",
            "Epoch 8/50\n",
            "49/49 [==============================] - 8s 158ms/step - loss: 1.3568 - accuracy: 0.5285 - val_loss: 1.5159 - val_accuracy: 0.4645\n",
            "Epoch 9/50\n",
            "49/49 [==============================] - 8s 160ms/step - loss: 1.3258 - accuracy: 0.5393 - val_loss: 1.5138 - val_accuracy: 0.4635\n",
            "Epoch 10/50\n",
            "49/49 [==============================] - 8s 159ms/step - loss: 1.2945 - accuracy: 0.5513 - val_loss: 1.4744 - val_accuracy: 0.4816\n",
            "Epoch 11/50\n",
            "49/49 [==============================] - 8s 159ms/step - loss: 1.2666 - accuracy: 0.5620 - val_loss: 1.4734 - val_accuracy: 0.4787\n",
            "Epoch 12/50\n",
            "49/49 [==============================] - 8s 159ms/step - loss: 1.2368 - accuracy: 0.5726 - val_loss: 1.4608 - val_accuracy: 0.4855\n",
            "Epoch 13/50\n",
            "49/49 [==============================] - 8s 159ms/step - loss: 1.2132 - accuracy: 0.5812 - val_loss: 1.4569 - val_accuracy: 0.4869\n",
            "Epoch 14/50\n",
            "49/49 [==============================] - 8s 158ms/step - loss: 1.1863 - accuracy: 0.5922 - val_loss: 1.4600 - val_accuracy: 0.4892\n",
            "Epoch 15/50\n",
            "49/49 [==============================] - 8s 159ms/step - loss: 1.1647 - accuracy: 0.5994 - val_loss: 1.4546 - val_accuracy: 0.4883\n",
            "Epoch 16/50\n",
            "49/49 [==============================] - 8s 160ms/step - loss: 1.1402 - accuracy: 0.6094 - val_loss: 1.4487 - val_accuracy: 0.4938\n",
            "Epoch 17/50\n",
            "49/49 [==============================] - 8s 162ms/step - loss: 1.1178 - accuracy: 0.6171 - val_loss: 1.4460 - val_accuracy: 0.4893\n",
            "Epoch 18/50\n",
            "49/49 [==============================] - 8s 160ms/step - loss: 1.0947 - accuracy: 0.6252 - val_loss: 1.4450 - val_accuracy: 0.4940\n",
            "Epoch 19/50\n",
            "49/49 [==============================] - 8s 159ms/step - loss: 1.0733 - accuracy: 0.6343 - val_loss: 1.4374 - val_accuracy: 0.4972\n",
            "Epoch 20/50\n",
            "49/49 [==============================] - 8s 158ms/step - loss: 1.0495 - accuracy: 0.6439 - val_loss: 1.4396 - val_accuracy: 0.4990\n",
            "Epoch 21/50\n",
            "49/49 [==============================] - 8s 158ms/step - loss: 1.0280 - accuracy: 0.6494 - val_loss: 1.4416 - val_accuracy: 0.4998\n",
            "Epoch 22/50\n",
            "49/49 [==============================] - 8s 158ms/step - loss: 1.0066 - accuracy: 0.6607 - val_loss: 1.4478 - val_accuracy: 0.5011\n",
            "Epoch 23/50\n",
            "49/49 [==============================] - 8s 158ms/step - loss: 0.9846 - accuracy: 0.6680 - val_loss: 1.4409 - val_accuracy: 0.4988\n",
            "Epoch 24/50\n",
            "49/49 [==============================] - 8s 158ms/step - loss: 0.9639 - accuracy: 0.6757 - val_loss: 1.4444 - val_accuracy: 0.5016\n",
            "Epoch 25/50\n",
            "49/49 [==============================] - 8s 157ms/step - loss: 0.9415 - accuracy: 0.6846 - val_loss: 1.4494 - val_accuracy: 0.5006\n",
            "Epoch 26/50\n",
            "49/49 [==============================] - 8s 158ms/step - loss: 0.9199 - accuracy: 0.6943 - val_loss: 1.4541 - val_accuracy: 0.4980\n",
            "Epoch 27/50\n",
            "49/49 [==============================] - 8s 158ms/step - loss: 0.9006 - accuracy: 0.7017 - val_loss: 1.4582 - val_accuracy: 0.5007\n",
            "Epoch 28/50\n",
            "49/49 [==============================] - 8s 158ms/step - loss: 0.8806 - accuracy: 0.7099 - val_loss: 1.4794 - val_accuracy: 0.4921\n",
            "Epoch 29/50\n",
            "49/49 [==============================] - 8s 158ms/step - loss: 0.8615 - accuracy: 0.7171 - val_loss: 1.4666 - val_accuracy: 0.5036\n",
            "Epoch 30/50\n",
            "49/49 [==============================] - 8s 159ms/step - loss: 0.8413 - accuracy: 0.7240 - val_loss: 1.4733 - val_accuracy: 0.4986\n",
            "Epoch 31/50\n",
            "49/49 [==============================] - 8s 158ms/step - loss: 0.8181 - accuracy: 0.7345 - val_loss: 1.4830 - val_accuracy: 0.4992\n",
            "Epoch 32/50\n",
            "49/49 [==============================] - 8s 158ms/step - loss: 0.7998 - accuracy: 0.7407 - val_loss: 1.4809 - val_accuracy: 0.5016\n",
            "Epoch 33/50\n",
            "49/49 [==============================] - 8s 157ms/step - loss: 0.7811 - accuracy: 0.7496 - val_loss: 1.5075 - val_accuracy: 0.4970\n",
            "Epoch 34/50\n",
            "49/49 [==============================] - 8s 158ms/step - loss: 0.7638 - accuracy: 0.7553 - val_loss: 1.5050 - val_accuracy: 0.5019\n",
            "Epoch 35/50\n",
            "49/49 [==============================] - 8s 157ms/step - loss: 0.7422 - accuracy: 0.7640 - val_loss: 1.4995 - val_accuracy: 0.5068\n",
            "Epoch 36/50\n",
            "49/49 [==============================] - 8s 161ms/step - loss: 0.7222 - accuracy: 0.7726 - val_loss: 1.5078 - val_accuracy: 0.4981\n",
            "Epoch 37/50\n",
            "49/49 [==============================] - 8s 157ms/step - loss: 0.7042 - accuracy: 0.7797 - val_loss: 1.5318 - val_accuracy: 0.5023\n",
            "Epoch 38/50\n",
            "49/49 [==============================] - 8s 158ms/step - loss: 0.6826 - accuracy: 0.7883 - val_loss: 1.5289 - val_accuracy: 0.5011\n",
            "Epoch 39/50\n",
            "49/49 [==============================] - 8s 157ms/step - loss: 0.6646 - accuracy: 0.7946 - val_loss: 1.5394 - val_accuracy: 0.5052\n",
            "Epoch 40/50\n",
            "49/49 [==============================] - 8s 158ms/step - loss: 0.6471 - accuracy: 0.8033 - val_loss: 1.5602 - val_accuracy: 0.4959\n",
            "Epoch 41/50\n",
            "49/49 [==============================] - 8s 157ms/step - loss: 0.6276 - accuracy: 0.8088 - val_loss: 1.5513 - val_accuracy: 0.4974\n",
            "Epoch 42/50\n",
            "49/49 [==============================] - 8s 158ms/step - loss: 0.6105 - accuracy: 0.8174 - val_loss: 1.5716 - val_accuracy: 0.4982\n",
            "Epoch 43/50\n",
            "49/49 [==============================] - 8s 158ms/step - loss: 0.5927 - accuracy: 0.8241 - val_loss: 1.5958 - val_accuracy: 0.4955\n",
            "Epoch 44/50\n",
            "49/49 [==============================] - 8s 157ms/step - loss: 0.5756 - accuracy: 0.8301 - val_loss: 1.6194 - val_accuracy: 0.4943\n",
            "Epoch 45/50\n",
            "49/49 [==============================] - 8s 158ms/step - loss: 0.5556 - accuracy: 0.8397 - val_loss: 1.6197 - val_accuracy: 0.4976\n",
            "Epoch 46/50\n",
            "49/49 [==============================] - 8s 158ms/step - loss: 0.5393 - accuracy: 0.8452 - val_loss: 1.6373 - val_accuracy: 0.4960\n",
            "Epoch 47/50\n",
            "49/49 [==============================] - 8s 157ms/step - loss: 0.5230 - accuracy: 0.8509 - val_loss: 1.6461 - val_accuracy: 0.4958\n",
            "Epoch 48/50\n",
            "49/49 [==============================] - 8s 157ms/step - loss: 0.5047 - accuracy: 0.8586 - val_loss: 1.6422 - val_accuracy: 0.4952\n",
            "Epoch 49/50\n",
            "49/49 [==============================] - 8s 166ms/step - loss: 0.4887 - accuracy: 0.8664 - val_loss: 1.6583 - val_accuracy: 0.4929\n",
            "Epoch 50/50\n",
            "49/49 [==============================] - 11s 214ms/step - loss: 0.4737 - accuracy: 0.8705 - val_loss: 1.6663 - val_accuracy: 0.4963\n",
            "313/313 [==============================] - 2s 5ms/step - loss: 1.4374 - accuracy: 0.4972\n"
          ],
          "name": "stdout"
        }
      ]
    },
    {
      "cell_type": "code",
      "metadata": {
        "scrolled": true,
        "id": "vNoMpeubzXF3",
        "colab_type": "code",
        "colab": {
          "base_uri": "https://localhost:8080/",
          "height": 545
        },
        "outputId": "90b6157d-0777-4fc3-d465-cb6f6be65ca0"
      },
      "source": [
        "import matplotlib.pyplot as plt\n",
        "%matplotlib inline\n",
        "\"\"\"Code Here\n",
        "將結果繪出\n",
        "\"\"\"\n",
        "import matplotlib.pyplot as plt\n",
        "%matplotlib inline\n",
        "\n",
        "plt.plot(range(len(train_loss)), train_loss, label=\"train loss\")\n",
        "plt.plot(range(len(valid_loss)), valid_loss, label=\"valid loss\")\n",
        "plt.hlines(y=loss_loadback, xmin=0, xmax=len(train_loss), colors='r', linestyles='--')\n",
        "plt.legend()\n",
        "plt.title(\"Loss\")\n",
        "plt.show()\n",
        "\n",
        "plt.plot(range(len(train_acc)), train_acc, label=\"train accuracy\")\n",
        "plt.plot(range(len(valid_acc)), valid_acc, label=\"valid accuracy\")\n",
        "plt.hlines(y=acc_loadback, xmin=0, xmax=len(train_loss), colors='r', linestyles='--')\n",
        "plt.legend()\n",
        "plt.title(\"Accuracy\")\n",
        "plt.show()"
      ],
      "execution_count": 9,
      "outputs": [
        {
          "output_type": "display_data",
          "data": {
            "image/png": "[encoded data removed]",
            "text/plain": [
              "<Figure size 432x288 with 1 Axes>"
            ]
          },
          "metadata": {
            "tags": [],
            "needs_background": "light"
          }
        },
        {
          "output_type": "display_data",
          "data": {
            "image/png": "[encoded data removed]",
            "text/plain": [
              "<Figure size 432x288 with 1 Axes>"
            ]
          },
          "metadata": {
            "tags": [],
            "needs_background": "light"
          }
        }
      ]
    }
  ]
}