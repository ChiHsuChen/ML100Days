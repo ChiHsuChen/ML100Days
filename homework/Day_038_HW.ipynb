{
  "nbformat": 4,
  "nbformat_minor": 0,
  "metadata": {
    "kernelspec": {
      "display_name": "Python 3",
      "language": "python",
      "name": "python3"
    },
    "language_info": {
      "codemirror_mode": {
        "name": "ipython",
        "version": 3
      },
      "file_extension": ".py",
      "mimetype": "text/x-python",
      "name": "python",
      "nbconvert_exporter": "python",
      "pygments_lexer": "ipython3",
      "version": "3.6.2"
    },
    "colab": {
      "name": "Day_038_HW.ipynb",
      "provenance": [],
      "collapsed_sections": [
        "bjvbJLWLtEJL",
        "6IzFO3rTtEJT"
      ]
    }
  },
  "cells": [
    {
      "cell_type": "markdown",
      "metadata": {
        "id": "D5yPOmgks1kf",
        "colab_type": "text"
      },
      "source": [
        "## [作業重點]\n",
        "使用 Sklearn 中的線性迴歸模型，來訓練各種資料集，務必了解送進去模型訓練的**資料型態**為何，也請了解模型中各項參數的意義"
      ]
    },
    {
      "cell_type": "markdown",
      "metadata": {
        "id": "5CI8S3nYtEJH",
        "colab_type": "text"
      },
      "source": [
        "## import 需要的套件"
      ]
    },
    {
      "cell_type": "code",
      "metadata": {
        "id": "bW7o3XtLtEJH",
        "colab_type": "code",
        "colab": {}
      },
      "source": [
        "import numpy as np\n",
        "import matplotlib.pyplot as plt\n",
        "from sklearn import datasets, linear_model\n",
        "from sklearn.model_selection import train_test_split\n",
        "from sklearn.metrics import mean_squared_error, r2_score, accuracy_score"
      ],
      "execution_count": 1,
      "outputs": []
    },
    {
      "cell_type": "markdown",
      "metadata": {
        "id": "bjvbJLWLtEJL",
        "colab_type": "text"
      },
      "source": [
        "### Linear regssion"
      ]
    },
    {
      "cell_type": "code",
      "metadata": {
        "id": "Ev7a-gqVtEJL",
        "colab_type": "code",
        "colab": {
          "base_uri": "https://localhost:8080/",
          "height": 35
        },
        "outputId": "0ed7c81c-8f69-45b7-efb6-92721e8e1840"
      },
      "source": [
        "# 讀取糖尿病資料集\n",
        "diabetes = datasets.load_diabetes()\n",
        "\n",
        "# 為方便視覺化，我們只使用資料集中的 1 個 feature (column)\n",
        "X = diabetes.data[:, np.newaxis, 2]\n",
        "print(\"Data shape: \", X.shape) # 可以看見有 442 筆資料與我們取出的其中一個 feature\n",
        "\n",
        "# 切分訓練集/測試集\n",
        "x_train, x_test, y_train, y_test = train_test_split(X, diabetes.target, test_size=0.1, random_state=4)\n",
        "\n",
        "# 建立一個線性回歸模型\n",
        "regr = linear_model.LinearRegression()\n",
        "\n",
        "# 將訓練資料丟進去模型訓練\n",
        "regr.fit(x_train, y_train)\n",
        "\n",
        "# 將測試資料丟進模型得到預測結果\n",
        "y_pred = regr.predict(x_test)"
      ],
      "execution_count": 2,
      "outputs": [
        {
          "output_type": "stream",
          "text": [
            "Data shape:  (442, 1)\n"
          ],
          "name": "stdout"
        }
      ]
    },
    {
      "cell_type": "code",
      "metadata": {
        "id": "RPWjLbu2tEJP",
        "colab_type": "code",
        "colab": {
          "base_uri": "https://localhost:8080/",
          "height": 52
        },
        "outputId": "f295b914-d333-4646-dc18-b960a93af154"
      },
      "source": [
        "# 可以看回歸模型的參數值\n",
        "print('Coefficients: ', regr.coef_)\n",
        "\n",
        "# 預測值與實際值的差距，使用 MSE\n",
        "print(\"Mean squared error: %.2f\"\n",
        "      % mean_squared_error(y_test, y_pred))"
      ],
      "execution_count": 3,
      "outputs": [
        {
          "output_type": "stream",
          "text": [
            "Coefficients:  [934.05431907]\n",
            "Mean squared error: 2569.69\n"
          ],
          "name": "stdout"
        }
      ]
    },
    {
      "cell_type": "code",
      "metadata": {
        "id": "Ca9yZgBFtEJR",
        "colab_type": "code",
        "colab": {
          "base_uri": "https://localhost:8080/",
          "height": 265
        },
        "outputId": "08f4de81-1dc5-4f22-cfc9-b8ab8bc0bbfd"
      },
      "source": [
        "# 畫出回歸模型與實際資料的分佈\n",
        "plt.scatter(x_test, y_test,  color='black')\n",
        "plt.plot(x_test, y_pred, color='blue', linewidth=3)\n",
        "plt.show()"
      ],
      "execution_count": 4,
      "outputs": [
        {
          "output_type": "display_data",
          "data": {
            "image/png": "[encoded data removed]",
            "text/plain": [
              "<Figure size 432x288 with 1 Axes>"
            ]
          },
          "metadata": {
            "tags": [],
            "needs_background": "light"
          }
        }
      ]
    },
    {
      "cell_type": "markdown",
      "metadata": {
        "id": "6IzFO3rTtEJT",
        "colab_type": "text"
      },
      "source": [
        "### Logistics regression"
      ]
    },
    {
      "cell_type": "code",
      "metadata": {
        "id": "To6aJ6YstEJU",
        "colab_type": "code",
        "colab": {
          "base_uri": "https://localhost:8080/",
          "height": 156
        },
        "outputId": "32483cba-330b-4609-a2eb-a350e1e5b7a4"
      },
      "source": [
        "# 讀取鳶尾花資料集\n",
        "iris = datasets.load_iris()\n",
        "\n",
        "# 切分訓練集/測試集\n",
        "x_train, x_test, y_train, y_test = train_test_split(iris.data, iris.target, test_size=0.1, random_state=4)\n",
        "\n",
        "# 建立模型\n",
        "logreg = linear_model.LogisticRegression()\n",
        "\n",
        "# 訓練模型\n",
        "logreg.fit(x_train, y_train)\n",
        "\n",
        "# 預測測試集\n",
        "y_pred = logreg.predict(x_test)"
      ],
      "execution_count": 5,
      "outputs": [
        {
          "output_type": "stream",
          "text": [
            "/usr/local/lib/python3.6/dist-packages/sklearn/linear_model/_logistic.py:940: ConvergenceWarning: lbfgs failed to converge (status=1):\n",
            "STOP: TOTAL NO. of ITERATIONS REACHED LIMIT.\n",
            "\n",
            "Increase the number of iterations (max_iter) or scale the data as shown in:\n",
            "    https://scikit-learn.org/stable/modules/preprocessing.html\n",
            "Please also refer to the documentation for alternative solver options:\n",
            "    https://scikit-learn.org/stable/modules/linear_model.html#logistic-regression\n",
            "  extra_warning_msg=_LOGISTIC_SOLVER_CONVERGENCE_MSG)\n"
          ],
          "name": "stderr"
        }
      ]
    },
    {
      "cell_type": "code",
      "metadata": {
        "id": "O8lAV5CStEJW",
        "colab_type": "code",
        "colab": {
          "base_uri": "https://localhost:8080/",
          "height": 35
        },
        "outputId": "aac5dee2-2ea6-4142-f5c5-d6cc6aa8dc4b"
      },
      "source": [
        "acc = accuracy_score(y_test, y_pred)\n",
        "print(\"Accuracy: \", acc)"
      ],
      "execution_count": 6,
      "outputs": [
        {
          "output_type": "stream",
          "text": [
            "Accuracy:  0.9333333333333333\n"
          ],
          "name": "stdout"
        }
      ]
    },
    {
      "cell_type": "markdown",
      "metadata": {
        "colab_type": "text",
        "id": "nqfryLZ5tQJL"
      },
      "source": [
        "### HINT: 注意 label 的型態，確定資料集的目標是分類還是回歸，在使用正確的模型訓練！"
      ]
    },
    {
      "cell_type": "markdown",
      "metadata": {
        "id": "2YTRw_yDs1kf",
        "colab_type": "text"
      },
      "source": [
        "## 作業\n",
        "試著使用 sklearn datasets 的其他資料集 (wine, boston, ...)，來訓練自己的線性迴歸模型。"
      ]
    },
    {
      "cell_type": "markdown",
      "metadata": {
        "id": "-nvM4wH2s1kg",
        "colab_type": "text"
      },
      "source": [
        "### HINT: 注意 label 的型態，確定資料集的目標是分類還是回歸，在使用正確的模型訓練！"
      ]
    },
    {
      "cell_type": "markdown",
      "metadata": {
        "colab_type": "text",
        "id": "uS4kl1lttnF4"
      },
      "source": [
        "### Linear regssion"
      ]
    },
    {
      "cell_type": "code",
      "metadata": {
        "colab_type": "code",
        "id": "9LbCmnPAtnF5",
        "colab": {
          "base_uri": "https://localhost:8080/",
          "height": 35
        },
        "outputId": "5b7aa844-151f-4c85-c138-dd2f1af6509a"
      },
      "source": [
        "# 讀取boston房價資料集\n",
        "boston = datasets.load_boston()\n",
        "\n",
        "# 為方便視覺化，我們只使用資料集中的 1 個 feature (column)\n",
        "X = boston.data[:, np.newaxis, 2]\n",
        "print(\"Data shape: \", X.shape) # 可以看見有 442 筆資料與我們取出的其中一個 feature\n",
        "\n",
        "# 切分訓練集/測試集\n",
        "x_train, x_test, y_train, y_test = train_test_split(X, boston.target, test_size=0.1, random_state=4)\n",
        "\n",
        "# 建立一個線性回歸模型\n",
        "regr = linear_model.LinearRegression()\n",
        "\n",
        "# 將訓練資料丟進去模型訓練\n",
        "regr.fit(x_train, y_train)\n",
        "\n",
        "# 將測試資料丟進模型得到預測結果\n",
        "y_pred = regr.predict(x_test)"
      ],
      "execution_count": 7,
      "outputs": [
        {
          "output_type": "stream",
          "text": [
            "Data shape:  (506, 1)\n"
          ],
          "name": "stdout"
        }
      ]
    },
    {
      "cell_type": "code",
      "metadata": {
        "colab_type": "code",
        "id": "J-Xn8w6ctnF8",
        "colab": {
          "base_uri": "https://localhost:8080/",
          "height": 52
        },
        "outputId": "62133024-167e-40d1-93d1-4f5989fbaecb"
      },
      "source": [
        "# 可以看回歸模型的參數值\n",
        "print('Coefficients: ', regr.coef_)\n",
        "\n",
        "# 預測值與實際值的差距，使用 MSE\n",
        "print(\"Mean squared error: %.2f\"\n",
        "      % mean_squared_error(y_test, y_pred))"
      ],
      "execution_count": 8,
      "outputs": [
        {
          "output_type": "stream",
          "text": [
            "Coefficients:  [-0.64959885]\n",
            "Mean squared error: 63.06\n"
          ],
          "name": "stdout"
        }
      ]
    },
    {
      "cell_type": "code",
      "metadata": {
        "colab_type": "code",
        "id": "g5N75yuWtnF-",
        "colab": {
          "base_uri": "https://localhost:8080/",
          "height": 265
        },
        "outputId": "df5377b8-e849-4118-d624-688e64ee6b9c"
      },
      "source": [
        "# 畫出回歸模型與實際資料的分佈\n",
        "plt.scatter(x_test, y_test,  color='black')\n",
        "plt.plot(x_test, y_pred, color='blue', linewidth=3)\n",
        "plt.show()"
      ],
      "execution_count": 9,
      "outputs": [
        {
          "output_type": "display_data",
          "data": {
            "image/png": "[encoded data removed]",
            "text/plain": [
              "<Figure size 432x288 with 1 Axes>"
            ]
          },
          "metadata": {
            "tags": [],
            "needs_background": "light"
          }
        }
      ]
    },
    {
      "cell_type": "markdown",
      "metadata": {
        "colab_type": "text",
        "id": "RFBG9AfAtryT"
      },
      "source": [
        "### Logistics regression"
      ]
    },
    {
      "cell_type": "code",
      "metadata": {
        "colab_type": "code",
        "id": "jFC6XHSptryV",
        "colab": {
          "base_uri": "https://localhost:8080/",
          "height": 156
        },
        "outputId": "7c1aebdc-f1e4-44c8-d62b-b74ddd890e9f"
      },
      "source": [
        "# 讀取wine資料集\n",
        "wine = datasets.load_wine()\n",
        "\n",
        "# 切分訓練集/測試集\n",
        "x_train, x_test, y_train, y_test = train_test_split(wine.data, wine.target, test_size=0.1, random_state=4)\n",
        "\n",
        "# 建立模型\n",
        "logreg = linear_model.LogisticRegression()\n",
        "\n",
        "# 訓練模型\n",
        "logreg.fit(x_train, y_train)\n",
        "\n",
        "# 預測測試集\n",
        "y_pred = logreg.predict(x_test)"
      ],
      "execution_count": 10,
      "outputs": [
        {
          "output_type": "stream",
          "text": [
            "/usr/local/lib/python3.6/dist-packages/sklearn/linear_model/_logistic.py:940: ConvergenceWarning: lbfgs failed to converge (status=1):\n",
            "STOP: TOTAL NO. of ITERATIONS REACHED LIMIT.\n",
            "\n",
            "Increase the number of iterations (max_iter) or scale the data as shown in:\n",
            "    https://scikit-learn.org/stable/modules/preprocessing.html\n",
            "Please also refer to the documentation for alternative solver options:\n",
            "    https://scikit-learn.org/stable/modules/linear_model.html#logistic-regression\n",
            "  extra_warning_msg=_LOGISTIC_SOLVER_CONVERGENCE_MSG)\n"
          ],
          "name": "stderr"
        }
      ]
    },
    {
      "cell_type": "code",
      "metadata": {
        "colab_type": "code",
        "id": "FDi38LBbtryZ",
        "colab": {
          "base_uri": "https://localhost:8080/",
          "height": 35
        },
        "outputId": "3a9ccc72-1b7e-4a1b-ffd6-7485a8c0dbf0"
      },
      "source": [
        "acc = accuracy_score(y_test, y_pred)\n",
        "print(\"Accuracy: \", acc)"
      ],
      "execution_count": 11,
      "outputs": [
        {
          "output_type": "stream",
          "text": [
            "Accuracy:  0.8888888888888888\n"
          ],
          "name": "stdout"
        }
      ]
    }
  ]
}