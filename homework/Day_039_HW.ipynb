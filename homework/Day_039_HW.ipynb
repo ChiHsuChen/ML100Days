{
  "nbformat": 4,
  "nbformat_minor": 0,
  "metadata": {
    "kernelspec": {
      "display_name": "Python 3",
      "language": "python",
      "name": "python3"
    },
    "language_info": {
      "codemirror_mode": {
        "name": "ipython",
        "version": 3
      },
      "file_extension": ".py",
      "mimetype": "text/x-python",
      "name": "python",
      "nbconvert_exporter": "python",
      "pygments_lexer": "ipython3",
      "version": "3.6.2"
    },
    "colab": {
      "name": "Day_039_HW.ipynb",
      "provenance": [],
      "collapsed_sections": []
    }
  },
  "cells": [
    {
      "cell_type": "markdown",
      "metadata": {
        "id": "a-6M0yxVO0uD",
        "colab_type": "text"
      },
      "source": [
        "## [作業重點]\n",
        "清楚了解 L1, L2 的意義與差異為何，並了解 LASSO 與 Ridge 之間的差異與使用情境"
      ]
    },
    {
      "cell_type": "markdown",
      "metadata": {
        "id": "b219Yg8xO0uE",
        "colab_type": "text"
      },
      "source": [
        "## 作業"
      ]
    },
    {
      "cell_type": "markdown",
      "metadata": {
        "id": "b6bJ5FyRO0uF",
        "colab_type": "text"
      },
      "source": [
        "請閱讀相關文獻，並回答下列問題\n",
        "\n",
        "[脊回歸 (Ridge Regression)](https://blog.csdn.net/daunxx/article/details/51578787)\n",
        "[Linear, Ridge, Lasso Regression 本質區別](https://www.zhihu.com/question/38121173)\n",
        "\n",
        "1. LASSO 回歸可以被用來作為 Feature selection 的工具，請了解 LASSO 模型為什麼可用來作 Feature selection\n",
        "2. 當自變數 (X) 存在高度共線性時，Ridge Regression 可以處理這樣的問題嗎?\n"
      ]
    },
    {
      "cell_type": "markdown",
      "metadata": {
        "id": "zyOiIfnIkY8s",
        "colab_type": "text"
      },
      "source": [
        "1. LASSO在模型中目標函式中所使用的是一階懲罰式(L1 Penalty)λ∑pj=1|βj|。\n",
        "當遇到資料變數非常多時，Lasso模型是可以幫你識別並挑選出有最強（也最一致）訊號的變數\n",
        "參考: https://www.jamleecute.com/regularized-regression-ridge-lasso-elastic/\n",
        "2. 可以\n",
        "由懲罰項在調整，讓模型趨於穩定\n",
        "參考：https://dasanlin888.pixnet.net/blog/post/442485077-%E5%88%A9%E7%94%A8ncss%E7%9A%84%E8%84%8A%E8%BF%B4%E6%AD%B8%EF%BC%88ridge-regression%EF%BC%89%E8%A7%A3%E9%87%8B%E5%A4%9A%E5%85%83%E5%85%B1"
      ]
    },
    {
      "cell_type": "code",
      "metadata": {
        "id": "yWyC_2fZO0uG",
        "colab_type": "code",
        "colab": {}
      },
      "source": [
        ""
      ],
      "execution_count": null,
      "outputs": []
    }
  ]
}