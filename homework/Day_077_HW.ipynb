{
  "nbformat": 4,
  "nbformat_minor": 0,
  "metadata": {
    "kernelspec": {
      "display_name": "Python 3",
      "language": "python",
      "name": "python3"
    },
    "language_info": {
      "codemirror_mode": {
        "name": "ipython",
        "version": 3
      },
      "file_extension": ".py",
      "mimetype": "text/x-python",
      "name": "python",
      "nbconvert_exporter": "python",
      "pygments_lexer": "ipython3",
      "version": "3.6.5"
    },
    "colab": {
      "name": "Day_077_HW.ipynb",
      "provenance": [],
      "collapsed_sections": []
    }
  },
  "cells": [
    {
      "cell_type": "markdown",
      "metadata": {
        "id": "a0rqCdsRazfj",
        "colab_type": "text"
      },
      "source": [
        "## Work\n",
        "1. 請將 Epoch 加到 500 個，並觀察 learning curve 的走勢\n",
        "2. 請將 Optimizer 換成 SGD，並觀察 learning curve 的走勢"
      ]
    },
    {
      "cell_type": "code",
      "metadata": {
        "id": "XcoVqLCIazfk",
        "colab_type": "code",
        "colab": {}
      },
      "source": [
        "import os\n",
        "import keras\n",
        "\n",
        "# 本作業可以不需使用 GPU, 將 GPU 設定為 \"無\" (若有 GPU 且想開啟，可設為 \"0\")\n",
        "os.environ[\"CUDA_VISIBLE_DEVICES\"] = \"\""
      ],
      "execution_count": 1,
      "outputs": []
    },
    {
      "cell_type": "code",
      "metadata": {
        "id": "FORbqzlOazfn",
        "colab_type": "code",
        "colab": {
          "base_uri": "https://localhost:8080/",
          "height": 52
        },
        "outputId": "0e970f67-5e76-425f-afe4-301f3921b6fc"
      },
      "source": [
        "# 從 Keras 的內建功能中，取得 train 與 test 資料集\n",
        "train, test = keras.datasets.cifar10.load_data()"
      ],
      "execution_count": 2,
      "outputs": [
        {
          "output_type": "stream",
          "text": [
            "Downloading data from https://www.cs.toronto.edu/~kriz/cifar-10-python.tar.gz\n",
            "170500096/170498071 [==============================] - 2s 0us/step\n"
          ],
          "name": "stdout"
        }
      ]
    },
    {
      "cell_type": "code",
      "metadata": {
        "id": "W8nug6Fcazfq",
        "colab_type": "code",
        "colab": {}
      },
      "source": [
        "# 將 X 與 Y 獨立放進變數\n",
        "x_train, y_train = train\n",
        "x_test, y_test = test\n",
        "# 資料前處理 - 標準化\n",
        "x_train = x_train / 255.\n",
        "x_test = x_test / 255.\n",
        "\n",
        "# 將資料從圖形 (RGB) 轉為向量 (Single Vector)\n",
        "x_train = x_train.reshape((len(x_train), -1))\n",
        "x_test = x_test.reshape((len(x_test), -1))\n",
        "\n",
        "# 將目標轉為 one-hot encoding\n",
        "y_train = keras.utils.to_categorical(y_train, num_classes=10)\n",
        "y_test = keras.utils.to_categorical(y_test, num_classes=10)"
      ],
      "execution_count": 3,
      "outputs": []
    },
    {
      "cell_type": "code",
      "metadata": {
        "id": "lTolsqtTazfs",
        "colab_type": "code",
        "colab": {}
      },
      "source": [
        "def build_mlp():\n",
        "    \"\"\"Code Here\n",
        "    建立你的神經網路\n",
        "    \"\"\"\n",
        "    input_layer = keras.layers.Input([x_train.shape[-1]])\n",
        "    x = keras.layers.Dense(units=512, activation=\"relu\")(input_layer)\n",
        "    x = keras.layers.Dense(units=256, activation=\"relu\")(x)\n",
        "    x = keras.layers.Dense(units=128, activation=\"relu\")(x)\n",
        "    out = keras.layers.Dense(units=10, activation=\"softmax\")(x)\n",
        "    \n",
        "    model = keras.models.Model(inputs=[input_layer], outputs=[out])\n",
        "\n",
        "    return model\n",
        "model = build_mlp()"
      ],
      "execution_count": 4,
      "outputs": []
    },
    {
      "cell_type": "code",
      "metadata": {
        "id": "gm4LcHK9azfv",
        "colab_type": "code",
        "colab": {
          "base_uri": "https://localhost:8080/",
          "height": 329
        },
        "outputId": "d771d41b-e342-4638-88fd-2b1e67d93278"
      },
      "source": [
        "\"\"\"\n",
        "Compile 模型\n",
        "\"\"\"\n",
        "model = build_mlp()\n",
        "# 用 Keras 內建方法檢視模型各層參數量\n",
        "model.summary()\n",
        "\n",
        "optimizer = keras.optimizers.Adam(lr=0.001)\n",
        "model.compile(loss=\"categorical_crossentropy\", metrics=[\"accuracy\"], optimizer=optimizer)"
      ],
      "execution_count": 5,
      "outputs": [
        {
          "output_type": "stream",
          "text": [
            "Model: \"functional_3\"\n",
            "_________________________________________________________________\n",
            "Layer (type)                 Output Shape              Param #   \n",
            "=================================================================\n",
            "input_2 (InputLayer)         [(None, 3072)]            0         \n",
            "_________________________________________________________________\n",
            "dense_4 (Dense)              (None, 512)               1573376   \n",
            "_________________________________________________________________\n",
            "dense_5 (Dense)              (None, 256)               131328    \n",
            "_________________________________________________________________\n",
            "dense_6 (Dense)              (None, 128)               32896     \n",
            "_________________________________________________________________\n",
            "dense_7 (Dense)              (None, 10)                1290      \n",
            "=================================================================\n",
            "Total params: 1,738,890\n",
            "Trainable params: 1,738,890\n",
            "Non-trainable params: 0\n",
            "_________________________________________________________________\n"
          ],
          "name": "stdout"
        }
      ]
    },
    {
      "cell_type": "code",
      "metadata": {
        "scrolled": true,
        "id": "GQdPAYvFazfy",
        "colab_type": "code",
        "colab": {
          "base_uri": "https://localhost:8080/",
          "height": 381
        },
        "outputId": "c35d5cf3-5d31-4968-ed3c-82c641a2e1de"
      },
      "source": [
        "\"\"\"\n",
        "設定要訓練的 Epoch 數\n",
        "\"\"\"\n",
        "model.fit(x_train, y_train, \n",
        "          epochs=10, \n",
        "          batch_size=256, \n",
        "          validation_data=(x_test, y_test), \n",
        "          shuffle=True)"
      ],
      "execution_count": 6,
      "outputs": [
        {
          "output_type": "stream",
          "text": [
            "Epoch 1/10\n",
            "196/196 [==============================] - 9s 46ms/step - loss: 1.9309 - accuracy: 0.2999 - val_loss: 1.8472 - val_accuracy: 0.3412\n",
            "Epoch 2/10\n",
            "196/196 [==============================] - 9s 44ms/step - loss: 1.7124 - accuracy: 0.3867 - val_loss: 1.6691 - val_accuracy: 0.4153\n",
            "Epoch 3/10\n",
            "196/196 [==============================] - 9s 45ms/step - loss: 1.6164 - accuracy: 0.4232 - val_loss: 1.5621 - val_accuracy: 0.4517\n",
            "Epoch 4/10\n",
            "196/196 [==============================] - 9s 45ms/step - loss: 1.5502 - accuracy: 0.4469 - val_loss: 1.5138 - val_accuracy: 0.4597\n",
            "Epoch 5/10\n",
            "196/196 [==============================] - 9s 45ms/step - loss: 1.5061 - accuracy: 0.4629 - val_loss: 1.4853 - val_accuracy: 0.4702\n",
            "Epoch 6/10\n",
            "196/196 [==============================] - 9s 46ms/step - loss: 1.4634 - accuracy: 0.4789 - val_loss: 1.5115 - val_accuracy: 0.4625\n",
            "Epoch 7/10\n",
            "196/196 [==============================] - 9s 45ms/step - loss: 1.4388 - accuracy: 0.4873 - val_loss: 1.4819 - val_accuracy: 0.4689\n",
            "Epoch 8/10\n",
            "196/196 [==============================] - 9s 44ms/step - loss: 1.3998 - accuracy: 0.5015 - val_loss: 1.4539 - val_accuracy: 0.4811\n",
            "Epoch 9/10\n",
            "196/196 [==============================] - 9s 45ms/step - loss: 1.3780 - accuracy: 0.5091 - val_loss: 1.4144 - val_accuracy: 0.4968\n",
            "Epoch 10/10\n",
            "196/196 [==============================] - 9s 45ms/step - loss: 1.3458 - accuracy: 0.5225 - val_loss: 1.4365 - val_accuracy: 0.4927\n"
          ],
          "name": "stdout"
        },
        {
          "output_type": "execute_result",
          "data": {
            "text/plain": [
              "<tensorflow.python.keras.callbacks.History at 0x7f12fe1cef60>"
            ]
          },
          "metadata": {
            "tags": []
          },
          "execution_count": 6
        }
      ]
    },
    {
      "cell_type": "code",
      "metadata": {
        "id": "W7Idhfbqazf0",
        "colab_type": "code",
        "colab": {
          "base_uri": "https://localhost:8080/",
          "height": 545
        },
        "outputId": "54f77b16-3c3d-4052-8dbf-d343cb25a9b5"
      },
      "source": [
        "import matplotlib.pyplot as plt\n",
        "# 以視覺畫方式檢視訓練過程\n",
        "\n",
        "train_loss = model.history.history[\"loss\"]\n",
        "valid_loss = model.history.history[\"val_loss\"]\n",
        "\n",
        "train_acc = model.history.history[\"accuracy\"]\n",
        "valid_acc = model.history.history[\"val_accuracy\"]\n",
        "\n",
        "plt.plot(range(len(train_loss)), train_loss, label=\"train loss\")\n",
        "plt.plot(range(len(valid_loss)), valid_loss, label=\"valid loss\")\n",
        "plt.legend()\n",
        "plt.title(\"Loss\")\n",
        "plt.show()\n",
        "\n",
        "plt.plot(range(len(train_acc)), train_acc, label=\"train accuracy\")\n",
        "plt.plot(range(len(valid_acc)), valid_acc, label=\"valid accuracy\")\n",
        "plt.legend()\n",
        "plt.title(\"Accuracy\")\n",
        "plt.show()"
      ],
      "execution_count": 9,
      "outputs": [
        {
          "output_type": "display_data",
          "data": {
            "image/png": "[encoded data removed]",
            "text/plain": [
              "<Figure size 432x288 with 1 Axes>"
            ]
          },
          "metadata": {
            "tags": [],
            "needs_background": "light"
          }
        },
        {
          "output_type": "display_data",
          "data": {
            "image/png": "[encoded data removed]",
            "text/plain": [
              "<Figure size 432x288 with 1 Axes>"
            ]
          },
          "metadata": {
            "tags": [],
            "needs_background": "light"
          }
        }
      ]
    }
  ]
}