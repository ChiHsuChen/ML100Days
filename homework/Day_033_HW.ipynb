{
  "nbformat": 4,
  "nbformat_minor": 0,
  "metadata": {
    "kernelspec": {
      "display_name": "Python 3",
      "language": "python",
      "name": "python3"
    },
    "language_info": {
      "codemirror_mode": {
        "name": "ipython",
        "version": 3
      },
      "file_extension": ".py",
      "mimetype": "text/x-python",
      "name": "python",
      "nbconvert_exporter": "python",
      "pygments_lexer": "ipython3",
      "version": "3.6.2"
    },
    "colab": {
      "name": "Day_033_HW.ipynb",
      "provenance": [],
      "collapsed_sections": []
    }
  },
  "cells": [
    {
      "cell_type": "markdown",
      "metadata": {
        "id": "SztxUhLSb7y-",
        "colab_type": "text"
      },
      "source": [
        "## 練習時間"
      ]
    },
    {
      "cell_type": "markdown",
      "metadata": {
        "id": "X_eBeCQbb7zA",
        "colab_type": "text"
      },
      "source": [
        "請觀看李宏毅教授以神奇寶貝進化 CP 值預測的範例，解說何謂機器學習與過擬合。並回答以下問題"
      ]
    },
    {
      "cell_type": "markdown",
      "metadata": {
        "id": "3ru1x1Qyb7zB",
        "colab_type": "text"
      },
      "source": [
        "[youtube](https://www.youtube.com/watch?v=fegAeph9UaA)"
      ]
    },
    {
      "cell_type": "markdown",
      "metadata": {
        "id": "IHzVmRnSb7zC",
        "colab_type": "text"
      },
      "source": [
        "### 1. 模型的泛化能力 (generalization) 是指什麼？ \n",
        "### 2. 分類問題與回歸問題分別可用的目標函數有哪些？"
      ]
    },
    {
      "cell_type": "markdown",
      "metadata": {
        "id": "fFJcR99ayybL",
        "colab_type": "text"
      },
      "source": [
        "1. generalization\n",
        "<= 指的是該模型對未知資料的預測能力；所謂overfitting則是指對自己已知資料的預測能力非常好"
      ]
    },
    {
      "cell_type": "markdown",
      "metadata": {
        "id": "EMwM8SYSy0Nn",
        "colab_type": "text"
      },
      "source": [
        "2. 目標函式：\n",
        "分類: cross entropy\n",
        "回歸: mean square error"
      ]
    }
  ]
}