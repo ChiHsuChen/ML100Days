{
  "nbformat": 4,
  "nbformat_minor": 0,
  "metadata": {
    "kernelspec": {
      "display_name": "Python 3",
      "language": "python",
      "name": "python3"
    },
    "language_info": {
      "codemirror_mode": {
        "name": "ipython",
        "version": 3
      },
      "file_extension": ".py",
      "mimetype": "text/x-python",
      "name": "python",
      "nbconvert_exporter": "python",
      "pygments_lexer": "ipython3",
      "version": "3.6.2"
    },
    "colab": {
      "name": "Day_043_HW.ipynb",
      "provenance": [],
      "collapsed_sections": []
    }
  },
  "cells": [
    {
      "cell_type": "markdown",
      "metadata": {
        "id": "G7ONda4HVucL",
        "colab_type": "text"
      },
      "source": [
        "## [作業重點]\n",
        "了解隨機森林改善了決策樹的什麼缺點？是用什麼方法改進的？"
      ]
    },
    {
      "cell_type": "markdown",
      "metadata": {
        "id": "bR1qrTIVVucM",
        "colab_type": "text"
      },
      "source": [
        "## 作業\n",
        "\n",
        "閱讀以下兩篇文獻，了解隨機森林原理，並試著回答後續的思考問題\n",
        "- [隨機森林 (random forest) - 中文](http://hhtucode.blogspot.tw/2013/06/ml-random-forest.html)\n",
        "- [how random forest works - 英文](https://medium.com/@Synced/how-random-forest-algorithm-works-in-machine-learning-3c0fe15b6674)"
      ]
    },
    {
      "cell_type": "markdown",
      "metadata": {
        "id": "gg8bfrk6VucM",
        "colab_type": "text"
      },
      "source": [
        "\n",
        "1. 隨機森林中的每一棵樹，是希望能夠\n",
        "\n",
        "    - 沒有任何限制，讓樹可以持續生長 (讓樹生成很深，讓模型變得複雜)\n",
        "    \n",
        "    - 不要過度生長，避免 Overfitting\n",
        "    \n",
        "    \n",
        "2. 假設總共有 N 筆資料，每棵樹用取後放回的方式抽了總共 N 筆資料生成，請問這棵樹大約使用了多少 % 不重複的原資料生成?\n",
        "hint: 0.632 bootstrap\n"
      ]
    },
    {
      "cell_type": "markdown",
      "metadata": {
        "id": "rjxBi1MTV3OB",
        "colab_type": "text"
      },
      "source": [
        "1. 不要過度生長，避免 Overfitting\n",
        "2. 參考: http://sofasofa.io/forum_main_post.php?postid=1000691\n",
        "bootstrap方式63.2%\n",
        "\n",
        "假設樣本數為n\n",
        "樣本一被選中的機率為1/n，沒被選中1-1/n\n",
        "從樣本抽n次，樣本一都沒被挑中視(1-1/n)^n\n",
        "lim(1-1/n)^n=1/e, n->infinity\n",
        "\n",
        "抽的次數夠大時，被挑中的機率為1-1/e=0.63\n",
        "\n"
      ]
    }
  ]
}