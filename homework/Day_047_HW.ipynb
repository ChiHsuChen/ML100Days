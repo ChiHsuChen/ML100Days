{
  "nbformat": 4,
  "nbformat_minor": 0,
  "metadata": {
    "kernelspec": {
      "display_name": "Python 3",
      "language": "python",
      "name": "python3"
    },
    "language_info": {
      "codemirror_mode": {
        "name": "ipython",
        "version": 3
      },
      "file_extension": ".py",
      "mimetype": "text/x-python",
      "name": "python",
      "nbconvert_exporter": "python",
      "pygments_lexer": "ipython3",
      "version": "3.7.3"
    },
    "colab": {
      "name": "Day_047_HW.ipynb",
      "provenance": [],
      "collapsed_sections": [
        "YWE00TR6gjMe"
      ]
    }
  },
  "cells": [
    {
      "cell_type": "code",
      "metadata": {
        "id": "AkyKhFdNQRrL",
        "colab_type": "code",
        "colab": {}
      },
      "source": [
        "from sklearn import datasets, metrics\n",
        "from sklearn.model_selection import train_test_split, KFold, GridSearchCV\n",
        "from sklearn.ensemble import GradientBoostingRegressor"
      ],
      "execution_count": 9,
      "outputs": []
    },
    {
      "cell_type": "markdown",
      "metadata": {
        "id": "YWE00TR6gjMe",
        "colab_type": "text"
      },
      "source": [
        "# 原始範例"
      ]
    },
    {
      "cell_type": "code",
      "metadata": {
        "id": "WD5tYJXAQRrP",
        "colab_type": "code",
        "colab": {}
      },
      "source": [
        "# 讀取波士頓房價資料集\n",
        "boston = datasets.load_boston()\n",
        "# 切分訓練集/測試集\n",
        "x_train, x_test, y_train, y_test = train_test_split(boston.data, boston.target, test_size=0.25, random_state=42)\n",
        "\n",
        "# 建立模型\n",
        "clf = GradientBoostingRegressor(random_state=7)"
      ],
      "execution_count": 10,
      "outputs": []
    },
    {
      "cell_type": "code",
      "metadata": {
        "id": "w_Pc2Wv9QRrR",
        "colab_type": "code",
        "colab": {
          "base_uri": "https://localhost:8080/",
          "height": 35
        },
        "outputId": "0e35bb34-13bc-40b8-8950-ed2152f8c120"
      },
      "source": [
        "# 先看看使用預設參數得到的結果，約為 8.379 的 MSE\n",
        "clf.fit(x_train, y_train)\n",
        "y_pred = clf.predict(x_test)\n",
        "print(metrics.mean_squared_error(y_test, y_pred))"
      ],
      "execution_count": 11,
      "outputs": [
        {
          "output_type": "stream",
          "text": [
            "8.913775994322062\n"
          ],
          "name": "stdout"
        }
      ]
    },
    {
      "cell_type": "code",
      "metadata": {
        "id": "l1b7s-QtQRrU",
        "colab_type": "code",
        "colab": {
          "base_uri": "https://localhost:8080/",
          "height": 69
        },
        "outputId": "cb99ab8d-7e0b-4f27-b6d2-926ffcaf77e8"
      },
      "source": [
        "# 設定要訓練的超參數組合\n",
        "n_estimators = [100, 200, 300]\n",
        "max_depth = [1, 3, 5]\n",
        "param_grid = dict(n_estimators=n_estimators, max_depth=max_depth)\n",
        "\n",
        "## 建立搜尋物件，放入模型及參數組合字典 (n_jobs=-1 會使用全部 cpu 平行運算)\n",
        "grid_search = GridSearchCV(clf, param_grid, scoring=\"neg_mean_squared_error\", n_jobs=-1, verbose=1)\n",
        "\n",
        "# 開始搜尋最佳參數\n",
        "grid_result = grid_search.fit(x_train, y_train)\n",
        "\n",
        "# 預設會跑 3-fold cross-validadtion，總共 9 種參數組合，總共要 train 27 次模型"
      ],
      "execution_count": 12,
      "outputs": [
        {
          "output_type": "stream",
          "text": [
            "Fitting 5 folds for each of 9 candidates, totalling 45 fits\n"
          ],
          "name": "stdout"
        },
        {
          "output_type": "stream",
          "text": [
            "[Parallel(n_jobs=-1)]: Using backend LokyBackend with 2 concurrent workers.\n",
            "[Parallel(n_jobs=-1)]: Done  45 out of  45 | elapsed:    7.3s finished\n"
          ],
          "name": "stderr"
        }
      ]
    },
    {
      "cell_type": "code",
      "metadata": {
        "id": "6r18UYNSQRrX",
        "colab_type": "code",
        "colab": {
          "base_uri": "https://localhost:8080/",
          "height": 35
        },
        "outputId": "dcc26dd1-7715-4ef7-ba8b-2a69027fa2a1"
      },
      "source": [
        "# 印出最佳結果與最佳參數\n",
        "print(\"Best Accuracy: %f using %s\" % (grid_result.best_score_, grid_result.best_params_))"
      ],
      "execution_count": 13,
      "outputs": [
        {
          "output_type": "stream",
          "text": [
            "Best Accuracy: -10.843075 using {'max_depth': 3, 'n_estimators': 100}\n"
          ],
          "name": "stdout"
        }
      ]
    },
    {
      "cell_type": "code",
      "metadata": {
        "id": "tHd-6PoQQRrZ",
        "colab_type": "code",
        "colab": {
          "base_uri": "https://localhost:8080/",
          "height": 35
        },
        "outputId": "a6054825-7233-4714-8faa-9f9a4383f89a"
      },
      "source": [
        "grid_result.best_params_"
      ],
      "execution_count": 14,
      "outputs": [
        {
          "output_type": "execute_result",
          "data": {
            "text/plain": [
              "{'max_depth': 3, 'n_estimators': 100}"
            ]
          },
          "metadata": {
            "tags": []
          },
          "execution_count": 14
        }
      ]
    },
    {
      "cell_type": "code",
      "metadata": {
        "id": "XBBBrT76QRrb",
        "colab_type": "code",
        "colab": {}
      },
      "source": [
        "# 使用最佳參數重新建立模型\n",
        "clf_bestparam = GradientBoostingRegressor(max_depth=grid_result.best_params_['max_depth'],\n",
        "                                           n_estimators=grid_result.best_params_['n_estimators'])\n",
        "\n",
        "# 訓練模型\n",
        "clf_bestparam.fit(x_train, y_train)\n",
        "\n",
        "# 預測測試集\n",
        "y_pred = clf_bestparam.predict(x_test)"
      ],
      "execution_count": 15,
      "outputs": []
    },
    {
      "cell_type": "code",
      "metadata": {
        "id": "ekTHSZHpQRrd",
        "colab_type": "code",
        "colab": {
          "base_uri": "https://localhost:8080/",
          "height": 35
        },
        "outputId": "3c20b152-ac8e-4ec2-ef2f-c5476078ea4d"
      },
      "source": [
        "# 調整參數後約可降至 8.30 的 MSE\n",
        "print(metrics.mean_squared_error(y_test, y_pred))"
      ],
      "execution_count": 16,
      "outputs": [
        {
          "output_type": "stream",
          "text": [
            "8.849603614797445\n"
          ],
          "name": "stdout"
        }
      ]
    },
    {
      "cell_type": "code",
      "metadata": {
        "id": "YammVBTFQRrg",
        "colab_type": "code",
        "colab": {}
      },
      "source": [
        ""
      ],
      "execution_count": 16,
      "outputs": []
    },
    {
      "cell_type": "markdown",
      "metadata": {
        "colab_type": "text",
        "id": "JzVZSuNsgnyH"
      },
      "source": [
        "# 使用其他資料集範例"
      ]
    },
    {
      "cell_type": "code",
      "metadata": {
        "colab_type": "code",
        "id": "OEo008OggnyM",
        "colab": {}
      },
      "source": [
        "# 讀取波士頓房價資料集\n",
        "diabetes = datasets.load_diabetes()\n",
        "# 切分訓練集/測試集\n",
        "x_train, x_test, y_train, y_test = train_test_split(diabetes.data, diabetes.target, test_size=0.25, random_state=42)\n",
        "\n",
        "# 建立模型\n",
        "clf = GradientBoostingRegressor(random_state=7)"
      ],
      "execution_count": 17,
      "outputs": []
    },
    {
      "cell_type": "code",
      "metadata": {
        "colab_type": "code",
        "id": "u3bji1tegnya",
        "colab": {
          "base_uri": "https://localhost:8080/",
          "height": 35
        },
        "outputId": "71ab6186-47da-4b18-ced6-8e06201adb67"
      },
      "source": [
        "# 先看看使用預設參數得到的結果，約為 3194 的 MSE\n",
        "clf.fit(x_train, y_train)\n",
        "y_pred = clf.predict(x_test)\n",
        "print(metrics.mean_squared_error(y_test, y_pred))"
      ],
      "execution_count": 18,
      "outputs": [
        {
          "output_type": "stream",
          "text": [
            "3194.3823958820526\n"
          ],
          "name": "stdout"
        }
      ]
    },
    {
      "cell_type": "code",
      "metadata": {
        "colab_type": "code",
        "id": "OWsMpaxEgnyh",
        "colab": {
          "base_uri": "https://localhost:8080/",
          "height": 69
        },
        "outputId": "6c050923-1b0d-4f64-fa81-74fc0bf7cad2"
      },
      "source": [
        "# 設定要訓練的超參數組合\n",
        "n_estimators = [100, 200, 300]\n",
        "max_depth = [1, 3, 5]\n",
        "param_grid = dict(n_estimators=n_estimators, max_depth=max_depth)\n",
        "\n",
        "## 建立搜尋物件，放入模型及參數組合字典 (n_jobs=-1 會使用全部 cpu 平行運算)\n",
        "grid_search = GridSearchCV(clf, param_grid, scoring=\"neg_mean_squared_error\", n_jobs=-1, verbose=1)\n",
        "\n",
        "# 開始搜尋最佳參數\n",
        "grid_result = grid_search.fit(x_train, y_train)\n",
        "\n",
        "# 預設會跑 3-fold cross-validadtion，總共 9 種參數組合，總共要 train 27 次模型"
      ],
      "execution_count": 19,
      "outputs": [
        {
          "output_type": "stream",
          "text": [
            "Fitting 5 folds for each of 9 candidates, totalling 45 fits\n"
          ],
          "name": "stdout"
        },
        {
          "output_type": "stream",
          "text": [
            "[Parallel(n_jobs=-1)]: Using backend LokyBackend with 2 concurrent workers.\n",
            "[Parallel(n_jobs=-1)]: Done  45 out of  45 | elapsed:    5.8s finished\n"
          ],
          "name": "stderr"
        }
      ]
    },
    {
      "cell_type": "code",
      "metadata": {
        "colab_type": "code",
        "id": "4Isa7SEtgnyl",
        "colab": {
          "base_uri": "https://localhost:8080/",
          "height": 35
        },
        "outputId": "6edbf6b9-08a6-41f7-cde1-4d1c52ca8685"
      },
      "source": [
        "# 印出最佳結果與最佳參數\n",
        "print(\"Best Accuracy: %f using %s\" % (grid_result.best_score_, grid_result.best_params_))"
      ],
      "execution_count": 20,
      "outputs": [
        {
          "output_type": "stream",
          "text": [
            "Best Accuracy: -3249.328994 using {'max_depth': 1, 'n_estimators': 200}\n"
          ],
          "name": "stdout"
        }
      ]
    },
    {
      "cell_type": "code",
      "metadata": {
        "colab_type": "code",
        "id": "-XBSgMAKgnyp",
        "colab": {
          "base_uri": "https://localhost:8080/",
          "height": 35
        },
        "outputId": "0057d0a8-ee3a-438f-ea28-87f8a0d09a12"
      },
      "source": [
        "grid_result.best_params_"
      ],
      "execution_count": 21,
      "outputs": [
        {
          "output_type": "execute_result",
          "data": {
            "text/plain": [
              "{'max_depth': 1, 'n_estimators': 200}"
            ]
          },
          "metadata": {
            "tags": []
          },
          "execution_count": 21
        }
      ]
    },
    {
      "cell_type": "code",
      "metadata": {
        "colab_type": "code",
        "id": "5WF3tfUzgnyt",
        "colab": {}
      },
      "source": [
        "# 使用最佳參數重新建立模型\n",
        "clf_bestparam = GradientBoostingRegressor(max_depth=grid_result.best_params_['max_depth'],\n",
        "                                           n_estimators=grid_result.best_params_['n_estimators'])\n",
        "\n",
        "# 訓練模型\n",
        "clf_bestparam.fit(x_train, y_train)\n",
        "\n",
        "# 預測測試集\n",
        "y_pred = clf_bestparam.predict(x_test)"
      ],
      "execution_count": 22,
      "outputs": []
    },
    {
      "cell_type": "code",
      "metadata": {
        "colab_type": "code",
        "id": "aMGt9-L8gnyw",
        "colab": {
          "base_uri": "https://localhost:8080/",
          "height": 35
        },
        "outputId": "1da31221-067f-4fbb-f622-a9355f92c4eb"
      },
      "source": [
        "# 調整參數後約可降至 2812 的 MSE\n",
        "print(metrics.mean_squared_error(y_test, y_pred))"
      ],
      "execution_count": 23,
      "outputs": [
        {
          "output_type": "stream",
          "text": [
            "2812.9857279113457\n"
          ],
          "name": "stdout"
        }
      ]
    },
    {
      "cell_type": "code",
      "metadata": {
        "colab_type": "code",
        "id": "qD2F71IRgnyz",
        "colab": {}
      },
      "source": [
        ""
      ],
      "execution_count": null,
      "outputs": []
    }
  ]
}