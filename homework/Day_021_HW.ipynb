{
  "nbformat": 4,
  "nbformat_minor": 0,
  "metadata": {
    "kernelspec": {
      "display_name": "Python 3",
      "language": "python",
      "name": "python3"
    },
    "language_info": {
      "codemirror_mode": {
        "name": "ipython",
        "version": 3
      },
      "file_extension": ".py",
      "mimetype": "text/x-python",
      "name": "python",
      "nbconvert_exporter": "python",
      "pygments_lexer": "ipython3",
      "version": "3.7.0"
    },
    "colab": {
      "name": "Day_021_HW.ipynb",
      "provenance": [],
      "collapsed_sections": []
    }
  },
  "cells": [
    {
      "cell_type": "markdown",
      "metadata": {
        "id": "kg3cXjGGaeRN",
        "colab_type": "text"
      },
      "source": [
        "## 練習時間\n",
        "將你的結果存成 csv, 上傳你的第一份 Kaggle 成績\n",
        "\n",
        "Hints: https://stackoverflow.com/questions/16923281/pandas-writing-dataframe-to-csv-file"
      ]
    },
    {
      "cell_type": "markdown",
      "metadata": {
        "id": "EECZOovpaeRO",
        "colab_type": "text"
      },
      "source": [
        "# [作業目標]\n",
        "- 檢視並重新執行腳本, 試著將執行結果存檔並提交到 Kaggle 上"
      ]
    },
    {
      "cell_type": "markdown",
      "metadata": {
        "id": "qQb0RWPhaeRP",
        "colab_type": "text"
      },
      "source": [
        "# [作業重點]\n",
        "- 執行後, 將所得結果, 存成可以提交的 csv 檔 (In[10]) (Hint : 使用 pandas.DataFreame.to_csv)"
      ]
    },
    {
      "cell_type": "markdown",
      "metadata": {
        "id": "AldWgIvSaeRQ",
        "colab_type": "text"
      },
      "source": [
        "# [提醒]\n",
        "- 執行後, 將所得結果, 存成可以提交的 csv 檔 (In[10]) (Hint : 使用 pandas.DataFreame.to_csv)"
      ]
    },
    {
      "cell_type": "code",
      "metadata": {
        "id": "9Kl5NJoMaeRR",
        "colab_type": "code",
        "colab": {}
      },
      "source": [
        "# 載入需要的套件\n",
        "import os\n",
        "import numpy as np \n",
        "import pandas as pd\n",
        "\n",
        "import matplotlib.pyplot as plt\n",
        "%matplotlib inline"
      ],
      "execution_count": 1,
      "outputs": []
    },
    {
      "cell_type": "markdown",
      "metadata": {
        "id": "cu2Zj-DLaeRW",
        "colab_type": "text"
      },
      "source": [
        "### 仿造之前做過的處理"
      ]
    },
    {
      "cell_type": "code",
      "metadata": {
        "id": "V0gNSSlPNusG",
        "colab_type": "code",
        "colab": {
          "base_uri": "https://localhost:8080/",
          "height": 329
        },
        "outputId": "668ef075-710a-49e9-dcc3-a6dfd21fb84c"
      },
      "source": [
        "# 抓取資料\n",
        "!wget -c https://ai100-fileentity.cupoy.com/ml100/homework/data/1582795763215/application_train.csv?t=1582796969499 -O application_train.csv\n",
        "!wget -c https://ai100-fileentity.cupoy.com/ml100/homework/data/1582795763215/application_test.csv?t=1582796969499 -O application_test.csv"
      ],
      "execution_count": 3,
      "outputs": [
        {
          "output_type": "stream",
          "text": [
            "--2020-07-27 13:18:31--  https://ai100-fileentity.cupoy.com/ml100/homework/data/1582795763215/application_train.csv?t=1582796969499\n",
            "Resolving ai100-fileentity.cupoy.com (ai100-fileentity.cupoy.com)... 13.35.111.78, 13.35.111.91, 13.35.111.100, ...\n",
            "Connecting to ai100-fileentity.cupoy.com (ai100-fileentity.cupoy.com)|13.35.111.78|:443... connected.\n",
            "HTTP request sent, awaiting response... 416 Requested Range Not Satisfiable\n",
            "\n",
            "    The file is already fully retrieved; nothing to do.\n",
            "\n",
            "--2020-07-27 13:18:32--  https://ai100-fileentity.cupoy.com/ml100/homework/data/1582795763215/application_test.csv?t=1582796969499\n",
            "Resolving ai100-fileentity.cupoy.com (ai100-fileentity.cupoy.com)... 13.35.111.91, 13.35.111.100, 13.35.111.78, ...\n",
            "Connecting to ai100-fileentity.cupoy.com (ai100-fileentity.cupoy.com)|13.35.111.91|:443... connected.\n",
            "HTTP request sent, awaiting response... 200 OK\n",
            "Length: 26567651 (25M) [application/octet-stream]\n",
            "Saving to: ‘application_test.csv’\n",
            "\n",
            "application_test.cs 100%[===================>]  25.34M  29.8MB/s    in 0.9s    \n",
            "\n",
            "2020-07-27 13:18:34 (29.8 MB/s) - ‘application_test.csv’ saved [26567651/26567651]\n",
            "\n"
          ],
          "name": "stdout"
        }
      ]
    },
    {
      "cell_type": "code",
      "metadata": {
        "id": "uOMfLI7KaeRW",
        "colab_type": "code",
        "colab": {}
      },
      "source": [
        "# 設定 data_path\n",
        "#dir_data = './data/'\n",
        "#f_app_train = os.path.join(dir_data, 'application_train.csv')\n",
        "#f_app_test = os.path.join(dir_data, 'application_test.csv')\n",
        "\n",
        "f_app_train = 'application_train.csv'\n",
        "f_app_test = 'application_test.csv'\n",
        "\n",
        "# 讀取檔案\n",
        "app_train = pd.read_csv(f_app_train)\n",
        "app_test = pd.read_csv(f_app_test)"
      ],
      "execution_count": 4,
      "outputs": []
    },
    {
      "cell_type": "code",
      "metadata": {
        "id": "on-n4fWfaeRZ",
        "colab_type": "code",
        "colab": {}
      },
      "source": [
        "# 種類 2 種以下的類別型欄位轉標籤編碼 (Label Encoding)\n",
        "from sklearn.preprocessing import LabelEncoder\n",
        "le = LabelEncoder()\n",
        "le_count = 0\n",
        "\n",
        "# 檢查每一個 column\n",
        "for col in app_train:\n",
        "    if app_train[col].dtype == 'object':\n",
        "        # 如果只有兩種值的類別型欄位\n",
        "        if len(list(app_train[col].unique())) <= 2:\n",
        "            # 就做 Label Encoder\n",
        "            le.fit(app_train[col])\n",
        "            app_train[col] = le.transform(app_train[col])\n",
        "            app_test[col] = le.transform(app_test[col])\n",
        "            \n",
        "            # 紀錄有多少個 columns 被標籤編碼過\n",
        "            le_count += 1\n",
        "            \n",
        "# 標籤編碼 (2種類別) 欄位轉 One Hot Encoding            \n",
        "app_train = pd.get_dummies(app_train)\n",
        "app_test = pd.get_dummies(app_test)"
      ],
      "execution_count": 5,
      "outputs": []
    },
    {
      "cell_type": "code",
      "metadata": {
        "id": "l8u8DJ9uaeRc",
        "colab_type": "code",
        "colab": {}
      },
      "source": [
        "# 受雇日數為異常值的資料, 另外設一個欄位記錄, 並將異常的日數轉成空值 (np.nan)\n",
        "app_train['DAYS_EMPLOYED_ANOM'] = app_train[\"DAYS_EMPLOYED\"] == 365243\n",
        "app_train['DAYS_EMPLOYED'].replace({365243: np.nan}, inplace = True)\n",
        "app_test['DAYS_EMPLOYED_ANOM'] = app_test[\"DAYS_EMPLOYED\"] == 365243\n",
        "app_test[\"DAYS_EMPLOYED\"].replace({365243: np.nan}, inplace = True)\n",
        "\n",
        "# 出生日數 (DAYS_BIRTH) 取絕對值 \n",
        "app_train['DAYS_BIRTH'] = abs(app_train['DAYS_BIRTH'])\n",
        "app_test['DAYS_BIRTH'] = abs(app_test['DAYS_BIRTH'])"
      ],
      "execution_count": 6,
      "outputs": []
    },
    {
      "cell_type": "markdown",
      "metadata": {
        "id": "OAZhFLhwaeRe",
        "colab_type": "text"
      },
      "source": [
        "### 做好前處理\n",
        "開始擬合模型之前，我們要確保 training & testing data 的欄位數量一致，原因是因為 One hot encoding 會製造多的欄位，有些類別出現在 training data 而沒有出現 testing data 中，我們就要把這些多餘的欄位去除"
      ]
    },
    {
      "cell_type": "code",
      "metadata": {
        "id": "kfXJdDswaeRf",
        "colab_type": "code",
        "colab": {}
      },
      "source": [
        "train_labels = app_train['TARGET']\n",
        "\n",
        "# 調整欄位數, 移除出現在 training data 而沒有出現 testing data 中的欄位\n",
        "app_train, app_test = app_train.align(app_test, join = 'inner', axis = 1)"
      ],
      "execution_count": 7,
      "outputs": []
    },
    {
      "cell_type": "code",
      "metadata": {
        "id": "F9Nmiz8TaeRh",
        "colab_type": "code",
        "colab": {
          "base_uri": "https://localhost:8080/",
          "height": 52
        },
        "outputId": "25065c50-6be4-4103-fbeb-2e33d80e2034"
      },
      "source": [
        "from sklearn.impute import SimpleImputer\n",
        "from sklearn.preprocessing import MinMaxScaler  #, Imputer  # 改為sklearn.impute匯入SimpleImputer\n",
        "\n",
        "# 特徵欄位清單\n",
        "train = app_train\n",
        "features = list(train.columns)\n",
        "\n",
        "# 複製 test 資料\n",
        "test = app_test.copy()\n",
        "\n",
        "# 填補器 : 設定缺失值補中位數\n",
        "#imputer = Imputer(strategy = 'median')\n",
        "imputer=SimpleImputer(strategy='median')\n",
        "\n",
        "# 縮放器 : 設定特徵縮放到 0~1 區間\n",
        "scaler = MinMaxScaler(feature_range = (0, 1))\n",
        "\n",
        "# 填補器載入個欄中位數\n",
        "imputer.fit(train)\n",
        "\n",
        "# 將中位數回填 train, test 資料中的空缺值\n",
        "train = imputer.transform(train)\n",
        "test = imputer.transform(app_test)\n",
        "\n",
        "# 縮放器載入 train 的上下限, 對 train, test 進行縮放轉換\n",
        "scaler.fit(train)\n",
        "train = scaler.transform(train)\n",
        "test = scaler.transform(test)\n",
        "\n",
        "print('Training data shape: ', train.shape)\n",
        "print('Testing data shape: ', test.shape)"
      ],
      "execution_count": 10,
      "outputs": [
        {
          "output_type": "stream",
          "text": [
            "Training data shape:  (307511, 240)\n",
            "Testing data shape:  (48744, 240)\n"
          ],
          "name": "stdout"
        }
      ]
    },
    {
      "cell_type": "markdown",
      "metadata": {
        "id": "q6CWI0WfaeRn",
        "colab_type": "text"
      },
      "source": [
        "### Fit the model"
      ]
    },
    {
      "cell_type": "code",
      "metadata": {
        "id": "RkYP2FYUaeRo",
        "colab_type": "code",
        "colab": {
          "base_uri": "https://localhost:8080/",
          "height": 104
        },
        "outputId": "b8ec9c4e-2a36-4f39-ae4b-0919f5794552"
      },
      "source": [
        "from sklearn.linear_model import LogisticRegression\n",
        "\n",
        "# 設定模型與模型參數\n",
        "log_reg = LogisticRegression(C = 0.0001)\n",
        "\n",
        "# 使用 Train 資料訓練模型\n",
        "log_reg.fit(train, train_labels)"
      ],
      "execution_count": 11,
      "outputs": [
        {
          "output_type": "execute_result",
          "data": {
            "text/plain": [
              "LogisticRegression(C=0.0001, class_weight=None, dual=False, fit_intercept=True,\n",
              "                   intercept_scaling=1, l1_ratio=None, max_iter=100,\n",
              "                   multi_class='auto', n_jobs=None, penalty='l2',\n",
              "                   random_state=None, solver='lbfgs', tol=0.0001, verbose=0,\n",
              "                   warm_start=False)"
            ]
          },
          "metadata": {
            "tags": []
          },
          "execution_count": 11
        }
      ]
    },
    {
      "cell_type": "markdown",
      "metadata": {
        "id": "yi9pQwDRaeRq",
        "colab_type": "text"
      },
      "source": [
        "模型 fit 好以後，就可以用來預測 testing data 中的客戶違約遲繳貸款的機率咯! (記得要用 predict_proba 才會輸出機率)"
      ]
    },
    {
      "cell_type": "code",
      "metadata": {
        "id": "7OuQtxHNaeRq",
        "colab_type": "code",
        "colab": {}
      },
      "source": [
        "# 用模型預測結果\n",
        "# 請注意羅吉斯迴歸是分類預測 (會輸出 0 的機率, 與 1 的機率), 而我們只需要留下 1 的機率這排\n",
        "log_reg_pred = log_reg.predict_proba(test)[:, 1]"
      ],
      "execution_count": 12,
      "outputs": []
    },
    {
      "cell_type": "markdown",
      "metadata": {
        "id": "JaGnh5-paeRs",
        "colab_type": "text"
      },
      "source": [
        "### 儲存預測結果"
      ]
    },
    {
      "cell_type": "code",
      "metadata": {
        "id": "V1jBfr3VaeRt",
        "colab_type": "code",
        "colab": {
          "base_uri": "https://localhost:8080/",
          "height": 121
        },
        "outputId": "1a592a5f-370d-485e-a889-49b3915ddec7"
      },
      "source": [
        "# 計算提交結果\n",
        "submit = app_test[['SK_ID_CURR']]\n",
        "submit['TARGET'] = log_reg_pred\n",
        "\n",
        "submit.head()\n",
        "submit.to_csv('Day_021_HW.csv',index=False)  # colab中執行後，自行下載 / 避免Kaggle會有ERROR: Unexpected Column:  '' (Line 1, Column 1)，再加入Index=False"
      ],
      "execution_count": 15,
      "outputs": [
        {
          "output_type": "stream",
          "text": [
            "/usr/local/lib/python3.6/dist-packages/ipykernel_launcher.py:3: SettingWithCopyWarning: \n",
            "A value is trying to be set on a copy of a slice from a DataFrame.\n",
            "Try using .loc[row_indexer,col_indexer] = value instead\n",
            "\n",
            "See the caveats in the documentation: https://pandas.pydata.org/pandas-docs/stable/user_guide/indexing.html#returning-a-view-versus-a-copy\n",
            "  This is separate from the ipykernel package so we can avoid doing imports until\n"
          ],
          "name": "stderr"
        }
      ]
    },
    {
      "cell_type": "code",
      "metadata": {
        "id": "54gxGfgDaeRu",
        "colab_type": "code",
        "colab": {}
      },
      "source": [
        ""
      ],
      "execution_count": null,
      "outputs": []
    }
  ]
}