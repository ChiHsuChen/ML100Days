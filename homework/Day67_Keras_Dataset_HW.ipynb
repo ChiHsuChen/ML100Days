{
  "nbformat": 4,
  "nbformat_minor": 0,
  "metadata": {
    "anaconda-cloud": {},
    "kernelspec": {
      "display_name": "Python 3",
      "language": "python",
      "name": "python3"
    },
    "language_info": {
      "codemirror_mode": {
        "name": "ipython",
        "version": 3
      },
      "file_extension": ".py",
      "mimetype": "text/x-python",
      "name": "python",
      "nbconvert_exporter": "python",
      "pygments_lexer": "ipython3",
      "version": "3.7.0"
    },
    "colab": {
      "name": "Day67_Keras_Dataset_HW.ipynb",
      "provenance": [],
      "collapsed_sections": []
    }
  },
  "cells": [
    {
      "cell_type": "markdown",
      "metadata": {
        "id": "sNd7xA-zcJka",
        "colab_type": "text"
      },
      "source": [
        "# 作業目標:\n",
        "\n",
        "    使用CIFAR100, 數據集變大的影響\n",
        "    \n",
        "    \n",
        "# 作業重點:¶\n",
        "\n",
        "   了解 CIFAR100 跟 CIFAR10 數據及差異\n"
      ]
    },
    {
      "cell_type": "code",
      "metadata": {
        "id": "ip90YV95cJkb",
        "colab_type": "code",
        "colab": {}
      },
      "source": [
        "import numpy\n",
        "from keras.datasets import cifar100\n",
        "import numpy as np\n",
        "np.random.seed(100)"
      ],
      "execution_count": 1,
      "outputs": []
    },
    {
      "cell_type": "markdown",
      "metadata": {
        "id": "0tovXT8ncJkh",
        "colab_type": "text"
      },
      "source": [
        "資料準備"
      ]
    },
    {
      "cell_type": "markdown",
      "metadata": {
        "id": "JmNvG4l0cJkh",
        "colab_type": "text"
      },
      "source": [
        "Image normalize "
      ]
    },
    {
      "cell_type": "markdown",
      "metadata": {
        "id": "26NzHjWlcJki",
        "colab_type": "text"
      },
      "source": [
        "轉換label 為OneHot Encoding"
      ]
    },
    {
      "cell_type": "code",
      "metadata": {
        "id": "sobVEPgwcfb_",
        "colab_type": "code",
        "colab": {}
      },
      "source": [
        ""
      ],
      "execution_count": 1,
      "outputs": []
    },
    {
      "cell_type": "markdown",
      "metadata": {
        "id": "Q5kD5dbicKx2",
        "colab_type": "text"
      },
      "source": [
        "# 導入必要的程式庫"
      ]
    },
    {
      "cell_type": "code",
      "metadata": {
        "id": "wWjugPN7cKx3",
        "colab_type": "code",
        "colab": {}
      },
      "source": [
        "import numpy\n",
        "from keras.datasets import cifar10\n",
        "import numpy as np\n",
        "np.random.seed(10)"
      ],
      "execution_count": 2,
      "outputs": []
    },
    {
      "cell_type": "markdown",
      "metadata": {
        "id": "blBFJn2RcKx6",
        "colab_type": "text"
      },
      "source": [
        "# 資料準備"
      ]
    },
    {
      "cell_type": "code",
      "metadata": {
        "id": "boXMY_FzcKx6",
        "colab_type": "code",
        "colab": {
          "base_uri": "https://localhost:8080/",
          "height": 52
        },
        "outputId": "3ccdc0b9-271c-4519-c242-de8f857ca97e"
      },
      "source": [
        "(x_img_train,y_label_train), \\\n",
        "(x_img_test, y_label_test)=cifar10.load_data()"
      ],
      "execution_count": 3,
      "outputs": [
        {
          "output_type": "stream",
          "text": [
            "Downloading data from https://www.cs.toronto.edu/~kriz/cifar-10-python.tar.gz\n",
            "170500096/170498071 [==============================] - 3s 0us/step\n"
          ],
          "name": "stdout"
        }
      ]
    },
    {
      "cell_type": "code",
      "metadata": {
        "id": "UvSPldKlcKx9",
        "colab_type": "code",
        "colab": {
          "base_uri": "https://localhost:8080/",
          "height": 52
        },
        "outputId": "cda22931-d03b-4bd6-8e88-f424dbed9fc3"
      },
      "source": [
        "print('train:',len(x_img_train))\n",
        "print('test :',len(x_img_test))"
      ],
      "execution_count": 4,
      "outputs": [
        {
          "output_type": "stream",
          "text": [
            "train: 50000\n",
            "test : 10000\n"
          ],
          "name": "stdout"
        }
      ]
    },
    {
      "cell_type": "code",
      "metadata": {
        "id": "VF1dWnKocKyB",
        "colab_type": "code",
        "colab": {
          "base_uri": "https://localhost:8080/",
          "height": 35
        },
        "outputId": "582aa19e-df63-47f8-f67b-547fd43e7d59"
      },
      "source": [
        "# 查詢檔案維度資訊\n",
        "x_img_train.shape"
      ],
      "execution_count": 5,
      "outputs": [
        {
          "output_type": "execute_result",
          "data": {
            "text/plain": [
              "(50000, 32, 32, 3)"
            ]
          },
          "metadata": {
            "tags": []
          },
          "execution_count": 5
        }
      ]
    },
    {
      "cell_type": "code",
      "metadata": {
        "id": "WttFEBNAcKyG",
        "colab_type": "code",
        "colab": {
          "base_uri": "https://localhost:8080/",
          "height": 35
        },
        "outputId": "d0dcfbe1-38b9-49d3-bfda-1fece106a3c5"
      },
      "source": [
        "# 查詢檔案維度資訊\n",
        "y_label_train.shape"
      ],
      "execution_count": 6,
      "outputs": [
        {
          "output_type": "execute_result",
          "data": {
            "text/plain": [
              "(50000, 1)"
            ]
          },
          "metadata": {
            "tags": []
          },
          "execution_count": 6
        }
      ]
    },
    {
      "cell_type": "code",
      "metadata": {
        "id": "LIRNz8JucKyJ",
        "colab_type": "code",
        "colab": {
          "base_uri": "https://localhost:8080/",
          "height": 35
        },
        "outputId": "fbf762b4-7a1a-4b6f-a7ae-3a03f11ec344"
      },
      "source": [
        "# 查詢檔案維度資訊\n",
        "x_img_test.shape"
      ],
      "execution_count": 7,
      "outputs": [
        {
          "output_type": "execute_result",
          "data": {
            "text/plain": [
              "(10000, 32, 32, 3)"
            ]
          },
          "metadata": {
            "tags": []
          },
          "execution_count": 7
        }
      ]
    },
    {
      "cell_type": "code",
      "metadata": {
        "id": "DA8uR3jXcKyM",
        "colab_type": "code",
        "colab": {
          "base_uri": "https://localhost:8080/",
          "height": 35
        },
        "outputId": "77be6f42-302f-4fe6-a392-f28bba03e95c"
      },
      "source": [
        "# 查詢檔案維度資訊\n",
        "y_label_test.shape"
      ],
      "execution_count": 8,
      "outputs": [
        {
          "output_type": "execute_result",
          "data": {
            "text/plain": [
              "(10000, 1)"
            ]
          },
          "metadata": {
            "tags": []
          },
          "execution_count": 8
        }
      ]
    },
    {
      "cell_type": "code",
      "metadata": {
        "id": "rjqddGMCcKyO",
        "colab_type": "code",
        "colab": {}
      },
      "source": [
        "#針對物件圖像數據集的類別編列成字典\n",
        "\n",
        "label_dict={0:\"airplane\",1:\"automobile\",2:\"bird\",3:\"cat\",4:\"deer\",\n",
        "            5:\"dog\",6:\"frog\",7:\"horse\",8:\"ship\",9:\"truck\"}"
      ],
      "execution_count": 9,
      "outputs": []
    },
    {
      "cell_type": "code",
      "metadata": {
        "id": "l9Phc7oHcKyR",
        "colab_type": "code",
        "colab": {}
      },
      "source": [
        "#導入影像列印模組\n",
        "import matplotlib.pyplot as plt\n",
        "\n",
        "#宣告一個影像標記的函數\n",
        "def plot_images_labels_prediction(images,labels,prediction,\n",
        "                                  idx,num=10):\n",
        "    fig = plt.gcf()\n",
        "    fig.set_size_inches(12, 14)\n",
        "    if num>25: num=25 \n",
        "    for i in range(0, num):\n",
        "        ax=plt.subplot(5,5, 1+i)\n",
        "        ax.imshow(images[idx],cmap='binary')\n",
        "                \n",
        "        title=str(i)+','+label_dict[labels[i][0]]\n",
        "        if len(prediction)>0:\n",
        "            title+='=>'+label_dict[prediction[i]]\n",
        "            \n",
        "        ax.set_title(title,fontsize=10) \n",
        "        ax.set_xticks([]);ax.set_yticks([])        \n",
        "        idx+=1 \n",
        "    plt.show()"
      ],
      "execution_count": 10,
      "outputs": []
    },
    {
      "cell_type": "code",
      "metadata": {
        "id": "U_Jc0-YNcKyU",
        "colab_type": "code",
        "colab": {
          "base_uri": "https://localhost:8080/",
          "height": 321
        },
        "outputId": "04e3b069-ea51-4d68-9f86-2e5e8fad00b9"
      },
      "source": [
        "#針對不同的影像作標記\n",
        "\n",
        "plot_images_labels_prediction(x_img_train,y_label_train,[],0)"
      ],
      "execution_count": 11,
      "outputs": [
        {
          "output_type": "display_data",
          "data": {
            "image/png": "[encoded data removed]",
            "text/plain": [
              "<Figure size 864x1008 with 10 Axes>"
            ]
          },
          "metadata": {
            "tags": []
          }
        }
      ]
    },
    {
      "cell_type": "code",
      "metadata": {
        "id": "wsUHQFUDcKyW",
        "colab_type": "code",
        "colab": {
          "base_uri": "https://localhost:8080/",
          "height": 52
        },
        "outputId": "8d3bda51-36fa-4fc9-ca3d-0628a945831b"
      },
      "source": [
        "print('x_img_test:',x_img_test.shape)\n",
        "print('y_label_test :',y_label_test.shape)"
      ],
      "execution_count": 12,
      "outputs": [
        {
          "output_type": "stream",
          "text": [
            "x_img_test: (10000, 32, 32, 3)\n",
            "y_label_test : (10000, 1)\n"
          ],
          "name": "stdout"
        }
      ]
    },
    {
      "cell_type": "markdown",
      "metadata": {
        "id": "hTCumUrUcKyY",
        "colab_type": "text"
      },
      "source": [
        "# 影像正規化"
      ]
    },
    {
      "cell_type": "code",
      "metadata": {
        "id": "PRt_yJOXcKyZ",
        "colab_type": "code",
        "colab": {
          "base_uri": "https://localhost:8080/",
          "height": 35
        },
        "outputId": "8bb2bd3f-6e49-43cd-e258-36dab447506e"
      },
      "source": [
        "x_img_train[0][0][0]"
      ],
      "execution_count": 13,
      "outputs": [
        {
          "output_type": "execute_result",
          "data": {
            "text/plain": [
              "array([59, 62, 63], dtype=uint8)"
            ]
          },
          "metadata": {
            "tags": []
          },
          "execution_count": 13
        }
      ]
    },
    {
      "cell_type": "code",
      "metadata": {
        "id": "yYeEoH7mcKyb",
        "colab_type": "code",
        "colab": {}
      },
      "source": [
        "x_img_train_normalize = x_img_train.astype('float32') / 255.0\n",
        "x_img_test_normalize = x_img_test.astype('float32') / 255.0"
      ],
      "execution_count": 14,
      "outputs": []
    },
    {
      "cell_type": "code",
      "metadata": {
        "id": "7ak3gfI2cKyd",
        "colab_type": "code",
        "colab": {
          "base_uri": "https://localhost:8080/",
          "height": 35
        },
        "outputId": "37e3c444-9ab1-4528-cd1b-28d62484fae2"
      },
      "source": [
        "x_img_train_normalize[0][0][0]"
      ],
      "execution_count": 15,
      "outputs": [
        {
          "output_type": "execute_result",
          "data": {
            "text/plain": [
              "array([0.23137255, 0.24313726, 0.24705882], dtype=float32)"
            ]
          },
          "metadata": {
            "tags": []
          },
          "execution_count": 15
        }
      ]
    },
    {
      "cell_type": "markdown",
      "metadata": {
        "id": "qPLOf-socKyf",
        "colab_type": "text"
      },
      "source": [
        "# 轉換label 為OneHot Encoding"
      ]
    },
    {
      "cell_type": "code",
      "metadata": {
        "id": "YN5elWkZcKyf",
        "colab_type": "code",
        "colab": {
          "base_uri": "https://localhost:8080/",
          "height": 35
        },
        "outputId": "781b6f25-2938-43f3-c42e-d0cc892e8b76"
      },
      "source": [
        "y_label_train.shape"
      ],
      "execution_count": 16,
      "outputs": [
        {
          "output_type": "execute_result",
          "data": {
            "text/plain": [
              "(50000, 1)"
            ]
          },
          "metadata": {
            "tags": []
          },
          "execution_count": 16
        }
      ]
    },
    {
      "cell_type": "code",
      "metadata": {
        "id": "a1NU01PwcKyl",
        "colab_type": "code",
        "colab": {
          "base_uri": "https://localhost:8080/",
          "height": 104
        },
        "outputId": "9d3e1111-4113-4e93-ca2d-a7e39dd9a7e0"
      },
      "source": [
        "y_label_train[:5]"
      ],
      "execution_count": 17,
      "outputs": [
        {
          "output_type": "execute_result",
          "data": {
            "text/plain": [
              "array([[6],\n",
              "       [9],\n",
              "       [9],\n",
              "       [4],\n",
              "       [1]], dtype=uint8)"
            ]
          },
          "metadata": {
            "tags": []
          },
          "execution_count": 17
        }
      ]
    },
    {
      "cell_type": "code",
      "metadata": {
        "id": "oy0vdkSdcKyn",
        "colab_type": "code",
        "colab": {}
      },
      "source": [
        "from keras.utils import np_utils\n",
        "y_label_train_OneHot = np_utils.to_categorical(y_label_train)\n",
        "y_label_test_OneHot = np_utils.to_categorical(y_label_test)"
      ],
      "execution_count": 18,
      "outputs": []
    },
    {
      "cell_type": "code",
      "metadata": {
        "id": "A_8J03LocKyp",
        "colab_type": "code",
        "colab": {
          "base_uri": "https://localhost:8080/",
          "height": 35
        },
        "outputId": "978491a7-bf26-44ff-d04d-2670fd3f1303"
      },
      "source": [
        "y_label_train_OneHot.shape"
      ],
      "execution_count": 19,
      "outputs": [
        {
          "output_type": "execute_result",
          "data": {
            "text/plain": [
              "(50000, 10)"
            ]
          },
          "metadata": {
            "tags": []
          },
          "execution_count": 19
        }
      ]
    },
    {
      "cell_type": "code",
      "metadata": {
        "id": "qF0BIllvcKyr",
        "colab_type": "code",
        "colab": {
          "base_uri": "https://localhost:8080/",
          "height": 104
        },
        "outputId": "ca88017b-c13c-4724-b844-119b50790a6c"
      },
      "source": [
        "y_label_train_OneHot[:5]"
      ],
      "execution_count": 20,
      "outputs": [
        {
          "output_type": "execute_result",
          "data": {
            "text/plain": [
              "array([[0., 0., 0., 0., 0., 0., 1., 0., 0., 0.],\n",
              "       [0., 0., 0., 0., 0., 0., 0., 0., 0., 1.],\n",
              "       [0., 0., 0., 0., 0., 0., 0., 0., 0., 1.],\n",
              "       [0., 0., 0., 0., 1., 0., 0., 0., 0., 0.],\n",
              "       [0., 1., 0., 0., 0., 0., 0., 0., 0., 0.]], dtype=float32)"
            ]
          },
          "metadata": {
            "tags": []
          },
          "execution_count": 20
        }
      ]
    },
    {
      "cell_type": "code",
      "metadata": {
        "id": "6_jGWKTPcKyt",
        "colab_type": "code",
        "colab": {}
      },
      "source": [
        ""
      ],
      "execution_count": 20,
      "outputs": []
    }
  ]
}