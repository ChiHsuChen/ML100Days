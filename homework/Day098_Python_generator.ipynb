{
  "nbformat": 4,
  "nbformat_minor": 0,
  "metadata": {
    "kernelspec": {
      "display_name": "Python [default]",
      "language": "python",
      "name": "python3"
    },
    "language_info": {
      "codemirror_mode": {
        "name": "ipython",
        "version": 3
      },
      "file_extension": ".py",
      "mimetype": "text/x-python",
      "name": "python",
      "nbconvert_exporter": "python",
      "pygments_lexer": "ipython3",
      "version": "3.6.5"
    },
    "colab": {
      "name": "Day098_Python_generator.ipynb",
      "provenance": [],
      "collapsed_sections": [
        "T1x_jSbD6ib2"
      ]
    },
    "accelerator": "GPU"
  },
  "cells": [
    {
      "cell_type": "markdown",
      "metadata": {
        "id": "RuH1-Jir6ibJ",
        "colab_type": "text"
      },
      "source": [
        "## Generator 可以使用 next 來進行循環中的一步\n",
        "文字上有點難解釋，直接來看範例就能了解什麼是 Generator!"
      ]
    },
    {
      "cell_type": "markdown",
      "metadata": {
        "id": "qFgYiKNj6ibK",
        "colab_type": "text"
      },
      "source": [
        "### 撰寫一個 Generator，一次吐出 list 中的一個值"
      ]
    },
    {
      "cell_type": "code",
      "metadata": {
        "id": "uO-lHDjo6ibK",
        "colab_type": "code",
        "colab": {}
      },
      "source": [
        "def output_from_list_generator(your_list):\n",
        "    for i in your_list:\n",
        "        yield i "
      ],
      "execution_count": 10,
      "outputs": []
    },
    {
      "cell_type": "code",
      "metadata": {
        "id": "uzM0JLGs6ibN",
        "colab_type": "code",
        "colab": {}
      },
      "source": [
        "my_list = [1, 2, 3, 4, 5]"
      ],
      "execution_count": 11,
      "outputs": []
    },
    {
      "cell_type": "code",
      "metadata": {
        "id": "k_gcSPJ26ibP",
        "colab_type": "code",
        "colab": {}
      },
      "source": [
        "gen = output_from_list_generator(my_list)"
      ],
      "execution_count": 12,
      "outputs": []
    },
    {
      "cell_type": "code",
      "metadata": {
        "id": "lv3FXhI46ibR",
        "colab_type": "code",
        "colab": {
          "base_uri": "https://localhost:8080/",
          "height": 35
        },
        "outputId": "4de52b68-c1c2-4e63-fcc3-7c59119dbb59"
      },
      "source": [
        "print(next(gen))"
      ],
      "execution_count": 13,
      "outputs": [
        {
          "output_type": "stream",
          "text": [
            "1\n"
          ],
          "name": "stdout"
        }
      ]
    },
    {
      "cell_type": "code",
      "metadata": {
        "id": "RVsgqFyM6ibU",
        "colab_type": "code",
        "colab": {
          "base_uri": "https://localhost:8080/",
          "height": 35
        },
        "outputId": "be27502b-6f34-4b95-8516-4d0354da531f"
      },
      "source": [
        "print(next(gen))"
      ],
      "execution_count": 14,
      "outputs": [
        {
          "output_type": "stream",
          "text": [
            "2\n"
          ],
          "name": "stdout"
        }
      ]
    },
    {
      "cell_type": "code",
      "metadata": {
        "id": "CQ2Pmja96ibY",
        "colab_type": "code",
        "colab": {
          "base_uri": "https://localhost:8080/",
          "height": 35
        },
        "outputId": "ac586ad6-28d7-47fb-8e53-12e066ce7350"
      },
      "source": [
        "print(next(gen))"
      ],
      "execution_count": 15,
      "outputs": [
        {
          "output_type": "stream",
          "text": [
            "3\n"
          ],
          "name": "stdout"
        }
      ]
    },
    {
      "cell_type": "code",
      "metadata": {
        "id": "yBWIK0Q36iba",
        "colab_type": "code",
        "colab": {
          "base_uri": "https://localhost:8080/",
          "height": 35
        },
        "outputId": "6a83853e-3122-4e2b-eab5-c240bfec7c55"
      },
      "source": [
        "print(next(gen))"
      ],
      "execution_count": 16,
      "outputs": [
        {
          "output_type": "stream",
          "text": [
            "4\n"
          ],
          "name": "stdout"
        }
      ]
    },
    {
      "cell_type": "code",
      "metadata": {
        "id": "X0TsPO4g6ibd",
        "colab_type": "code",
        "colab": {
          "base_uri": "https://localhost:8080/",
          "height": 35
        },
        "outputId": "3221d803-fd8e-4d73-d3ca-200ce68c8377"
      },
      "source": [
        "print(next(gen))"
      ],
      "execution_count": 17,
      "outputs": [
        {
          "output_type": "stream",
          "text": [
            "5\n"
          ],
          "name": "stdout"
        }
      ]
    },
    {
      "cell_type": "code",
      "metadata": {
        "id": "QJaznQoV6ibf",
        "colab_type": "code",
        "colab": {
          "base_uri": "https://localhost:8080/",
          "height": 166
        },
        "outputId": "30a04079-a39d-4037-e5ce-4fa47f40f634"
      },
      "source": [
        "print(next(gen))"
      ],
      "execution_count": 18,
      "outputs": [
        {
          "output_type": "error",
          "ename": "StopIteration",
          "evalue": "ignored",
          "traceback": [
            "\u001b[0;31m---------------------------------------------------------------------------\u001b[0m",
            "\u001b[0;31mStopIteration\u001b[0m                             Traceback (most recent call last)",
            "\u001b[0;32m<ipython-input-18-be0d7584d73f>\u001b[0m in \u001b[0;36m<module>\u001b[0;34m()\u001b[0m\n\u001b[0;32m----> 1\u001b[0;31m \u001b[0mprint\u001b[0m\u001b[0;34m(\u001b[0m\u001b[0mnext\u001b[0m\u001b[0;34m(\u001b[0m\u001b[0mgen\u001b[0m\u001b[0;34m)\u001b[0m\u001b[0;34m)\u001b[0m\u001b[0;34m\u001b[0m\u001b[0;34m\u001b[0m\u001b[0m\n\u001b[0m",
            "\u001b[0;31mStopIteration\u001b[0m: "
          ]
        }
      ]
    },
    {
      "cell_type": "markdown",
      "metadata": {
        "id": "-smXFIYF6ibh",
        "colab_type": "text"
      },
      "source": [
        "### 從上面的範例程式碼我們可以看到，當使用一次 next，generator 就會跑 for_loop 一次，因此得到 list 中的第一個值，當再使用一次後，for_loop 記得上次的循環，所以吐出第二個值。最後一次，因為 for loop 已經執行結束了，所以再使用 next 就會看到 StopIteration，無法在得到值"
      ]
    },
    {
      "cell_type": "markdown",
      "metadata": {
        "id": "vveXq2iw6ibh",
        "colab_type": "text"
      },
      "source": [
        "### 我們可以撰寫一個無限循環的 Generator，只要使用 While True 即可"
      ]
    },
    {
      "cell_type": "code",
      "metadata": {
        "id": "Zvh7Prq76ibi",
        "colab_type": "code",
        "colab": {}
      },
      "source": [
        "def inf_loop_generator(your_list):\n",
        "    while True:\n",
        "        for i in your_list:\n",
        "            yield i"
      ],
      "execution_count": 19,
      "outputs": []
    },
    {
      "cell_type": "code",
      "metadata": {
        "id": "BsFltJq26ibj",
        "colab_type": "code",
        "colab": {}
      },
      "source": [
        "gen = inf_loop_generator(my_list)"
      ],
      "execution_count": 20,
      "outputs": []
    },
    {
      "cell_type": "code",
      "metadata": {
        "id": "01lAE7-Y6ibm",
        "colab_type": "code",
        "colab": {
          "base_uri": "https://localhost:8080/",
          "height": 35
        },
        "outputId": "7e052e61-8609-4246-a34c-a4ff4c4d1dba"
      },
      "source": [
        "print(next(gen))"
      ],
      "execution_count": 21,
      "outputs": [
        {
          "output_type": "stream",
          "text": [
            "1\n"
          ],
          "name": "stdout"
        }
      ]
    },
    {
      "cell_type": "code",
      "metadata": {
        "id": "sTdflfoU6ibo",
        "colab_type": "code",
        "colab": {
          "base_uri": "https://localhost:8080/",
          "height": 35
        },
        "outputId": "764bb2ed-6775-4831-c655-2e8ec6877bb9"
      },
      "source": [
        "print(next(gen))"
      ],
      "execution_count": 22,
      "outputs": [
        {
          "output_type": "stream",
          "text": [
            "2\n"
          ],
          "name": "stdout"
        }
      ]
    },
    {
      "cell_type": "code",
      "metadata": {
        "id": "Iv12NWpD6ibq",
        "colab_type": "code",
        "colab": {
          "base_uri": "https://localhost:8080/",
          "height": 35
        },
        "outputId": "5d9b4ddb-8a00-4666-a6ed-b757769f8dd3"
      },
      "source": [
        "print(next(gen))"
      ],
      "execution_count": 23,
      "outputs": [
        {
          "output_type": "stream",
          "text": [
            "3\n"
          ],
          "name": "stdout"
        }
      ]
    },
    {
      "cell_type": "code",
      "metadata": {
        "id": "KBK2APBU6ibu",
        "colab_type": "code",
        "colab": {
          "base_uri": "https://localhost:8080/",
          "height": 35
        },
        "outputId": "2ed387ed-4b0a-4b11-8494-27c458267e93"
      },
      "source": [
        "print(next(gen))"
      ],
      "execution_count": 24,
      "outputs": [
        {
          "output_type": "stream",
          "text": [
            "4\n"
          ],
          "name": "stdout"
        }
      ]
    },
    {
      "cell_type": "code",
      "metadata": {
        "id": "7nHUCtFv6ibw",
        "colab_type": "code",
        "colab": {
          "base_uri": "https://localhost:8080/",
          "height": 35
        },
        "outputId": "b070208b-fa15-48b7-bef1-ad24e11062d8"
      },
      "source": [
        "print(next(gen))"
      ],
      "execution_count": 25,
      "outputs": [
        {
          "output_type": "stream",
          "text": [
            "5\n"
          ],
          "name": "stdout"
        }
      ]
    },
    {
      "cell_type": "code",
      "metadata": {
        "id": "b0tGaCer6iby",
        "colab_type": "code",
        "colab": {
          "base_uri": "https://localhost:8080/",
          "height": 35
        },
        "outputId": "d3891d23-b787-4485-cbb8-30ede530e53a"
      },
      "source": [
        "print(next(gen))"
      ],
      "execution_count": 26,
      "outputs": [
        {
          "output_type": "stream",
          "text": [
            "1\n"
          ],
          "name": "stdout"
        }
      ]
    },
    {
      "cell_type": "code",
      "metadata": {
        "id": "wZkM5bGl6ib0",
        "colab_type": "code",
        "colab": {
          "base_uri": "https://localhost:8080/",
          "height": 35
        },
        "outputId": "7d9c59e3-fb6a-49b3-a856-b04e0130da22"
      },
      "source": [
        "print(next(gen))"
      ],
      "execution_count": 27,
      "outputs": [
        {
          "output_type": "stream",
          "text": [
            "2\n"
          ],
          "name": "stdout"
        }
      ]
    },
    {
      "cell_type": "markdown",
      "metadata": {
        "id": "T1x_jSbD6ib2",
        "colab_type": "text"
      },
      "source": [
        "### 上面的程式碼因為我們使用了 While True，所以 for loop 不會結束，只要 call next 就一定會跑一次循環，並返回值"
      ]
    },
    {
      "cell_type": "code",
      "metadata": {
        "id": "Q1O9rhWF6ib2",
        "colab_type": "code",
        "colab": {}
      },
      "source": [
        ""
      ],
      "execution_count": 27,
      "outputs": []
    },
    {
      "cell_type": "markdown",
      "metadata": {
        "id": "DqSrCXMY6ib4",
        "colab_type": "text"
      },
      "source": [
        "## 雖然 Cifar-10 的資料可以全部讀進記憶體，但讓我們試著用 Generator，批次的把 Cifar 10 的資料取出來，一次取 32 張出來！"
      ]
    },
    {
      "cell_type": "code",
      "metadata": {
        "id": "kyoiCJdQ6ib5",
        "colab_type": "code",
        "colab": {}
      },
      "source": [
        "def img_combine(img, ncols=8, size=1, path=False):\n",
        "    from math import ceil\n",
        "    import matplotlib.pyplot as plt\n",
        "    import numpy as np\n",
        "    nimg = len(img)\n",
        "    nrows = int(ceil(nimg/ncols))\n",
        "    fig, axes = plt.subplots(nrows=nrows, ncols=ncols, sharex=True, sharey=True, figsize=(ncols*size,nrows*size))\n",
        "    if nrows == 0:\n",
        "        return\n",
        "    elif ncols == 1:\n",
        "        for r, ax in zip(np.arange(nrows), axes):\n",
        "            nth=r\n",
        "            if nth < nimg:\n",
        "                ax.imshow(img[nth], cmap='rainbow', vmin=0, vmax=1)\n",
        "                \n",
        "            ax.set_axis_off()\n",
        "    elif nrows == 1:\n",
        "        for c, ax in zip(np.arange(ncols), axes):\n",
        "            nth=c\n",
        "            if nth < nimg:\n",
        "                ax.imshow(img[nth], cmap='rainbow', vmin=0, vmax=1)\n",
        "            ax.set_axis_off()\n",
        "    else:\n",
        "        for r, row in zip(np.arange(nrows), axes):\n",
        "            for c, ax in zip(np.arange(ncols), row):\n",
        "                nth=r*ncols+c\n",
        "                if nth < nimg:\n",
        "                    ax.imshow(img[nth], cmap='rainbow', vmin=0, vmax=1)\n",
        "                ax.set_axis_off()\n",
        "    plt.show()"
      ],
      "execution_count": 28,
      "outputs": []
    },
    {
      "cell_type": "code",
      "metadata": {
        "id": "6KI_Kfvg6ib6",
        "colab_type": "code",
        "colab": {}
      },
      "source": [
        "from keras.datasets import cifar10"
      ],
      "execution_count": 29,
      "outputs": []
    },
    {
      "cell_type": "code",
      "metadata": {
        "id": "gvG597Wa6ib8",
        "colab_type": "code",
        "colab": {
          "base_uri": "https://localhost:8080/",
          "height": 52
        },
        "outputId": "ec5737bb-d6ef-4430-daa8-9583390560d5"
      },
      "source": [
        "(x_train, x_test), (y_train, y_test) = cifar10.load_data()"
      ],
      "execution_count": 30,
      "outputs": [
        {
          "output_type": "stream",
          "text": [
            "Downloading data from https://www.cs.toronto.edu/~kriz/cifar-10-python.tar.gz\n",
            "170500096/170498071 [==============================] - 6s 0us/step\n"
          ],
          "name": "stdout"
        }
      ]
    },
    {
      "cell_type": "code",
      "metadata": {
        "id": "4t9sG_A46ib-",
        "colab_type": "code",
        "colab": {}
      },
      "source": [
        "def cifar_generator(image_array, batch_size=32):\n",
        "    while True:\n",
        "        for indexs in range(0, len(image_array), batch_size):\n",
        "            images = image_array[indexs: indexs+batch_size]\n",
        "            yield images, labels"
      ],
      "execution_count": 31,
      "outputs": []
    },
    {
      "cell_type": "code",
      "metadata": {
        "id": "Cua0TVoQ6icA",
        "colab_type": "code",
        "colab": {}
      },
      "source": [
        "cifar_gen = cifar_generator(x_train)"
      ],
      "execution_count": 32,
      "outputs": []
    },
    {
      "cell_type": "code",
      "metadata": {
        "id": "v4_ZI_UL6icB",
        "colab_type": "code",
        "colab": {
          "base_uri": "https://localhost:8080/",
          "height": 253
        },
        "outputId": "bec49983-8990-4136-a67d-eb18745d933e"
      },
      "source": [
        "images = next(cifar_gen)"
      ],
      "execution_count": 33,
      "outputs": [
        {
          "output_type": "error",
          "ename": "NameError",
          "evalue": "ignored",
          "traceback": [
            "\u001b[0;31m---------------------------------------------------------------------------\u001b[0m",
            "\u001b[0;31mNameError\u001b[0m                                 Traceback (most recent call last)",
            "\u001b[0;32m<ipython-input-33-686dc28aaae7>\u001b[0m in \u001b[0;36m<module>\u001b[0;34m()\u001b[0m\n\u001b[0;32m----> 1\u001b[0;31m \u001b[0mimages\u001b[0m \u001b[0;34m=\u001b[0m \u001b[0mnext\u001b[0m\u001b[0;34m(\u001b[0m\u001b[0mcifar_gen\u001b[0m\u001b[0;34m)\u001b[0m\u001b[0;34m\u001b[0m\u001b[0;34m\u001b[0m\u001b[0m\n\u001b[0m",
            "\u001b[0;32m<ipython-input-31-a7d69f456d21>\u001b[0m in \u001b[0;36mcifar_generator\u001b[0;34m(image_array, batch_size)\u001b[0m\n\u001b[1;32m      3\u001b[0m         \u001b[0;32mfor\u001b[0m \u001b[0mindexs\u001b[0m \u001b[0;32min\u001b[0m \u001b[0mrange\u001b[0m\u001b[0;34m(\u001b[0m\u001b[0;36m0\u001b[0m\u001b[0;34m,\u001b[0m \u001b[0mlen\u001b[0m\u001b[0;34m(\u001b[0m\u001b[0mimage_array\u001b[0m\u001b[0;34m)\u001b[0m\u001b[0;34m,\u001b[0m \u001b[0mbatch_size\u001b[0m\u001b[0;34m)\u001b[0m\u001b[0;34m:\u001b[0m\u001b[0;34m\u001b[0m\u001b[0;34m\u001b[0m\u001b[0m\n\u001b[1;32m      4\u001b[0m             \u001b[0mimages\u001b[0m \u001b[0;34m=\u001b[0m \u001b[0mimage_array\u001b[0m\u001b[0;34m[\u001b[0m\u001b[0mindexs\u001b[0m\u001b[0;34m:\u001b[0m \u001b[0mindexs\u001b[0m\u001b[0;34m+\u001b[0m\u001b[0mbatch_size\u001b[0m\u001b[0;34m]\u001b[0m\u001b[0;34m\u001b[0m\u001b[0;34m\u001b[0m\u001b[0m\n\u001b[0;32m----> 5\u001b[0;31m             \u001b[0;32myield\u001b[0m \u001b[0mimages\u001b[0m\u001b[0;34m,\u001b[0m \u001b[0mlabels\u001b[0m\u001b[0;34m\u001b[0m\u001b[0;34m\u001b[0m\u001b[0m\n\u001b[0m",
            "\u001b[0;31mNameError\u001b[0m: name 'labels' is not defined"
          ]
        }
      ]
    },
    {
      "cell_type": "code",
      "metadata": {
        "id": "J_TiLmnQ6icD",
        "colab_type": "code",
        "colab": {}
      },
      "source": [
        "img_combine(images)"
      ],
      "execution_count": null,
      "outputs": []
    },
    {
      "cell_type": "code",
      "metadata": {
        "id": "mg-pZ09D6icG",
        "colab_type": "code",
        "colab": {}
      },
      "source": [
        "images, labels = next(cifar_gen)"
      ],
      "execution_count": null,
      "outputs": []
    },
    {
      "cell_type": "code",
      "metadata": {
        "id": "v04J_ZDQ6icH",
        "colab_type": "code",
        "colab": {}
      },
      "source": [
        "img_combine(images)"
      ],
      "execution_count": null,
      "outputs": []
    },
    {
      "cell_type": "markdown",
      "metadata": {
        "id": "hiJuc0Xg6icJ",
        "colab_type": "text"
      },
      "source": [
        "## 可以看到兩次的圖片並不一樣，這樣就可以開始訓練囉！"
      ]
    },
    {
      "cell_type": "markdown",
      "metadata": {
        "id": "gB8hWK8u6icJ",
        "colab_type": "text"
      },
      "source": [
        "## 作業"
      ]
    },
    {
      "cell_type": "markdown",
      "metadata": {
        "id": "H5Qcmnu-6icJ",
        "colab_type": "text"
      },
      "source": [
        "請參考昨天的程式碼，將訓練資料讀取方式改寫成 Generator，並將原本的 model.fit 改為 model.fit_generator 來進行訓練。請參考 Keras [官方文件中 fit_generator 的說明](https://keras.io/models/sequential/)"
      ]
    },
    {
      "cell_type": "code",
      "metadata": {
        "id": "U_YDUENM6icK",
        "colab_type": "code",
        "colab": {}
      },
      "source": [
        "import keras\n",
        "from keras.datasets import cifar10\n",
        "from keras.preprocessing.image import ImageDataGenerator\n",
        "from keras.models import Sequential\n",
        "from keras.layers import Dense, Dropout, Activation, Flatten\n",
        "from keras.layers import Conv2D, MaxPooling2D\n",
        "from keras.optimizers import RMSprop, Adam"
      ],
      "execution_count": 1,
      "outputs": []
    },
    {
      "cell_type": "code",
      "metadata": {
        "id": "KzZmbbgB6icM",
        "colab_type": "code",
        "colab": {}
      },
      "source": [
        "batch_size = 128 # batch 的大小，如果出現 OOM error，請降低這個值\n",
        "num_classes = 10 # 類別的數量，Cifar 10 共有 10 個類別\n",
        "epochs = 10 # 訓練的 epochs 數量"
      ],
      "execution_count": 2,
      "outputs": []
    },
    {
      "cell_type": "code",
      "metadata": {
        "id": "ekyp117q6icN",
        "colab_type": "code",
        "colab": {
          "base_uri": "https://localhost:8080/",
          "height": 104
        },
        "outputId": "8f8ae2db-8b74-4adf-923d-387b27d43743"
      },
      "source": [
        "(x_train, y_train), (x_test, y_test) = cifar10.load_data()\n",
        "print('x_train shape:', x_train.shape)\n",
        "print(x_train.shape[0], 'train samples')\n",
        "print(x_test.shape[0], 'test samples')\n",
        "x_train = x_train.astype('float32')\n",
        "x_test = x_test.astype('float32')\n",
        "x_train /= 255\n",
        "x_test /= 255\n",
        "\n",
        "# Convert class vectors to binary class matrices.\n",
        "y_train = keras.utils.to_categorical(y_train, num_classes)\n",
        "y_test = keras.utils.to_categorical(y_test, num_classes)"
      ],
      "execution_count": 3,
      "outputs": [
        {
          "output_type": "stream",
          "text": [
            "Downloading data from https://www.cs.toronto.edu/~kriz/cifar-10-python.tar.gz\n",
            "170500096/170498071 [==============================] - 4s 0us/step\n",
            "x_train shape: (50000, 32, 32, 3)\n",
            "50000 train samples\n",
            "10000 test samples\n"
          ],
          "name": "stdout"
        }
      ]
    },
    {
      "cell_type": "code",
      "metadata": {
        "id": "ZMxMlhpc6icP",
        "colab_type": "code",
        "colab": {
          "base_uri": "https://localhost:8080/",
          "height": 780
        },
        "outputId": "c1f35b8c-a1db-40a4-b72a-43b46ae45a92"
      },
      "source": [
        "model = Sequential()\n",
        "model.add(Conv2D(32, (3, 3), padding='same',\n",
        "                 input_shape=x_train.shape[1:]))\n",
        "model.add(Activation('relu'))\n",
        "model.add(Conv2D(32, (3, 3)))\n",
        "model.add(Activation('relu'))\n",
        "model.add(MaxPooling2D(pool_size=(2, 2)))\n",
        "model.add(Dropout(0.25))\n",
        "\n",
        "model.add(Conv2D(64, (3, 3), padding='same'))\n",
        "model.add(Activation('relu'))\n",
        "model.add(Conv2D(64, (3, 3)))\n",
        "model.add(Activation('relu'))\n",
        "model.add(MaxPooling2D(pool_size=(2, 2)))\n",
        "model.add(Dropout(0.25))\n",
        "\n",
        "model.add(Flatten())\n",
        "model.add(Dense(512))\n",
        "model.add(Activation('relu'))\n",
        "model.add(Dropout(0.5))\n",
        "model.add(Dense(num_classes))\n",
        "model.add(Activation('softmax'))\n",
        "model.summary()\n",
        "\n",
        "model.compile(loss='categorical_crossentropy',\n",
        "              optimizer=RMSprop(),\n",
        "              metrics=['accuracy'])"
      ],
      "execution_count": 4,
      "outputs": [
        {
          "output_type": "stream",
          "text": [
            "Model: \"sequential\"\n",
            "_________________________________________________________________\n",
            "Layer (type)                 Output Shape              Param #   \n",
            "=================================================================\n",
            "conv2d (Conv2D)              (None, 32, 32, 32)        896       \n",
            "_________________________________________________________________\n",
            "activation (Activation)      (None, 32, 32, 32)        0         \n",
            "_________________________________________________________________\n",
            "conv2d_1 (Conv2D)            (None, 30, 30, 32)        9248      \n",
            "_________________________________________________________________\n",
            "activation_1 (Activation)    (None, 30, 30, 32)        0         \n",
            "_________________________________________________________________\n",
            "max_pooling2d (MaxPooling2D) (None, 15, 15, 32)        0         \n",
            "_________________________________________________________________\n",
            "dropout (Dropout)            (None, 15, 15, 32)        0         \n",
            "_________________________________________________________________\n",
            "conv2d_2 (Conv2D)            (None, 15, 15, 64)        18496     \n",
            "_________________________________________________________________\n",
            "activation_2 (Activation)    (None, 15, 15, 64)        0         \n",
            "_________________________________________________________________\n",
            "conv2d_3 (Conv2D)            (None, 13, 13, 64)        36928     \n",
            "_________________________________________________________________\n",
            "activation_3 (Activation)    (None, 13, 13, 64)        0         \n",
            "_________________________________________________________________\n",
            "max_pooling2d_1 (MaxPooling2 (None, 6, 6, 64)          0         \n",
            "_________________________________________________________________\n",
            "dropout_1 (Dropout)          (None, 6, 6, 64)          0         \n",
            "_________________________________________________________________\n",
            "flatten (Flatten)            (None, 2304)              0         \n",
            "_________________________________________________________________\n",
            "dense (Dense)                (None, 512)               1180160   \n",
            "_________________________________________________________________\n",
            "activation_4 (Activation)    (None, 512)               0         \n",
            "_________________________________________________________________\n",
            "dropout_2 (Dropout)          (None, 512)               0         \n",
            "_________________________________________________________________\n",
            "dense_1 (Dense)              (None, 10)                5130      \n",
            "_________________________________________________________________\n",
            "activation_5 (Activation)    (None, 10)                0         \n",
            "=================================================================\n",
            "Total params: 1,250,858\n",
            "Trainable params: 1,250,858\n",
            "Non-trainable params: 0\n",
            "_________________________________________________________________\n"
          ],
          "name": "stdout"
        }
      ]
    },
    {
      "cell_type": "code",
      "metadata": {
        "id": "HQhHCUz56icR",
        "colab_type": "code",
        "colab": {}
      },
      "source": [
        "from sklearn.utils import shuffle\n",
        "def my_generator(x, y, batch_size):\n",
        "    while True:\n",
        "        for idx in range(0, len(x), batch_size): # 讓 idx 從 0 開始，一次增加 batch size。假設 batch_size=32, idx = 0, 32, 64, 96, ....\n",
        "            batch_x, batch_y = x[idx:idx+batch_size], y[idx:idx+batch_size]\n",
        "            yield batch_x, batch_y\n",
        "        x, y = shuffle(x, y) # loop 結束後，將資料順序打亂再重新循環"
      ],
      "execution_count": 5,
      "outputs": []
    },
    {
      "cell_type": "code",
      "metadata": {
        "id": "-kIah1TH6icT",
        "colab_type": "code",
        "colab": {}
      },
      "source": [
        "train_generator = my_generator(x_train, y_train, batch_size) # 建立好我們寫好的 generator"
      ],
      "execution_count": 6,
      "outputs": []
    },
    {
      "cell_type": "code",
      "metadata": {
        "id": "OYWPxWhK6icU",
        "colab_type": "code",
        "colab": {
          "base_uri": "https://localhost:8080/",
          "height": 471
        },
        "outputId": "b89596af-a637-4d62-aaeb-a5f0b9289f4a"
      },
      "source": [
        "history = model.fit_generator(train_generator,\n",
        "                    steps_per_epoch=int(len(x_train)/batch_size), # 一個 epochs 要執行幾次 update，通常是資料量除以 batch size\n",
        "                    epochs=epochs,\n",
        "                    verbose=1,\n",
        "                    validation_data=(x_test, y_test))\n",
        "score = model.evaluate(x_test, y_test, verbose=0)\n",
        "print('Test loss:', score[0])\n",
        "print('Test accuracy:', score[1])"
      ],
      "execution_count": 7,
      "outputs": [
        {
          "output_type": "stream",
          "text": [
            "WARNING:tensorflow:From <ipython-input-7-c6f8cb85cdff>:5: Model.fit_generator (from tensorflow.python.keras.engine.training) is deprecated and will be removed in a future version.\n",
            "Instructions for updating:\n",
            "Please use Model.fit, which supports generators.\n",
            "Epoch 1/10\n",
            "390/390 [==============================] - 5s 14ms/step - loss: 1.7412 - accuracy: 0.3720 - val_loss: 1.3186 - val_accuracy: 0.5229\n",
            "Epoch 2/10\n",
            "390/390 [==============================] - 5s 13ms/step - loss: 1.2936 - accuracy: 0.5418 - val_loss: 1.1110 - val_accuracy: 0.6045\n",
            "Epoch 3/10\n",
            "390/390 [==============================] - 5s 13ms/step - loss: 1.0933 - accuracy: 0.6154 - val_loss: 0.9517 - val_accuracy: 0.6621\n",
            "Epoch 4/10\n",
            "390/390 [==============================] - 5s 13ms/step - loss: 0.9590 - accuracy: 0.6676 - val_loss: 0.8720 - val_accuracy: 0.6980\n",
            "Epoch 5/10\n",
            "390/390 [==============================] - 5s 14ms/step - loss: 0.8734 - accuracy: 0.6966 - val_loss: 0.7719 - val_accuracy: 0.7317\n",
            "Epoch 6/10\n",
            "390/390 [==============================] - 5s 14ms/step - loss: 0.8051 - accuracy: 0.7203 - val_loss: 0.7472 - val_accuracy: 0.7394\n",
            "Epoch 7/10\n",
            "390/390 [==============================] - 5s 13ms/step - loss: 0.7606 - accuracy: 0.7361 - val_loss: 0.7080 - val_accuracy: 0.7550\n",
            "Epoch 8/10\n",
            "390/390 [==============================] - 5s 13ms/step - loss: 0.7165 - accuracy: 0.7503 - val_loss: 0.6986 - val_accuracy: 0.7586\n",
            "Epoch 9/10\n",
            "390/390 [==============================] - 5s 13ms/step - loss: 0.6821 - accuracy: 0.7639 - val_loss: 0.7110 - val_accuracy: 0.7577\n",
            "Epoch 10/10\n",
            "390/390 [==============================] - 5s 13ms/step - loss: 0.6606 - accuracy: 0.7725 - val_loss: 0.6772 - val_accuracy: 0.7718\n",
            "Test loss: 0.6772406697273254\n",
            "Test accuracy: 0.7717999815940857\n"
          ],
          "name": "stdout"
        }
      ]
    },
    {
      "cell_type": "code",
      "metadata": {
        "id": "3DOHU6MD6icW",
        "colab_type": "code",
        "colab": {}
      },
      "source": [
        ""
      ],
      "execution_count": null,
      "outputs": []
    }
  ]
}