{
  "nbformat": 4,
  "nbformat_minor": 0,
  "metadata": {
    "kernelspec": {
      "display_name": "Python 3",
      "language": "python",
      "name": "python3"
    },
    "language_info": {
      "codemirror_mode": {
        "name": "ipython",
        "version": 3
      },
      "file_extension": ".py",
      "mimetype": "text/x-python",
      "name": "python",
      "nbconvert_exporter": "python",
      "pygments_lexer": "ipython3",
      "version": "3.6.5"
    },
    "colab": {
      "name": "Day085_HW.ipynb",
      "provenance": [],
      "collapsed_sections": []
    },
    "accelerator": "GPU"
  },
  "cells": [
    {
      "cell_type": "markdown",
      "metadata": {
        "id": "ob7oTNsBZaPV",
        "colab_type": "text"
      },
      "source": [
        "## Work\n",
        "1. 試改變 monitor \"Validation Accuracy\" 並比較結果\n",
        "2. 調整 earlystop 的等待次數至 10, 25 並比較結果"
      ]
    },
    {
      "cell_type": "code",
      "metadata": {
        "id": "Gdpu57wEZaPW",
        "colab_type": "code",
        "colab": {}
      },
      "source": [
        "import os\n",
        "import keras\n",
        "import matplotlib.pyplot as plt\n",
        "%matplotlib inline\n",
        "\n",
        "\n",
        "# Disable GPU\n",
        "os.environ[\"CUDA_VISIBLE_DEVICES\"] = \"\""
      ],
      "execution_count": null,
      "outputs": []
    },
    {
      "cell_type": "code",
      "metadata": {
        "id": "oJgDth0cZaPZ",
        "colab_type": "code",
        "colab": {
          "base_uri": "https://localhost:8080/",
          "height": 52
        },
        "outputId": "201dfa26-da10-4f57-fbe1-ecc25ac95605"
      },
      "source": [
        "train, test = keras.datasets.cifar10.load_data()"
      ],
      "execution_count": null,
      "outputs": [
        {
          "output_type": "stream",
          "text": [
            "Downloading data from https://www.cs.toronto.edu/~kriz/cifar-10-python.tar.gz\n",
            "170500096/170498071 [==============================] - 6s 0us/step\n"
          ],
          "name": "stdout"
        }
      ]
    },
    {
      "cell_type": "code",
      "metadata": {
        "id": "F_8tRqJwZaPb",
        "colab_type": "code",
        "colab": {}
      },
      "source": [
        "## 資料前處理\n",
        "def preproc_x(x, flatten=True):\n",
        "    x = x / 255.\n",
        "    if flatten:\n",
        "        x = x.reshape((len(x), -1))\n",
        "    return x\n",
        "\n",
        "def preproc_y(y, num_classes=10):\n",
        "    if y.shape[-1] == 1:\n",
        "        y = keras.utils.to_categorical(y, num_classes)\n",
        "    return y    "
      ],
      "execution_count": null,
      "outputs": []
    },
    {
      "cell_type": "code",
      "metadata": {
        "id": "lZdQDamGZaPe",
        "colab_type": "code",
        "colab": {}
      },
      "source": [
        "x_train, y_train = train\n",
        "x_test, y_test = test\n",
        "\n",
        "# Preproc the inputs\n",
        "x_train = preproc_x(x_train)\n",
        "x_test = preproc_x(x_test)\n",
        "\n",
        "# Preprc the outputs\n",
        "y_train = preproc_y(y_train)\n",
        "y_test = preproc_y(y_test)"
      ],
      "execution_count": null,
      "outputs": []
    },
    {
      "cell_type": "code",
      "metadata": {
        "id": "bYwMmQBLZaPg",
        "colab_type": "code",
        "colab": {}
      },
      "source": [
        "\n",
        "from keras.layers import BatchNormalization\n",
        "\n",
        "\"\"\"\n",
        "建立神經網路，並加入 BN layer\n",
        "\"\"\"\n",
        "def build_mlp(input_shape, output_units=10, num_neurons=[512, 256, 128]):\n",
        "    input_layer = keras.layers.Input(input_shape)\n",
        "    \n",
        "    for i, n_units in enumerate(num_neurons):\n",
        "        if i == 0:\n",
        "            x = keras.layers.Dense(units=n_units, \n",
        "                                   activation=\"relu\", \n",
        "                                   name=\"hidden_layer\"+str(i+1))(input_layer)\n",
        "            x = BatchNormalization()(x)\n",
        "        else:\n",
        "            x = keras.layers.Dense(units=n_units, \n",
        "                                   activation=\"relu\", \n",
        "                                   name=\"hidden_layer\"+str(i+1))(x)\n",
        "            x = BatchNormalization()(x)\n",
        "    \n",
        "    out = keras.layers.Dense(units=output_units, activation=\"softmax\", name=\"output\")(x)\n",
        "    \n",
        "    model = keras.models.Model(inputs=[input_layer], outputs=[out])\n",
        "    return model"
      ],
      "execution_count": null,
      "outputs": []
    },
    {
      "cell_type": "code",
      "metadata": {
        "id": "V269qxSdZaPi",
        "colab_type": "code",
        "colab": {}
      },
      "source": [
        "\"\"\"Code Here\n",
        "設定超參數\n",
        "\"\"\"\n",
        "LEARNING_RATE = 1e-3\n",
        "EPOCHS = 50\n",
        "BATCH_SIZE = 1024\n",
        "MOMENTUM = 0.95"
      ],
      "execution_count": null,
      "outputs": []
    },
    {
      "cell_type": "code",
      "metadata": {
        "id": "T6d1hRIpZaPk",
        "colab_type": "code",
        "colab": {}
      },
      "source": [
        "# 載入 Callbacks\n",
        "\"\"\"Code Here\n",
        "設定 callbacks: Earlystop\n",
        "\"\"\"\n",
        "\"\"\"\n",
        "# 載入 Callbacks, 並將 monitor 設定為監控 validation loss\n",
        "\"\"\"\n",
        "from keras.callbacks import EarlyStopping\n",
        "\n",
        "# 修改為validation accuray\n",
        "earlystop5 = EarlyStopping(monitor=\"val_accuracy\", \n",
        "              patience=5, \n",
        "              verbose=1\n",
        "              )\n",
        "earlystop10 = EarlyStopping(monitor=\"val_accuracy\", \n",
        "              patience=10, \n",
        "              verbose=1\n",
        "              )\n",
        "earlystop25 = EarlyStopping(monitor=\"val_accuracy\", \n",
        "              patience=25, \n",
        "              verbose=1\n",
        "              )\n"
      ],
      "execution_count": null,
      "outputs": []
    },
    {
      "cell_type": "code",
      "metadata": {
        "id": "Jrb2fR9dnnzB",
        "colab_type": "code",
        "colab": {
          "base_uri": "https://localhost:8080/",
          "height": 1000
        },
        "outputId": "5e858081-c330-44f5-9cb3-a088ec7c1fed"
      },
      "source": [
        "results = {}\n",
        "\"\"\"Code Here\n",
        "撰寫你的訓練流程並將結果用 dictionary 紀錄\n",
        "\"\"\"\n",
        "model = build_mlp(input_shape=x_train.shape[1:])\n",
        "model.summary()\n",
        "optimizer = keras.optimizers.SGD(lr=LEARNING_RATE, nesterov=True, momentum=MOMENTUM)\n",
        "model.compile(loss=\"categorical_crossentropy\", metrics=[\"accuracy\"], optimizer=optimizer)\n",
        "\n",
        "model.fit(x_train, y_train, \n",
        "          epochs=EPOCHS, \n",
        "          batch_size=BATCH_SIZE, \n",
        "          validation_data=(x_test, y_test), \n",
        "          shuffle=True,\n",
        "          callbacks=[earlystop10]\n",
        "         )\n",
        "\n",
        "# Collect results\n",
        "train_loss = model.history.history[\"loss\"]\n",
        "valid_loss = model.history.history[\"val_loss\"]\n",
        "train_acc = model.history.history[\"accuracy\"]\n",
        "valid_acc = model.history.history[\"val_accuracy\"]"
      ],
      "execution_count": null,
      "outputs": [
        {
          "output_type": "stream",
          "text": [
            "Model: \"functional_1\"\n",
            "_________________________________________________________________\n",
            "Layer (type)                 Output Shape              Param #   \n",
            "=================================================================\n",
            "input_1 (InputLayer)         [(None, 3072)]            0         \n",
            "_________________________________________________________________\n",
            "hidden_layer1 (Dense)        (None, 512)               1573376   \n",
            "_________________________________________________________________\n",
            "batch_normalization (BatchNo (None, 512)               2048      \n",
            "_________________________________________________________________\n",
            "hidden_layer2 (Dense)        (None, 256)               131328    \n",
            "_________________________________________________________________\n",
            "batch_normalization_1 (Batch (None, 256)               1024      \n",
            "_________________________________________________________________\n",
            "hidden_layer3 (Dense)        (None, 128)               32896     \n",
            "_________________________________________________________________\n",
            "batch_normalization_2 (Batch (None, 128)               512       \n",
            "_________________________________________________________________\n",
            "output (Dense)               (None, 10)                1290      \n",
            "=================================================================\n",
            "Total params: 1,742,474\n",
            "Trainable params: 1,740,682\n",
            "Non-trainable params: 1,792\n",
            "_________________________________________________________________\n",
            "Epoch 1/50\n",
            "49/49 [==============================] - 8s 168ms/step - loss: 2.2065 - accuracy: 0.2789 - val_loss: 2.1436 - val_accuracy: 0.1939\n",
            "Epoch 2/50\n",
            "49/49 [==============================] - 8s 162ms/step - loss: 1.7313 - accuracy: 0.3948 - val_loss: 2.0021 - val_accuracy: 0.2860\n",
            "Epoch 3/50\n",
            "49/49 [==============================] - 8s 161ms/step - loss: 1.6108 - accuracy: 0.4360 - val_loss: 1.8475 - val_accuracy: 0.3477\n",
            "Epoch 4/50\n",
            "49/49 [==============================] - 8s 164ms/step - loss: 1.5385 - accuracy: 0.4608 - val_loss: 1.7316 - val_accuracy: 0.4015\n",
            "Epoch 5/50\n",
            "49/49 [==============================] - 8s 161ms/step - loss: 1.4833 - accuracy: 0.4799 - val_loss: 1.6567 - val_accuracy: 0.4260\n",
            "Epoch 6/50\n",
            "49/49 [==============================] - 8s 161ms/step - loss: 1.4400 - accuracy: 0.4956 - val_loss: 1.5954 - val_accuracy: 0.4427\n",
            "Epoch 7/50\n",
            "49/49 [==============================] - 8s 159ms/step - loss: 1.4000 - accuracy: 0.5096 - val_loss: 1.5506 - val_accuracy: 0.4555\n",
            "Epoch 8/50\n",
            "49/49 [==============================] - 8s 160ms/step - loss: 1.3660 - accuracy: 0.5223 - val_loss: 1.5199 - val_accuracy: 0.4667\n",
            "Epoch 9/50\n",
            "49/49 [==============================] - 8s 160ms/step - loss: 1.3336 - accuracy: 0.5356 - val_loss: 1.4972 - val_accuracy: 0.4713\n",
            "Epoch 10/50\n",
            "49/49 [==============================] - 8s 160ms/step - loss: 1.3045 - accuracy: 0.5442 - val_loss: 1.4886 - val_accuracy: 0.4751\n",
            "Epoch 11/50\n",
            "49/49 [==============================] - 8s 160ms/step - loss: 1.2778 - accuracy: 0.5549 - val_loss: 1.4810 - val_accuracy: 0.4789\n",
            "Epoch 12/50\n",
            "49/49 [==============================] - 8s 160ms/step - loss: 1.2502 - accuracy: 0.5655 - val_loss: 1.4670 - val_accuracy: 0.4807\n",
            "Epoch 13/50\n",
            "49/49 [==============================] - 8s 160ms/step - loss: 1.2242 - accuracy: 0.5761 - val_loss: 1.4729 - val_accuracy: 0.4815\n",
            "Epoch 14/50\n",
            "49/49 [==============================] - 8s 160ms/step - loss: 1.2015 - accuracy: 0.5829 - val_loss: 1.4647 - val_accuracy: 0.4867\n",
            "Epoch 15/50\n",
            "49/49 [==============================] - 8s 159ms/step - loss: 1.1770 - accuracy: 0.5930 - val_loss: 1.4583 - val_accuracy: 0.4867\n",
            "Epoch 16/50\n",
            "49/49 [==============================] - 8s 159ms/step - loss: 1.1544 - accuracy: 0.6015 - val_loss: 1.4471 - val_accuracy: 0.4876\n",
            "Epoch 17/50\n",
            "49/49 [==============================] - 8s 162ms/step - loss: 1.1312 - accuracy: 0.6101 - val_loss: 1.4592 - val_accuracy: 0.4853\n",
            "Epoch 18/50\n",
            "49/49 [==============================] - 8s 161ms/step - loss: 1.1083 - accuracy: 0.6211 - val_loss: 1.4522 - val_accuracy: 0.4918\n",
            "Epoch 19/50\n",
            "49/49 [==============================] - 8s 158ms/step - loss: 1.0870 - accuracy: 0.6293 - val_loss: 1.4476 - val_accuracy: 0.4938\n",
            "Epoch 20/50\n",
            "49/49 [==============================] - 8s 157ms/step - loss: 1.0657 - accuracy: 0.6373 - val_loss: 1.4617 - val_accuracy: 0.4867\n",
            "Epoch 21/50\n",
            "49/49 [==============================] - 8s 158ms/step - loss: 1.0429 - accuracy: 0.6462 - val_loss: 1.4496 - val_accuracy: 0.4961\n",
            "Epoch 22/50\n",
            "49/49 [==============================] - 8s 160ms/step - loss: 1.0225 - accuracy: 0.6541 - val_loss: 1.4516 - val_accuracy: 0.4897\n",
            "Epoch 23/50\n",
            "49/49 [==============================] - 8s 161ms/step - loss: 1.0032 - accuracy: 0.6595 - val_loss: 1.4606 - val_accuracy: 0.4943\n",
            "Epoch 24/50\n",
            "49/49 [==============================] - 8s 162ms/step - loss: 0.9847 - accuracy: 0.6675 - val_loss: 1.4525 - val_accuracy: 0.4993\n",
            "Epoch 25/50\n",
            "49/49 [==============================] - 8s 161ms/step - loss: 0.9621 - accuracy: 0.6761 - val_loss: 1.4647 - val_accuracy: 0.4928\n",
            "Epoch 26/50\n",
            "49/49 [==============================] - 8s 160ms/step - loss: 0.9425 - accuracy: 0.6833 - val_loss: 1.4722 - val_accuracy: 0.5007\n",
            "Epoch 27/50\n",
            "49/49 [==============================] - 8s 161ms/step - loss: 0.9214 - accuracy: 0.6926 - val_loss: 1.4617 - val_accuracy: 0.4960\n",
            "Epoch 28/50\n",
            "49/49 [==============================] - 8s 160ms/step - loss: 0.9007 - accuracy: 0.7018 - val_loss: 1.4703 - val_accuracy: 0.4992\n",
            "Epoch 29/50\n",
            "49/49 [==============================] - 8s 161ms/step - loss: 0.8809 - accuracy: 0.7090 - val_loss: 1.4935 - val_accuracy: 0.4950\n",
            "Epoch 30/50\n",
            "49/49 [==============================] - 8s 160ms/step - loss: 0.8630 - accuracy: 0.7154 - val_loss: 1.4751 - val_accuracy: 0.5013\n",
            "Epoch 31/50\n",
            "49/49 [==============================] - 8s 162ms/step - loss: 0.8422 - accuracy: 0.7239 - val_loss: 1.5010 - val_accuracy: 0.4903\n",
            "Epoch 32/50\n",
            "49/49 [==============================] - 8s 163ms/step - loss: 0.8233 - accuracy: 0.7302 - val_loss: 1.5046 - val_accuracy: 0.4952\n",
            "Epoch 33/50\n",
            "49/49 [==============================] - 8s 163ms/step - loss: 0.8026 - accuracy: 0.7396 - val_loss: 1.5104 - val_accuracy: 0.4956\n",
            "Epoch 34/50\n",
            "49/49 [==============================] - 8s 162ms/step - loss: 0.7846 - accuracy: 0.7457 - val_loss: 1.5010 - val_accuracy: 0.4999\n",
            "Epoch 35/50\n",
            "49/49 [==============================] - 8s 163ms/step - loss: 0.7668 - accuracy: 0.7545 - val_loss: 1.5070 - val_accuracy: 0.4981\n",
            "Epoch 36/50\n",
            "49/49 [==============================] - 8s 164ms/step - loss: 0.7479 - accuracy: 0.7624 - val_loss: 1.5202 - val_accuracy: 0.5000\n",
            "Epoch 37/50\n",
            "49/49 [==============================] - 8s 164ms/step - loss: 0.7296 - accuracy: 0.7678 - val_loss: 1.5409 - val_accuracy: 0.4953\n",
            "Epoch 38/50\n",
            "49/49 [==============================] - 8s 161ms/step - loss: 0.7121 - accuracy: 0.7756 - val_loss: 1.5503 - val_accuracy: 0.4956\n",
            "Epoch 39/50\n",
            "49/49 [==============================] - 8s 159ms/step - loss: 0.6933 - accuracy: 0.7824 - val_loss: 1.5460 - val_accuracy: 0.4989\n",
            "Epoch 40/50\n",
            "49/49 [==============================] - 8s 160ms/step - loss: 0.6732 - accuracy: 0.7923 - val_loss: 1.5792 - val_accuracy: 0.4887\n",
            "Epoch 00040: early stopping\n"
          ],
          "name": "stdout"
        }
      ]
    },
    {
      "cell_type": "code",
      "metadata": {
        "id": "1ewe1JhNZaPn",
        "colab_type": "code",
        "colab": {
          "base_uri": "https://localhost:8080/",
          "height": 545
        },
        "outputId": "64c0722f-d461-4280-dec4-9c050b932a5f"
      },
      "source": [
        "import matplotlib.pyplot as plt\n",
        "%matplotlib inline\n",
        "\"\"\"Code Here\n",
        "將結果繪出\n",
        "\"\"\"\n",
        "\n",
        "import matplotlib.pyplot as plt\n",
        "%matplotlib inline\n",
        "\n",
        "plt.plot(range(len(train_loss)), train_loss, label=\"train loss\")\n",
        "plt.plot(range(len(valid_loss)), valid_loss, label=\"valid loss\")\n",
        "plt.legend()\n",
        "plt.title(\"Loss\")\n",
        "plt.show()\n",
        "\n",
        "plt.plot(range(len(train_acc)), train_acc, label=\"train accuracy\")\n",
        "plt.plot(range(len(valid_acc)), valid_acc, label=\"valid accuracy\")\n",
        "plt.legend()\n",
        "plt.title(\"Accuracy-EarlyStop10\")\n",
        "plt.show()"
      ],
      "execution_count": null,
      "outputs": [
        {
          "output_type": "display_data",
          "data": {
            "image/png": "[encoded data removed]",
            "text/plain": [
              "<Figure size 432x288 with 1 Axes>"
            ]
          },
          "metadata": {
            "tags": [],
            "needs_background": "light"
          }
        },
        {
          "output_type": "display_data",
          "data": {
            "image/png": "[encoded data removed]",
            "text/plain": [
              "<Figure size 432x288 with 1 Axes>"
            ]
          },
          "metadata": {
            "tags": [],
            "needs_background": "light"
          }
        }
      ]
    },
    {
      "cell_type": "code",
      "metadata": {
        "id": "IqOkjYvbo4sl",
        "colab_type": "code",
        "colab": {
          "base_uri": "https://localhost:8080/",
          "height": 1000
        },
        "outputId": "2d8d1df4-e9e5-4f48-d79a-9d2a239fd743"
      },
      "source": [
        "results = {}\n",
        "\n",
        "model.fit(x_train, y_train, \n",
        "          epochs=EPOCHS, \n",
        "          batch_size=BATCH_SIZE, \n",
        "          validation_data=(x_test, y_test), \n",
        "          shuffle=True,\n",
        "          callbacks=[earlystop25]\n",
        "         )\n",
        "\n",
        "# Collect results\n",
        "train_loss = model.history.history[\"loss\"]\n",
        "valid_loss = model.history.history[\"val_loss\"]\n",
        "train_acc = model.history.history[\"accuracy\"]\n",
        "valid_acc = model.history.history[\"val_accuracy\"]"
      ],
      "execution_count": null,
      "outputs": [
        {
          "output_type": "stream",
          "text": [
            "Epoch 1/50\n",
            "49/49 [==============================] - 8s 160ms/step - loss: 0.4257 - accuracy: 0.8896 - val_loss: 1.7472 - val_accuracy: 0.4821\n",
            "Epoch 2/50\n",
            "49/49 [==============================] - 8s 159ms/step - loss: 0.4100 - accuracy: 0.8956 - val_loss: 1.7562 - val_accuracy: 0.4882\n",
            "Epoch 3/50\n",
            "49/49 [==============================] - 8s 159ms/step - loss: 0.3960 - accuracy: 0.8997 - val_loss: 1.7801 - val_accuracy: 0.4873\n",
            "Epoch 4/50\n",
            "49/49 [==============================] - 8s 162ms/step - loss: 0.3824 - accuracy: 0.9063 - val_loss: 1.7929 - val_accuracy: 0.4907\n",
            "Epoch 5/50\n",
            "49/49 [==============================] - 8s 161ms/step - loss: 0.3688 - accuracy: 0.9110 - val_loss: 1.7984 - val_accuracy: 0.4930\n",
            "Epoch 6/50\n",
            "49/49 [==============================] - 8s 160ms/step - loss: 0.3570 - accuracy: 0.9139 - val_loss: 1.8237 - val_accuracy: 0.4860\n",
            "Epoch 7/50\n",
            "49/49 [==============================] - 8s 161ms/step - loss: 0.3431 - accuracy: 0.9194 - val_loss: 1.8415 - val_accuracy: 0.4819\n",
            "Epoch 8/50\n",
            "49/49 [==============================] - 8s 161ms/step - loss: 0.3305 - accuracy: 0.9227 - val_loss: 1.8630 - val_accuracy: 0.4812\n",
            "Epoch 9/50\n",
            "49/49 [==============================] - 8s 160ms/step - loss: 0.3170 - accuracy: 0.9290 - val_loss: 1.8544 - val_accuracy: 0.4857\n",
            "Epoch 10/50\n",
            "49/49 [==============================] - 8s 160ms/step - loss: 0.3059 - accuracy: 0.9333 - val_loss: 1.8838 - val_accuracy: 0.4871\n",
            "Epoch 11/50\n",
            "49/49 [==============================] - 8s 159ms/step - loss: 0.2949 - accuracy: 0.9387 - val_loss: 1.9275 - val_accuracy: 0.4775\n",
            "Epoch 12/50\n",
            "49/49 [==============================] - 8s 161ms/step - loss: 0.2814 - accuracy: 0.9425 - val_loss: 1.9339 - val_accuracy: 0.4857\n",
            "Epoch 13/50\n",
            "49/49 [==============================] - 8s 161ms/step - loss: 0.2705 - accuracy: 0.9464 - val_loss: 1.9235 - val_accuracy: 0.4833\n",
            "Epoch 14/50\n",
            "49/49 [==============================] - 8s 159ms/step - loss: 0.2593 - accuracy: 0.9504 - val_loss: 1.9543 - val_accuracy: 0.4819\n",
            "Epoch 15/50\n",
            "49/49 [==============================] - 8s 161ms/step - loss: 0.2499 - accuracy: 0.9533 - val_loss: 1.9778 - val_accuracy: 0.4839\n",
            "Epoch 16/50\n",
            "49/49 [==============================] - 8s 161ms/step - loss: 0.2392 - accuracy: 0.9571 - val_loss: 1.9849 - val_accuracy: 0.4783\n",
            "Epoch 17/50\n",
            "49/49 [==============================] - 8s 160ms/step - loss: 0.2287 - accuracy: 0.9604 - val_loss: 2.0509 - val_accuracy: 0.4758\n",
            "Epoch 18/50\n",
            "49/49 [==============================] - 8s 162ms/step - loss: 0.2205 - accuracy: 0.9626 - val_loss: 2.0264 - val_accuracy: 0.4779\n",
            "Epoch 19/50\n",
            "49/49 [==============================] - 8s 164ms/step - loss: 0.2103 - accuracy: 0.9666 - val_loss: 2.0379 - val_accuracy: 0.4781\n",
            "Epoch 20/50\n",
            "49/49 [==============================] - 8s 164ms/step - loss: 0.2016 - accuracy: 0.9686 - val_loss: 2.0885 - val_accuracy: 0.4769\n",
            "Epoch 21/50\n",
            "49/49 [==============================] - 8s 164ms/step - loss: 0.1949 - accuracy: 0.9700 - val_loss: 2.0929 - val_accuracy: 0.4760\n",
            "Epoch 22/50\n",
            "49/49 [==============================] - 8s 163ms/step - loss: 0.1856 - accuracy: 0.9731 - val_loss: 2.0989 - val_accuracy: 0.4757\n",
            "Epoch 23/50\n",
            "49/49 [==============================] - 8s 163ms/step - loss: 0.1781 - accuracy: 0.9749 - val_loss: 2.1129 - val_accuracy: 0.4759\n",
            "Epoch 24/50\n",
            "49/49 [==============================] - 8s 163ms/step - loss: 0.1709 - accuracy: 0.9771 - val_loss: 2.1575 - val_accuracy: 0.4738\n",
            "Epoch 25/50\n",
            "49/49 [==============================] - 8s 162ms/step - loss: 0.1649 - accuracy: 0.9789 - val_loss: 2.1401 - val_accuracy: 0.4806\n",
            "Epoch 26/50\n",
            "49/49 [==============================] - 8s 159ms/step - loss: 0.1563 - accuracy: 0.9805 - val_loss: 2.1451 - val_accuracy: 0.4791\n",
            "Epoch 27/50\n",
            "49/49 [==============================] - 8s 161ms/step - loss: 0.1486 - accuracy: 0.9832 - val_loss: 2.1958 - val_accuracy: 0.4733\n",
            "Epoch 28/50\n",
            "49/49 [==============================] - 8s 160ms/step - loss: 0.1435 - accuracy: 0.9836 - val_loss: 2.1955 - val_accuracy: 0.4726\n",
            "Epoch 29/50\n",
            "49/49 [==============================] - 8s 161ms/step - loss: 0.1371 - accuracy: 0.9858 - val_loss: 2.2074 - val_accuracy: 0.4765\n",
            "Epoch 30/50\n",
            "49/49 [==============================] - 8s 160ms/step - loss: 0.1317 - accuracy: 0.9868 - val_loss: 2.2403 - val_accuracy: 0.4747\n",
            "Epoch 00030: early stopping\n"
          ],
          "name": "stdout"
        }
      ]
    },
    {
      "cell_type": "code",
      "metadata": {
        "colab_type": "code",
        "id": "njjsHiZPo9DK",
        "colab": {
          "base_uri": "https://localhost:8080/",
          "height": 545
        },
        "outputId": "b7d8ef01-6c54-4586-d146-89dea1e25d54"
      },
      "source": [
        "import matplotlib.pyplot as plt\n",
        "%matplotlib inline\n",
        "\"\"\"Code Here\n",
        "將結果繪出\n",
        "\"\"\"\n",
        "\n",
        "import matplotlib.pyplot as plt\n",
        "%matplotlib inline\n",
        "\n",
        "plt.plot(range(len(train_loss)), train_loss, label=\"train loss\")\n",
        "plt.plot(range(len(valid_loss)), valid_loss, label=\"valid loss\")\n",
        "plt.legend()\n",
        "plt.title(\"Loss\")\n",
        "plt.show()\n",
        "\n",
        "plt.plot(range(len(train_acc)), train_acc, label=\"train accuracy\")\n",
        "plt.plot(range(len(valid_acc)), valid_acc, label=\"valid accuracy\")\n",
        "plt.legend()\n",
        "plt.title(\"Accuracy-EarlyStop25\")\n",
        "plt.show()"
      ],
      "execution_count": null,
      "outputs": [
        {
          "output_type": "display_data",
          "data": {
            "image/png": "[encoded data removed]",
            "text/plain": [
              "<Figure size 432x288 with 1 Axes>"
            ]
          },
          "metadata": {
            "tags": [],
            "needs_background": "light"
          }
        },
        {
          "output_type": "display_data",
          "data": {
            "image/png": "[encoded data removed]",
            "text/plain": [
              "<Figure size 432x288 with 1 Axes>"
            ]
          },
          "metadata": {
            "tags": [],
            "needs_background": "light"
          }
        }
      ]
    }
  ]
}