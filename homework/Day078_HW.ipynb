{
  "nbformat": 4,
  "nbformat_minor": 0,
  "metadata": {
    "kernelspec": {
      "display_name": "Python 3",
      "language": "python",
      "name": "python3"
    },
    "language_info": {
      "codemirror_mode": {
        "name": "ipython",
        "version": 3
      },
      "file_extension": ".py",
      "mimetype": "text/x-python",
      "name": "python",
      "nbconvert_exporter": "python",
      "pygments_lexer": "ipython3",
      "version": "3.6.5"
    },
    "colab": {
      "name": "Day078_HW.ipynb",
      "provenance": [],
      "collapsed_sections": []
    },
    "accelerator": "GPU"
  },
  "cells": [
    {
      "cell_type": "markdown",
      "metadata": {
        "id": "YfddFNzFcejP",
        "colab_type": "text"
      },
      "source": [
        "## Work\n",
        "1. 請嘗試將 preproc_x 替換成以每筆資料的 min/max 進行標準化至 -1 ~ 1 間，再進行訓練\n",
        "2. 請嘗試將 mlp 疊更深 (e.g 5~10 層)，進行訓練後觀察 learning curve 的走勢\n",
        "3. (optional) 請改用 GPU 進行訓練 (如果你有 GPU 的話)，比較使用 CPU 與 GPU 的訓練速度"
      ]
    },
    {
      "cell_type": "code",
      "metadata": {
        "id": "h2753G6mcejQ",
        "colab_type": "code",
        "colab": {}
      },
      "source": [
        "## \n",
        "\"\"\"\n",
        "Your code here (optional)\n",
        "確認硬體資源\n",
        "\"\"\"\n"
      ],
      "execution_count": null,
      "outputs": []
    },
    {
      "cell_type": "code",
      "metadata": {
        "id": "QyLDpOUFcejT",
        "colab_type": "code",
        "colab": {}
      },
      "source": [
        "import os\n",
        "import keras\n",
        "\n",
        "# 請嘗試設定 GPU：os.environ\n"
      ],
      "execution_count": 1,
      "outputs": []
    },
    {
      "cell_type": "code",
      "metadata": {
        "id": "SgVAL_ZacejW",
        "colab_type": "code",
        "colab": {
          "base_uri": "https://localhost:8080/",
          "height": 52
        },
        "outputId": "971e9f71-d319-478e-fdb1-cd74d6cf2bf6"
      },
      "source": [
        "train, test = keras.datasets.cifar10.load_data()"
      ],
      "execution_count": 2,
      "outputs": [
        {
          "output_type": "stream",
          "text": [
            "Downloading data from https://www.cs.toronto.edu/~kriz/cifar-10-python.tar.gz\n",
            "170500096/170498071 [==============================] - 11s 0us/step\n"
          ],
          "name": "stdout"
        }
      ]
    },
    {
      "cell_type": "code",
      "metadata": {
        "id": "c88aQ6xrcejY",
        "colab_type": "code",
        "colab": {}
      },
      "source": [
        "import numpy as np\n",
        "\n",
        "## 資料前處理\n",
        "def preproc_x(x, flatten=True):\n",
        "    x = (x - np.min(x)) / (np.max(x) - np.min(x))\n",
        "    if flatten:\n",
        "        x = x.reshape((len(x), -1))\n",
        "    return x\n",
        "\n",
        "def preproc_y(y, num_classes=10):\n",
        "    if y.shape[-1] == 1:\n",
        "        y = keras.utils.to_categorical(y, num_classes)\n",
        "    return y"
      ],
      "execution_count": 3,
      "outputs": []
    },
    {
      "cell_type": "code",
      "metadata": {
        "id": "PzHJIt2rcejb",
        "colab_type": "code",
        "colab": {}
      },
      "source": [
        "x_train, y_train = train\n",
        "x_test, y_test = test\n",
        "\n",
        "# Preproc the inputs\n",
        "x_train = preproc_x(x_train)\n",
        "x_test = preproc_x(x_test)\n",
        "\n",
        "# Preprc the outputs\n",
        "y_train = preproc_y(y_train)\n",
        "y_test = preproc_y(y_test)"
      ],
      "execution_count": 4,
      "outputs": []
    },
    {
      "cell_type": "code",
      "metadata": {
        "id": "TCIiNLXScejd",
        "colab_type": "code",
        "colab": {
          "base_uri": "https://localhost:8080/",
          "height": 503
        },
        "outputId": "a242c695-4a00-4f41-9f7a-27033a87259e"
      },
      "source": [
        "\"\"\"Code Here\n",
        "建立你的神經網路\n",
        "\"\"\"\n",
        "# num_neurons增加到8層\n",
        "def build_mlp(input_shape, output_units=10, num_neurons=[512, 256, 128, 128, 128, 128, 128, 256]):\n",
        "    input_layer = keras.layers.Input(input_shape)\n",
        "    \n",
        "    for i, n_units in enumerate(num_neurons):\n",
        "        if i == 0:\n",
        "            x = keras.layers.Dense(units=n_units, activation=\"relu\", name=\"hidden_layer\"+str(i+1))(input_layer)\n",
        "        else:\n",
        "            x = keras.layers.Dense(units=n_units, activation=\"relu\", name=\"hidden_layer\"+str(i+1))(x)\n",
        "    \n",
        "    out = keras.layers.Dense(units=output_units, activation=\"softmax\", name=\"output\")(x)\n",
        "    \n",
        "    model = keras.models.Model(inputs=[input_layer], outputs=[out])\n",
        "    return model\n",
        "\n",
        "model = build_mlp(input_shape=x_train.shape[1:])\n",
        "model.summary()"
      ],
      "execution_count": 5,
      "outputs": [
        {
          "output_type": "stream",
          "text": [
            "Model: \"functional_1\"\n",
            "_________________________________________________________________\n",
            "Layer (type)                 Output Shape              Param #   \n",
            "=================================================================\n",
            "input_1 (InputLayer)         [(None, 3072)]            0         \n",
            "_________________________________________________________________\n",
            "hidden_layer1 (Dense)        (None, 512)               1573376   \n",
            "_________________________________________________________________\n",
            "hidden_layer2 (Dense)        (None, 256)               131328    \n",
            "_________________________________________________________________\n",
            "hidden_layer3 (Dense)        (None, 128)               32896     \n",
            "_________________________________________________________________\n",
            "hidden_layer4 (Dense)        (None, 128)               16512     \n",
            "_________________________________________________________________\n",
            "hidden_layer5 (Dense)        (None, 128)               16512     \n",
            "_________________________________________________________________\n",
            "hidden_layer6 (Dense)        (None, 128)               16512     \n",
            "_________________________________________________________________\n",
            "hidden_layer7 (Dense)        (None, 128)               16512     \n",
            "_________________________________________________________________\n",
            "hidden_layer8 (Dense)        (None, 256)               33024     \n",
            "_________________________________________________________________\n",
            "output (Dense)               (None, 10)                2570      \n",
            "=================================================================\n",
            "Total params: 1,839,242\n",
            "Trainable params: 1,839,242\n",
            "Non-trainable params: 0\n",
            "_________________________________________________________________\n"
          ],
          "name": "stdout"
        }
      ]
    },
    {
      "cell_type": "code",
      "metadata": {
        "id": "vh02fSe2cejf",
        "colab_type": "code",
        "colab": {}
      },
      "source": [
        "## 超參數設定\n",
        "LEARNING_RATE = 0.001\n",
        "EPOCHS = 100\n",
        "BATCH_SIZE = 256"
      ],
      "execution_count": 6,
      "outputs": []
    },
    {
      "cell_type": "code",
      "metadata": {
        "id": "AbCwbP2ycejj",
        "colab_type": "code",
        "colab": {}
      },
      "source": [
        "optimizer = keras.optimizers.Adam(lr=LEARNING_RATE)\n",
        "model.compile(loss=\"categorical_crossentropy\", metrics=[\"accuracy\"], optimizer=optimizer)"
      ],
      "execution_count": 7,
      "outputs": []
    },
    {
      "cell_type": "code",
      "metadata": {
        "id": "YqXxBh0Icejl",
        "colab_type": "code",
        "colab": {
          "base_uri": "https://localhost:8080/",
          "height": 1000
        },
        "outputId": "397cf03c-e7ac-4a9c-db75-33e8a1de291e"
      },
      "source": [
        "model.fit(x_train, y_train, \n",
        "          epochs=EPOCHS, \n",
        "          batch_size=BATCH_SIZE, \n",
        "          validation_data=(x_test, y_test), \n",
        "          shuffle=True)"
      ],
      "execution_count": 8,
      "outputs": [
        {
          "output_type": "stream",
          "text": [
            "Epoch 1/100\n",
            "196/196 [==============================] - 2s 11ms/step - loss: 1.9618 - accuracy: 0.2705 - val_loss: 1.8249 - val_accuracy: 0.3491\n",
            "Epoch 2/100\n",
            "196/196 [==============================] - 2s 9ms/step - loss: 1.7617 - accuracy: 0.3603 - val_loss: 1.8289 - val_accuracy: 0.3496\n",
            "Epoch 3/100\n",
            "196/196 [==============================] - 2s 9ms/step - loss: 1.6741 - accuracy: 0.3938 - val_loss: 1.6150 - val_accuracy: 0.4217\n",
            "Epoch 4/100\n",
            "196/196 [==============================] - 2s 9ms/step - loss: 1.6251 - accuracy: 0.4133 - val_loss: 1.5718 - val_accuracy: 0.4302\n",
            "Epoch 5/100\n",
            "196/196 [==============================] - 2s 9ms/step - loss: 1.5626 - accuracy: 0.4371 - val_loss: 1.5708 - val_accuracy: 0.4400\n",
            "Epoch 6/100\n",
            "196/196 [==============================] - 2s 9ms/step - loss: 1.5226 - accuracy: 0.4532 - val_loss: 1.5101 - val_accuracy: 0.4658\n",
            "Epoch 7/100\n",
            "196/196 [==============================] - 2s 9ms/step - loss: 1.4956 - accuracy: 0.4632 - val_loss: 1.7037 - val_accuracy: 0.3972\n",
            "Epoch 8/100\n",
            "196/196 [==============================] - 2s 9ms/step - loss: 1.4669 - accuracy: 0.4738 - val_loss: 1.4979 - val_accuracy: 0.4661\n",
            "Epoch 9/100\n",
            "196/196 [==============================] - 2s 9ms/step - loss: 1.4411 - accuracy: 0.4795 - val_loss: 1.4948 - val_accuracy: 0.4672\n",
            "Epoch 10/100\n",
            "196/196 [==============================] - 2s 9ms/step - loss: 1.4114 - accuracy: 0.4925 - val_loss: 1.5485 - val_accuracy: 0.4422\n",
            "Epoch 11/100\n",
            "196/196 [==============================] - 2s 9ms/step - loss: 1.3818 - accuracy: 0.5021 - val_loss: 1.4134 - val_accuracy: 0.4957\n",
            "Epoch 12/100\n",
            "196/196 [==============================] - 2s 9ms/step - loss: 1.3595 - accuracy: 0.5122 - val_loss: 1.4188 - val_accuracy: 0.4919\n",
            "Epoch 13/100\n",
            "196/196 [==============================] - 2s 9ms/step - loss: 1.3335 - accuracy: 0.5206 - val_loss: 1.4556 - val_accuracy: 0.4755\n",
            "Epoch 14/100\n",
            "196/196 [==============================] - 2s 9ms/step - loss: 1.3178 - accuracy: 0.5261 - val_loss: 1.4670 - val_accuracy: 0.4845\n",
            "Epoch 15/100\n",
            "196/196 [==============================] - 2s 9ms/step - loss: 1.2958 - accuracy: 0.5328 - val_loss: 1.3980 - val_accuracy: 0.5008\n",
            "Epoch 16/100\n",
            "196/196 [==============================] - 2s 9ms/step - loss: 1.2729 - accuracy: 0.5433 - val_loss: 1.4312 - val_accuracy: 0.4956\n",
            "Epoch 17/100\n",
            "196/196 [==============================] - 2s 9ms/step - loss: 1.2461 - accuracy: 0.5512 - val_loss: 1.4583 - val_accuracy: 0.4894\n",
            "Epoch 18/100\n",
            "196/196 [==============================] - 2s 9ms/step - loss: 1.2304 - accuracy: 0.5575 - val_loss: 1.4392 - val_accuracy: 0.4948\n",
            "Epoch 19/100\n",
            "196/196 [==============================] - 2s 9ms/step - loss: 1.2166 - accuracy: 0.5638 - val_loss: 1.4623 - val_accuracy: 0.4957\n",
            "Epoch 20/100\n",
            "196/196 [==============================] - 2s 9ms/step - loss: 1.1949 - accuracy: 0.5703 - val_loss: 1.4167 - val_accuracy: 0.5023\n",
            "Epoch 21/100\n",
            "196/196 [==============================] - 2s 9ms/step - loss: 1.1760 - accuracy: 0.5769 - val_loss: 1.3963 - val_accuracy: 0.5146\n",
            "Epoch 22/100\n",
            "196/196 [==============================] - 2s 9ms/step - loss: 1.1486 - accuracy: 0.5882 - val_loss: 1.4027 - val_accuracy: 0.5145\n",
            "Epoch 23/100\n",
            "196/196 [==============================] - 2s 9ms/step - loss: 1.1370 - accuracy: 0.5902 - val_loss: 1.4138 - val_accuracy: 0.5191\n",
            "Epoch 24/100\n",
            "196/196 [==============================] - 2s 9ms/step - loss: 1.1218 - accuracy: 0.5947 - val_loss: 1.4461 - val_accuracy: 0.5003\n",
            "Epoch 25/100\n",
            "196/196 [==============================] - 2s 9ms/step - loss: 1.1162 - accuracy: 0.5985 - val_loss: 1.4458 - val_accuracy: 0.5056\n",
            "Epoch 26/100\n",
            "196/196 [==============================] - 2s 9ms/step - loss: 1.0735 - accuracy: 0.6134 - val_loss: 1.4335 - val_accuracy: 0.5121\n",
            "Epoch 27/100\n",
            "196/196 [==============================] - 2s 9ms/step - loss: 1.0763 - accuracy: 0.6117 - val_loss: 1.4598 - val_accuracy: 0.5073\n",
            "Epoch 28/100\n",
            "196/196 [==============================] - 2s 9ms/step - loss: 1.0451 - accuracy: 0.6237 - val_loss: 1.4901 - val_accuracy: 0.5004\n",
            "Epoch 29/100\n",
            "196/196 [==============================] - 2s 9ms/step - loss: 1.0383 - accuracy: 0.6249 - val_loss: 1.4166 - val_accuracy: 0.5182\n",
            "Epoch 30/100\n",
            "196/196 [==============================] - 2s 9ms/step - loss: 1.0099 - accuracy: 0.6357 - val_loss: 1.4309 - val_accuracy: 0.5145\n",
            "Epoch 31/100\n",
            "196/196 [==============================] - 2s 9ms/step - loss: 1.0026 - accuracy: 0.6372 - val_loss: 1.5203 - val_accuracy: 0.4998\n",
            "Epoch 32/100\n",
            "196/196 [==============================] - 2s 9ms/step - loss: 0.9971 - accuracy: 0.6407 - val_loss: 1.4420 - val_accuracy: 0.5200\n",
            "Epoch 33/100\n",
            "196/196 [==============================] - 2s 9ms/step - loss: 0.9692 - accuracy: 0.6489 - val_loss: 1.5058 - val_accuracy: 0.5164\n",
            "Epoch 34/100\n",
            "196/196 [==============================] - 2s 9ms/step - loss: 0.9603 - accuracy: 0.6535 - val_loss: 1.5376 - val_accuracy: 0.5066\n",
            "Epoch 35/100\n",
            "196/196 [==============================] - 2s 9ms/step - loss: 0.9388 - accuracy: 0.6568 - val_loss: 1.5794 - val_accuracy: 0.5070\n",
            "Epoch 36/100\n",
            "196/196 [==============================] - 2s 9ms/step - loss: 0.9225 - accuracy: 0.6673 - val_loss: 1.4839 - val_accuracy: 0.5157\n",
            "Epoch 37/100\n",
            "196/196 [==============================] - 2s 9ms/step - loss: 0.8995 - accuracy: 0.6740 - val_loss: 1.5976 - val_accuracy: 0.5019\n",
            "Epoch 38/100\n",
            "196/196 [==============================] - 2s 9ms/step - loss: 0.8891 - accuracy: 0.6784 - val_loss: 1.5293 - val_accuracy: 0.5111\n",
            "Epoch 39/100\n",
            "196/196 [==============================] - 2s 9ms/step - loss: 0.8752 - accuracy: 0.6831 - val_loss: 1.5988 - val_accuracy: 0.5091\n",
            "Epoch 40/100\n",
            "196/196 [==============================] - 2s 9ms/step - loss: 0.8796 - accuracy: 0.6811 - val_loss: 1.5655 - val_accuracy: 0.5184\n",
            "Epoch 41/100\n",
            "196/196 [==============================] - 2s 9ms/step - loss: 0.8561 - accuracy: 0.6892 - val_loss: 1.5528 - val_accuracy: 0.5114\n",
            "Epoch 42/100\n",
            "196/196 [==============================] - 2s 9ms/step - loss: 0.8348 - accuracy: 0.6992 - val_loss: 1.5994 - val_accuracy: 0.5131\n",
            "Epoch 43/100\n",
            "196/196 [==============================] - 2s 9ms/step - loss: 0.8272 - accuracy: 0.6996 - val_loss: 1.6281 - val_accuracy: 0.5165\n",
            "Epoch 44/100\n",
            "196/196 [==============================] - 2s 9ms/step - loss: 0.8091 - accuracy: 0.7064 - val_loss: 1.6506 - val_accuracy: 0.5154\n",
            "Epoch 45/100\n",
            "196/196 [==============================] - 2s 9ms/step - loss: 0.7927 - accuracy: 0.7117 - val_loss: 1.6746 - val_accuracy: 0.5151\n",
            "Epoch 46/100\n",
            "196/196 [==============================] - 2s 9ms/step - loss: 0.7901 - accuracy: 0.7126 - val_loss: 1.7053 - val_accuracy: 0.5085\n",
            "Epoch 47/100\n",
            "196/196 [==============================] - 2s 9ms/step - loss: 0.7825 - accuracy: 0.7146 - val_loss: 1.7289 - val_accuracy: 0.5124\n",
            "Epoch 48/100\n",
            "196/196 [==============================] - 2s 9ms/step - loss: 0.7601 - accuracy: 0.7231 - val_loss: 1.7295 - val_accuracy: 0.5074\n",
            "Epoch 49/100\n",
            "196/196 [==============================] - 2s 9ms/step - loss: 0.7631 - accuracy: 0.7219 - val_loss: 1.8535 - val_accuracy: 0.5082\n",
            "Epoch 50/100\n",
            "196/196 [==============================] - 2s 9ms/step - loss: 0.7408 - accuracy: 0.7312 - val_loss: 1.7075 - val_accuracy: 0.5081\n",
            "Epoch 51/100\n",
            "196/196 [==============================] - 2s 9ms/step - loss: 0.7240 - accuracy: 0.7357 - val_loss: 1.8364 - val_accuracy: 0.5042\n",
            "Epoch 52/100\n",
            "196/196 [==============================] - 2s 9ms/step - loss: 0.7107 - accuracy: 0.7423 - val_loss: 1.8010 - val_accuracy: 0.5111\n",
            "Epoch 53/100\n",
            "196/196 [==============================] - 2s 9ms/step - loss: 0.7158 - accuracy: 0.7392 - val_loss: 1.8249 - val_accuracy: 0.5154\n",
            "Epoch 54/100\n",
            "196/196 [==============================] - 2s 9ms/step - loss: 0.6809 - accuracy: 0.7504 - val_loss: 1.8574 - val_accuracy: 0.5019\n",
            "Epoch 55/100\n",
            "196/196 [==============================] - 2s 9ms/step - loss: 0.6917 - accuracy: 0.7468 - val_loss: 1.8414 - val_accuracy: 0.5051\n",
            "Epoch 56/100\n",
            "196/196 [==============================] - 2s 9ms/step - loss: 0.6770 - accuracy: 0.7542 - val_loss: 1.8966 - val_accuracy: 0.5047\n",
            "Epoch 57/100\n",
            "196/196 [==============================] - 2s 10ms/step - loss: 0.6678 - accuracy: 0.7561 - val_loss: 1.9592 - val_accuracy: 0.5015\n",
            "Epoch 58/100\n",
            "196/196 [==============================] - 2s 10ms/step - loss: 0.6672 - accuracy: 0.7580 - val_loss: 1.9595 - val_accuracy: 0.5013\n",
            "Epoch 59/100\n",
            "196/196 [==============================] - 2s 10ms/step - loss: 0.6480 - accuracy: 0.7636 - val_loss: 1.9280 - val_accuracy: 0.5031\n",
            "Epoch 60/100\n",
            "196/196 [==============================] - 2s 9ms/step - loss: 0.6250 - accuracy: 0.7712 - val_loss: 2.0498 - val_accuracy: 0.4990\n",
            "Epoch 61/100\n",
            "196/196 [==============================] - 2s 10ms/step - loss: 0.6301 - accuracy: 0.7717 - val_loss: 2.0275 - val_accuracy: 0.5050\n",
            "Epoch 62/100\n",
            "196/196 [==============================] - 2s 10ms/step - loss: 0.6043 - accuracy: 0.7797 - val_loss: 2.1159 - val_accuracy: 0.5071\n",
            "Epoch 63/100\n",
            "196/196 [==============================] - 2s 10ms/step - loss: 0.6159 - accuracy: 0.7751 - val_loss: 2.0562 - val_accuracy: 0.5119\n",
            "Epoch 64/100\n",
            "196/196 [==============================] - 2s 10ms/step - loss: 0.6075 - accuracy: 0.7784 - val_loss: 2.0499 - val_accuracy: 0.4974\n",
            "Epoch 65/100\n",
            "196/196 [==============================] - 2s 10ms/step - loss: 0.5936 - accuracy: 0.7826 - val_loss: 2.0888 - val_accuracy: 0.5035\n",
            "Epoch 66/100\n",
            "196/196 [==============================] - 2s 9ms/step - loss: 0.5969 - accuracy: 0.7840 - val_loss: 2.0953 - val_accuracy: 0.5008\n",
            "Epoch 67/100\n",
            "196/196 [==============================] - 2s 9ms/step - loss: 0.5731 - accuracy: 0.7925 - val_loss: 2.1134 - val_accuracy: 0.5051\n",
            "Epoch 68/100\n",
            "196/196 [==============================] - 2s 9ms/step - loss: 0.5746 - accuracy: 0.7918 - val_loss: 2.1771 - val_accuracy: 0.5019\n",
            "Epoch 69/100\n",
            "196/196 [==============================] - 2s 9ms/step - loss: 0.5460 - accuracy: 0.8018 - val_loss: 2.2825 - val_accuracy: 0.5055\n",
            "Epoch 70/100\n",
            "196/196 [==============================] - 2s 9ms/step - loss: 0.5466 - accuracy: 0.8008 - val_loss: 2.2634 - val_accuracy: 0.4917\n",
            "Epoch 71/100\n",
            "196/196 [==============================] - 2s 9ms/step - loss: 0.5484 - accuracy: 0.7993 - val_loss: 2.3784 - val_accuracy: 0.5023\n",
            "Epoch 72/100\n",
            "196/196 [==============================] - 2s 9ms/step - loss: 0.5412 - accuracy: 0.8012 - val_loss: 2.2273 - val_accuracy: 0.5113\n",
            "Epoch 73/100\n",
            "196/196 [==============================] - 2s 9ms/step - loss: 0.5202 - accuracy: 0.8103 - val_loss: 2.2942 - val_accuracy: 0.5042\n",
            "Epoch 74/100\n",
            "196/196 [==============================] - 2s 9ms/step - loss: 0.5350 - accuracy: 0.8066 - val_loss: 2.3687 - val_accuracy: 0.4995\n",
            "Epoch 75/100\n",
            "196/196 [==============================] - 2s 9ms/step - loss: 0.5203 - accuracy: 0.8119 - val_loss: 2.3579 - val_accuracy: 0.5030\n",
            "Epoch 76/100\n",
            "196/196 [==============================] - 2s 9ms/step - loss: 0.5131 - accuracy: 0.8133 - val_loss: 2.3390 - val_accuracy: 0.5016\n",
            "Epoch 77/100\n",
            "196/196 [==============================] - 2s 9ms/step - loss: 0.5028 - accuracy: 0.8175 - val_loss: 2.4506 - val_accuracy: 0.4999\n",
            "Epoch 78/100\n",
            "196/196 [==============================] - 2s 9ms/step - loss: 0.5153 - accuracy: 0.8126 - val_loss: 2.3847 - val_accuracy: 0.4998\n",
            "Epoch 79/100\n",
            "196/196 [==============================] - 2s 9ms/step - loss: 0.5040 - accuracy: 0.8153 - val_loss: 2.4629 - val_accuracy: 0.4952\n",
            "Epoch 80/100\n",
            "196/196 [==============================] - 2s 9ms/step - loss: 0.4669 - accuracy: 0.8290 - val_loss: 2.5134 - val_accuracy: 0.5030\n",
            "Epoch 81/100\n",
            "196/196 [==============================] - 2s 9ms/step - loss: 0.5095 - accuracy: 0.8153 - val_loss: 2.4128 - val_accuracy: 0.5036\n",
            "Epoch 82/100\n",
            "196/196 [==============================] - 2s 9ms/step - loss: 0.4855 - accuracy: 0.8251 - val_loss: 2.3450 - val_accuracy: 0.5046\n",
            "Epoch 83/100\n",
            "196/196 [==============================] - 2s 9ms/step - loss: 0.4867 - accuracy: 0.8221 - val_loss: 2.5573 - val_accuracy: 0.4985\n",
            "Epoch 84/100\n",
            "196/196 [==============================] - 2s 9ms/step - loss: 0.4470 - accuracy: 0.8383 - val_loss: 2.4730 - val_accuracy: 0.5082\n",
            "Epoch 85/100\n",
            "196/196 [==============================] - 2s 9ms/step - loss: 0.4470 - accuracy: 0.8382 - val_loss: 2.5920 - val_accuracy: 0.4986\n",
            "Epoch 86/100\n",
            "196/196 [==============================] - 2s 9ms/step - loss: 0.4829 - accuracy: 0.8248 - val_loss: 2.6154 - val_accuracy: 0.5013\n",
            "Epoch 87/100\n",
            "196/196 [==============================] - 2s 9ms/step - loss: 0.4725 - accuracy: 0.8276 - val_loss: 2.5026 - val_accuracy: 0.5027\n",
            "Epoch 88/100\n",
            "196/196 [==============================] - 2s 9ms/step - loss: 0.4588 - accuracy: 0.8342 - val_loss: 2.6042 - val_accuracy: 0.5040\n",
            "Epoch 89/100\n",
            "196/196 [==============================] - 2s 9ms/step - loss: 0.4448 - accuracy: 0.8390 - val_loss: 2.6534 - val_accuracy: 0.4975\n",
            "Epoch 90/100\n",
            "196/196 [==============================] - 2s 9ms/step - loss: 0.4332 - accuracy: 0.8435 - val_loss: 2.6271 - val_accuracy: 0.5059\n",
            "Epoch 91/100\n",
            "196/196 [==============================] - 2s 9ms/step - loss: 0.4397 - accuracy: 0.8420 - val_loss: 2.5932 - val_accuracy: 0.4959\n",
            "Epoch 92/100\n",
            "196/196 [==============================] - 2s 9ms/step - loss: 0.4158 - accuracy: 0.8499 - val_loss: 2.7549 - val_accuracy: 0.5003\n",
            "Epoch 93/100\n",
            "196/196 [==============================] - 2s 9ms/step - loss: 0.4288 - accuracy: 0.8446 - val_loss: 2.6177 - val_accuracy: 0.4972\n",
            "Epoch 94/100\n",
            "196/196 [==============================] - 2s 9ms/step - loss: 0.4404 - accuracy: 0.8406 - val_loss: 2.6791 - val_accuracy: 0.4981\n",
            "Epoch 95/100\n",
            "196/196 [==============================] - 2s 9ms/step - loss: 0.4170 - accuracy: 0.8485 - val_loss: 2.7126 - val_accuracy: 0.4843\n",
            "Epoch 96/100\n",
            "196/196 [==============================] - 2s 9ms/step - loss: 0.3986 - accuracy: 0.8541 - val_loss: 2.7568 - val_accuracy: 0.4978\n",
            "Epoch 97/100\n",
            "196/196 [==============================] - 2s 9ms/step - loss: 0.4144 - accuracy: 0.8516 - val_loss: 2.7281 - val_accuracy: 0.5017\n",
            "Epoch 98/100\n",
            "196/196 [==============================] - 2s 9ms/step - loss: 0.4079 - accuracy: 0.8524 - val_loss: 2.8652 - val_accuracy: 0.4994\n",
            "Epoch 99/100\n",
            "196/196 [==============================] - 2s 9ms/step - loss: 0.4113 - accuracy: 0.8510 - val_loss: 2.8817 - val_accuracy: 0.4913\n",
            "Epoch 100/100\n",
            "196/196 [==============================] - 2s 9ms/step - loss: 0.3905 - accuracy: 0.8579 - val_loss: 2.8966 - val_accuracy: 0.5001\n"
          ],
          "name": "stdout"
        },
        {
          "output_type": "execute_result",
          "data": {
            "text/plain": [
              "<tensorflow.python.keras.callbacks.History at 0x7fc4795f3668>"
            ]
          },
          "metadata": {
            "tags": []
          },
          "execution_count": 8
        }
      ]
    },
    {
      "cell_type": "code",
      "metadata": {
        "id": "kH6tDz4mcejn",
        "colab_type": "code",
        "colab": {
          "base_uri": "https://localhost:8080/",
          "height": 545
        },
        "outputId": "0c53827e-dc4c-4527-f411-7dc18da25bc7"
      },
      "source": [
        "import matplotlib.pyplot as plt\n",
        "\n",
        "\n",
        "train_loss = model.history.history[\"loss\"]\n",
        "valid_loss = model.history.history[\"val_loss\"]\n",
        "\n",
        "train_acc = model.history.history[\"accuracy\"]\n",
        "valid_acc = model.history.history[\"val_accuracy\"]\n",
        "\n",
        "plt.plot(range(len(train_loss)), train_loss, label=\"train loss\")\n",
        "plt.plot(range(len(valid_loss)), valid_loss, label=\"valid loss\")\n",
        "plt.legend()\n",
        "plt.title(\"Loss\")\n",
        "plt.show()\n",
        "\n",
        "plt.plot(range(len(train_acc)), train_acc, label=\"train accuracy\")\n",
        "plt.plot(range(len(valid_acc)), valid_acc, label=\"valid accuracy\")\n",
        "plt.legend()\n",
        "plt.title(\"Accuracy\")\n",
        "plt.show()"
      ],
      "execution_count": 9,
      "outputs": [
        {
          "output_type": "display_data",
          "data": {
            "image/png": "[encoded data removed]",
            "text/plain": [
              "<Figure size 432x288 with 1 Axes>"
            ]
          },
          "metadata": {
            "tags": [],
            "needs_background": "light"
          }
        },
        {
          "output_type": "display_data",
          "data": {
            "image/png": "[encoded data removed]",
            "text/plain": [
              "<Figure size 432x288 with 1 Axes>"
            ]
          },
          "metadata": {
            "tags": [],
            "needs_background": "light"
          }
        }
      ]
    }
  ]
}