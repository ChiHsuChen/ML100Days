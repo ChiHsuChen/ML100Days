{
  "nbformat": 4,
  "nbformat_minor": 0,
  "metadata": {
    "kernelspec": {
      "display_name": "Python 3",
      "language": "python",
      "name": "python3"
    },
    "language_info": {
      "codemirror_mode": {
        "name": "ipython",
        "version": 3
      },
      "file_extension": ".py",
      "mimetype": "text/x-python",
      "name": "python",
      "nbconvert_exporter": "python",
      "pygments_lexer": "ipython3",
      "version": "3.6.2"
    },
    "colab": {
      "name": "Day_044_HW.ipynb",
      "provenance": [],
      "collapsed_sections": []
    }
  },
  "cells": [
    {
      "cell_type": "markdown",
      "metadata": {
        "id": "RvEeyrzXY4Mp",
        "colab_type": "text"
      },
      "source": [
        "## [範例重點]\n",
        "了解隨機森林的建模方法及其中超參數的意義"
      ]
    },
    {
      "cell_type": "code",
      "metadata": {
        "id": "mC_-0K_vY4Mq",
        "colab_type": "code",
        "colab": {}
      },
      "source": [
        "from sklearn import datasets, metrics\n",
        "from sklearn.ensemble import RandomForestClassifier\n",
        "from sklearn.model_selection import train_test_split"
      ],
      "execution_count": 1,
      "outputs": []
    },
    {
      "cell_type": "code",
      "metadata": {
        "id": "kK5X8D8UY4Mu",
        "colab_type": "code",
        "colab": {}
      },
      "source": [
        "# 讀取鳶尾花資料集\n",
        "iris = datasets.load_iris()\n",
        "\n",
        "# 切分訓練集/測試集\n",
        "x_train, x_test, y_train, y_test = train_test_split(iris.data, iris.target, test_size=0.25, random_state=4)\n",
        "\n",
        "# 建立模型 (使用 20 顆樹，每棵樹的最大深度為 4)\n",
        "clf = RandomForestClassifier(n_estimators=20, max_depth=4)\n",
        "\n",
        "# 訓練模型\n",
        "clf.fit(x_train, y_train)\n",
        "\n",
        "# 預測測試集\n",
        "y_pred = clf.predict(x_test)"
      ],
      "execution_count": 2,
      "outputs": []
    },
    {
      "cell_type": "code",
      "metadata": {
        "id": "T9LFBmaQY4Mx",
        "colab_type": "code",
        "colab": {
          "base_uri": "https://localhost:8080/",
          "height": 35
        },
        "outputId": "cf8ba112-9620-4ebe-f4f8-e7a2e282341e"
      },
      "source": [
        "acc = metrics.accuracy_score(y_test, y_pred)\n",
        "print(\"Accuracy: \", acc)"
      ],
      "execution_count": 3,
      "outputs": [
        {
          "output_type": "stream",
          "text": [
            "Accuracy:  0.9473684210526315\n"
          ],
          "name": "stdout"
        }
      ]
    },
    {
      "cell_type": "code",
      "metadata": {
        "id": "_Cy7y3I6Y4M0",
        "colab_type": "code",
        "colab": {
          "base_uri": "https://localhost:8080/",
          "height": 35
        },
        "outputId": "674acae2-619a-40eb-8cc7-09081665e765"
      },
      "source": [
        "print(iris.feature_names)"
      ],
      "execution_count": 4,
      "outputs": [
        {
          "output_type": "stream",
          "text": [
            "['sepal length (cm)', 'sepal width (cm)', 'petal length (cm)', 'petal width (cm)']\n"
          ],
          "name": "stdout"
        }
      ]
    },
    {
      "cell_type": "code",
      "metadata": {
        "id": "NubD_9zlY4M2",
        "colab_type": "code",
        "colab": {
          "base_uri": "https://localhost:8080/",
          "height": 35
        },
        "outputId": "9f550407-bb40-43fc-f4ed-557444ebb27d"
      },
      "source": [
        "print(\"Feature importance: \", clf.feature_importances_)"
      ],
      "execution_count": 5,
      "outputs": [
        {
          "output_type": "stream",
          "text": [
            "Feature importance:  [0.08230844 0.01606385 0.44742864 0.45419907]\n"
          ],
          "name": "stdout"
        }
      ]
    },
    {
      "cell_type": "markdown",
      "metadata": {
        "id": "1FKG9YQJY4M4",
        "colab_type": "text"
      },
      "source": [
        "## 作業\n",
        "\n",
        "1. 試著調整 RandomForestClassifier(...) 中的參數，並觀察是否會改變結果？\n",
        "2. 改用其他資料集 (boston, wine)，並與回歸模型與決策樹的結果進行比較"
      ]
    },
    {
      "cell_type": "code",
      "metadata": {
        "colab_type": "code",
        "id": "3RIVcH0FZKiY",
        "colab": {}
      },
      "source": [
        "# 1. 試著調整 RandomForestClassifier(...) 中的參數，並觀察是否會改變結果？\n",
        "# 讀取鳶尾花資料集\n",
        "iris = datasets.load_iris()\n",
        "\n",
        "# 切分訓練集/測試集\n",
        "x_train, x_test, y_train, y_test = train_test_split(iris.data, iris.target, test_size=0.25, random_state=4)\n",
        "\n",
        "# 建立模型 (使用 20 顆樹，每棵樹的最大深度為 10)\n",
        "clf = RandomForestClassifier(n_estimators=20, max_depth=10)\n",
        "\n",
        "# 訓練模型\n",
        "clf.fit(x_train, y_train)\n",
        "\n",
        "# 預測測試集\n",
        "y_pred = clf.predict(x_test)"
      ],
      "execution_count": 6,
      "outputs": []
    },
    {
      "cell_type": "code",
      "metadata": {
        "colab_type": "code",
        "id": "RP3h25aAZS4T",
        "colab": {
          "base_uri": "https://localhost:8080/",
          "height": 35
        },
        "outputId": "7f3983b0-aca2-47bd-a521-3d56fc66d5cd"
      },
      "source": [
        "acc = metrics.accuracy_score(y_test, y_pred)\n",
        "print(\"Accuracy: \", acc)"
      ],
      "execution_count": 7,
      "outputs": [
        {
          "output_type": "stream",
          "text": [
            "Accuracy:  0.9736842105263158\n"
          ],
          "name": "stdout"
        }
      ]
    },
    {
      "cell_type": "code",
      "metadata": {
        "id": "nNRMw4PoZXMb",
        "colab_type": "code",
        "colab": {}
      },
      "source": [
        "# 2. 改用其他資料集 (boston, wine)，並與回歸模型與決策樹的結果進行比較\n",
        "# 讀取鳶尾花資料集\n",
        "wine = datasets.load_wine()\n",
        "\n",
        "# 切分訓練集/測試集\n",
        "x_train, x_test, y_train, y_test = train_test_split(wine.data, wine.target, test_size=0.25, random_state=4)\n",
        "\n",
        "# 建立模型 (使用 20 顆樹，每棵樹的最大深度為 4)\n",
        "clf = RandomForestClassifier(n_estimators=20, max_depth=10)\n",
        "\n",
        "# 訓練模型\n",
        "clf.fit(x_train, y_train)\n",
        "\n",
        "# 預測測試集\n",
        "y_pred = clf.predict(x_test)"
      ],
      "execution_count": 8,
      "outputs": []
    },
    {
      "cell_type": "code",
      "metadata": {
        "colab_type": "code",
        "id": "2q4_UcHNZgoJ",
        "colab": {
          "base_uri": "https://localhost:8080/",
          "height": 35
        },
        "outputId": "702fdee9-5f2f-4b39-9786-cbf0d5f555b0"
      },
      "source": [
        "acc = metrics.accuracy_score(y_test, y_pred)\n",
        "print(\"Accuracy: \", acc)"
      ],
      "execution_count": 9,
      "outputs": [
        {
          "output_type": "stream",
          "text": [
            "Accuracy:  0.9777777777777777\n"
          ],
          "name": "stdout"
        }
      ]
    }
  ]
}