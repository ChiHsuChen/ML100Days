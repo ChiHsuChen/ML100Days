{
  "nbformat": 4,
  "nbformat_minor": 0,
  "metadata": {
    "kernelspec": {
      "display_name": "Python 3",
      "language": "python",
      "name": "python3"
    },
    "language_info": {
      "codemirror_mode": {
        "name": "ipython",
        "version": 3
      },
      "file_extension": ".py",
      "mimetype": "text/x-python",
      "name": "python",
      "nbconvert_exporter": "python",
      "pygments_lexer": "ipython3",
      "version": "3.6.2"
    },
    "colab": {
      "name": "Day_046_HW.ipynb",
      "provenance": [],
      "collapsed_sections": []
    }
  },
  "cells": [
    {
      "cell_type": "code",
      "metadata": {
        "id": "8CmZXJrTOxEQ",
        "colab_type": "code",
        "colab": {}
      },
      "source": [
        "from sklearn import datasets, metrics\n",
        "from sklearn.ensemble import GradientBoostingClassifier\n",
        "from sklearn.model_selection import train_test_split"
      ],
      "execution_count": 1,
      "outputs": []
    },
    {
      "cell_type": "code",
      "metadata": {
        "id": "uE4pZsKAOxEW",
        "colab_type": "code",
        "colab": {}
      },
      "source": [
        "# 讀取鳶尾花資料集\n",
        "iris = datasets.load_iris()\n",
        "\n",
        "# 切分訓練集/測試集\n",
        "x_train, x_test, y_train, y_test = train_test_split(iris.data, iris.target, test_size=0.25, random_state=4)\n",
        "\n",
        "# 建立模型\n",
        "clf = GradientBoostingClassifier()\n",
        "\n",
        "# 訓練模型\n",
        "clf.fit(x_train, y_train)\n",
        "\n",
        "# 預測測試集\n",
        "y_pred = clf.predict(x_test)"
      ],
      "execution_count": 2,
      "outputs": []
    },
    {
      "cell_type": "code",
      "metadata": {
        "id": "lYRb46rKOxEY",
        "colab_type": "code",
        "colab": {
          "base_uri": "https://localhost:8080/",
          "height": 35
        },
        "outputId": "cfa61254-0944-47eb-f735-636e38fdb026"
      },
      "source": [
        "acc = metrics.accuracy_score(y_test, y_pred)\n",
        "print(\"Acuuracy: \", acc)"
      ],
      "execution_count": 3,
      "outputs": [
        {
          "output_type": "stream",
          "text": [
            "Acuuracy:  0.9736842105263158\n"
          ],
          "name": "stdout"
        }
      ]
    },
    {
      "cell_type": "markdown",
      "metadata": {
        "id": "GjLCFRV2OxEb",
        "colab_type": "text"
      },
      "source": [
        "### 作業\n",
        "目前已經學過許多的模型，相信大家對整體流程應該比較掌握了，這次作業請改用**手寫辨識資料集**，步驟流程都是一樣的，請試著自己撰寫程式碼來完成所有步驟"
      ]
    },
    {
      "cell_type": "code",
      "metadata": {
        "id": "-MU_aGvuOxEc",
        "colab_type": "code",
        "colab": {}
      },
      "source": [
        "digits = datasets.load_digits()\n",
        "\n",
        "# 切分訓練集/測試集\n",
        "x_train, x_test, y_train, y_test = train_test_split(digits.data, digits.target, test_size=0.25, random_state=4)\n",
        "\n",
        "# 建立模型\n",
        "clf = GradientBoostingClassifier()\n",
        "\n",
        "# 訓練模型\n",
        "clf.fit(x_train, y_train)\n",
        "\n",
        "# 預測測試集\n",
        "y_pred = clf.predict(x_test)"
      ],
      "execution_count": 5,
      "outputs": []
    },
    {
      "cell_type": "code",
      "metadata": {
        "id": "ZoSEKKFnPWtm",
        "colab_type": "code",
        "colab": {
          "base_uri": "https://localhost:8080/",
          "height": 35
        },
        "outputId": "d61e2949-fcc4-4a85-a6f0-fabb9e3bd930"
      },
      "source": [
        "acc = metrics.accuracy_score(y_test, y_pred)\n",
        "print(\"Acuuracy: \", acc)"
      ],
      "execution_count": 6,
      "outputs": [
        {
          "output_type": "stream",
          "text": [
            "Acuuracy:  0.9666666666666667\n"
          ],
          "name": "stdout"
        }
      ]
    },
    {
      "cell_type": "code",
      "metadata": {
        "id": "QXCeldbWPpsu",
        "colab_type": "code",
        "colab": {
          "base_uri": "https://localhost:8080/",
          "height": 35
        },
        "outputId": "1f851f77-e4bf-4753-aee5-27053ee98670"
      },
      "source": [
        "print(y_pred[1])"
      ],
      "execution_count": 10,
      "outputs": [
        {
          "output_type": "stream",
          "text": [
            "7\n"
          ],
          "name": "stdout"
        }
      ]
    },
    {
      "cell_type": "code",
      "metadata": {
        "id": "jqGPKRoxPaSD",
        "colab_type": "code",
        "colab": {
          "base_uri": "https://localhost:8080/",
          "height": 104
        },
        "outputId": "d0d1d71e-4622-4513-d6af-a0de62d91d3d"
      },
      "source": [
        "print(x_test[1])\n",
        "print(y_test[1])"
      ],
      "execution_count": 11,
      "outputs": [
        {
          "output_type": "stream",
          "text": [
            "[ 0.  0.  1. 10. 16. 16.  1.  0.  0.  0.  9. 16. 13. 16.  1.  0.  0.  0.\n",
            "  0.  0.  5. 11.  0.  0.  0.  0.  0.  3. 12. 12.  5.  0.  0.  0.  7. 16.\n",
            " 16. 10.  4.  0.  0.  0.  3. 11. 13.  0.  0.  0.  0.  0.  0. 11.  5.  0.\n",
            "  0.  0.  0.  0.  0. 15.  0.  0.  0.  0.]\n",
            "7\n"
          ],
          "name": "stdout"
        }
      ]
    }
  ]
}